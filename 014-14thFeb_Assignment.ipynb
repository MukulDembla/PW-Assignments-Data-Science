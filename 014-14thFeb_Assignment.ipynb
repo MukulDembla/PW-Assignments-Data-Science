{
 "cells": [
  {
   "cell_type": "markdown",
   "id": "8b11241f-0135-4c2b-8fbd-3d5f4a0f54e9",
   "metadata": {},
   "source": [
    "## Q1. What is multithreading in python? Why is it used? Name the module used to handle threads in python."
   ]
  },
  {
   "cell_type": "markdown",
   "id": "4e691b7b-084d-47f3-99ce-07d1c30ec2eb",
   "metadata": {},
   "source": [
    "- Multithreading is a technique for concurrent program execution flow that uses shared resources with the main thread and multiple threads by thread switching.\n",
    "- The main thread is the one that executes the program.\n",
    "- This technique allows multiple threads to communicate with each other.\n",
    "###\n",
    "- We use multithreading to divide tasks into multiple subtasks for increase responsiveness.\n",
    "- It increase better CPU utilization and efficient resource usage.\n",
    "###\n",
    "- There are two modules to handle multithreading in python.\n",
    "  - thread - obsoleted\n",
    "  - threading - Currently used"
   ]
  },
  {
   "cell_type": "markdown",
   "id": "d5c433d5-c425-4310-8b75-c7603d61e535",
   "metadata": {},
   "source": [
    "## Q2. Why threading module used? Write the use of the following functions:\n",
    "    1. activeCount()\n",
    "    2. currentThread()\n",
    "    3. enumerate()"
   ]
  },
  {
   "cell_type": "markdown",
   "id": "7c790d3f-50ee-4ceb-b8bb-ab100cd01d5e",
   "metadata": {},
   "source": [
    "- 'threading' module is used to implement thread-based parallelism in a python program.\n",
    "- This module provides low-level primitives for working with multiple threads.\n",
    "###\n",
    "- 1. activeCount()\n",
    "    - Returns the count of active threads in the thread group and its subgroups.\n",
    "###\n",
    "- 2. currentThread()\n",
    "    - It is used to return the current Thread object, which corresponds to the caller's thread of control.\n",
    "###\n",
    "- 3. enumerate()\n",
    "    - Returns a list of the active thread objects."
   ]
  },
  {
   "cell_type": "markdown",
   "id": "03a7ecec-dbc9-47fd-8498-de8e76f6bab0",
   "metadata": {},
   "source": [
    "## Q3. Explain the following functions:\n",
    "    1. run()\n",
    "    2. start()\n",
    "    3. join()\n",
    "    4. isAlive()"
   ]
  },
  {
   "cell_type": "markdown",
   "id": "e60699d0-c1f9-4418-9318-6b5c8ff481f8",
   "metadata": {},
   "source": [
    "- 1. run()\n",
    "    - This method invokes the callable object passed to the object’s constructor.\n",
    "###\n",
    "- 2. start()\n",
    "    - Start the thread’s activity by calling run() method.\n",
    "###\n",
    "- 3. join()\n",
    "    - This blocks the calling thread until the thread whose join() method is called terminates.\n",
    "###\n",
    "- 4. isAlive()\n",
    "    - This method checks if a thread is still executing."
   ]
  },
  {
   "cell_type": "markdown",
   "id": "86de9770-f726-4655-870b-361029852aec",
   "metadata": {},
   "source": [
    "## Q4. Write a python program to create two threads. Thread one must print the list of squares and thread two must print the list of cubes"
   ]
  },
  {
   "cell_type": "code",
   "execution_count": 26,
   "id": "6888e402-f905-4ecb-9abd-be00c0cf4153",
   "metadata": {},
   "outputs": [
    {
     "name": "stdout",
     "output_type": "stream",
     "text": [
      "Square of 1 is 1\n",
      "Square of 2 is 4\n",
      "Square of 3 is 9\n",
      "Square of 4 is 16\n",
      "Square of 5 is 25\n",
      "Cube of 1 is 1\n",
      "Cube of 2 is 8\n",
      "Cube of 3 is 27\n",
      "Cube of 4 is 64\n",
      "Cube of 5 is 125\n"
     ]
    }
   ],
   "source": [
    "import threading\n",
    "\n",
    "def sq(n):\n",
    "    print('Square of %d is %d' %(n,n**2))\n",
    "    \n",
    "def cube(n):\n",
    "    print('Cube of %d is %d' %(n,n**3))\n",
    "    \n",
    "t1 = [threading.Thread(target=sq, args=(i,)) for i in range(1,6)]\n",
    "t2 = [threading.Thread(target=cube, args=(i,)) for i in range(1,6)]\n",
    "\n",
    "for t in t1 + t2:\n",
    "    t.start()"
   ]
  },
  {
   "cell_type": "markdown",
   "id": "9c081708-ee57-4fbe-878d-d6fca710e464",
   "metadata": {},
   "source": [
    "## Q5. State advantages and disadvantages of multithreading."
   ]
  },
  {
   "cell_type": "markdown",
   "id": "37487940-0e78-429c-9c47-48c2e0256a7e",
   "metadata": {},
   "source": [
    "- Advantages of multithreading\n",
    "    - Increased responsiveness\n",
    "    - Faster context switching\n",
    "    - Effective utilization of multiprocessor system\n",
    "    - Resource Sharing\n",
    "    - Enhanced throughput\n",
    "###\n",
    "- Disadvantages of multithreading\n",
    "    - Can negatively affect performance dur to context switch overhead.\n",
    "    - Multithreaded programs are difficult to implement and maintain.\n",
    "    - Proper synchronization is required.\n",
    "    - Due to resource dependencey, it can lead to deadlock.\n",
    "    - Single thread performance may get reduced."
   ]
  },
  {
   "cell_type": "markdown",
   "id": "eb0f36a3-2a5d-4fa8-893f-3ed59c9faeef",
   "metadata": {},
   "source": [
    "## Q6. Explain deadlocks and race conditions."
   ]
  },
  {
   "cell_type": "markdown",
   "id": "fe149634-b7c1-4e3d-91ca-3f3788ba6dd5",
   "metadata": {},
   "source": [
    "- Deadlock\n",
    "\n",
    "  - It is a condition in a system where a process cannot proceed because it needs to obtain a resource held by another process but it itself is holding a resource that that the other process needs.\n",
    "###\n",
    "- Race conditions\n",
    "  - When the final value of a shared variable is dependent on the sequence of execution of the thread the the condition is called race condition.\n"
   ]
  },
  {
   "cell_type": "code",
   "execution_count": null,
   "id": "c47038b1-64c6-4df0-a4a8-fa53af1928c8",
   "metadata": {},
   "outputs": [],
   "source": []
  }
 ],
 "metadata": {
  "kernelspec": {
   "display_name": "Python 3 (ipykernel)",
   "language": "python",
   "name": "python3"
  },
  "language_info": {
   "codemirror_mode": {
    "name": "ipython",
    "version": 3
   },
   "file_extension": ".py",
   "mimetype": "text/x-python",
   "name": "python",
   "nbconvert_exporter": "python",
   "pygments_lexer": "ipython3",
   "version": "3.10.8"
  }
 },
 "nbformat": 4,
 "nbformat_minor": 5
}
