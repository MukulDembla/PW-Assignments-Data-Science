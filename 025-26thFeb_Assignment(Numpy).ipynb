{
 "cells": [
  {
   "cell_type": "markdown",
   "id": "a79f5306-47c8-493a-8b99-08d2145448dd",
   "metadata": {
    "tags": []
   },
   "source": [
    "# Numpy Assignment"
   ]
  },
  {
   "cell_type": "code",
   "execution_count": 2,
   "id": "dd1f89ae-ca5f-42a4-b5ee-f1c275e3e7ca",
   "metadata": {},
   "outputs": [],
   "source": [
    "import numpy as np\n",
    "list_ = ['1', '2', '3', '4', '5']\n",
    "array_list = np.array(object=list_)"
   ]
  },
  {
   "cell_type": "markdown",
   "id": "d4ebabac-0a44-4a17-95af-6db40ff830b2",
   "metadata": {},
   "source": [
    "## Q1. Is there any difference in the data type of variables list_ and array_list? If there is then write a code to print the data types of both the variables."
   ]
  },
  {
   "cell_type": "markdown",
   "id": "1fbe0d2e-1a89-49f5-b62a-36ac23e61e6e",
   "metadata": {},
   "source": [
    "- Yes, the variable 'list_' and 'array_list_' are different."
   ]
  },
  {
   "cell_type": "code",
   "execution_count": 3,
   "id": "97917d64-f1c4-4b8b-b924-257d94d4fdaf",
   "metadata": {},
   "outputs": [
    {
     "name": "stdout",
     "output_type": "stream",
     "text": [
      "The datatype of variable list_ is <class 'list'>\n",
      "The datatype of array_list is <class 'numpy.ndarray'>\n"
     ]
    }
   ],
   "source": [
    "print(\"The datatype of variable list_ is\", type(list_))\n",
    "print(\"The datatype of array_list is\", type(array_list))"
   ]
  },
  {
   "cell_type": "markdown",
   "id": "a2a54b6d-87bf-439b-a656-a1651643d790",
   "metadata": {},
   "source": [
    "## Q2. Write a code to print the data type of each and every element of both the variables list_ and array_list."
   ]
  },
  {
   "cell_type": "code",
   "execution_count": 4,
   "id": "e456d637-9d47-4fed-91b3-d06eadb76d82",
   "metadata": {},
   "outputs": [
    {
     "name": "stdout",
     "output_type": "stream",
     "text": [
      "The datatype inside variable list_\n",
      "\tThe datatype is <class 'str'>\n",
      "\tThe datatype is <class 'str'>\n",
      "\tThe datatype is <class 'str'>\n",
      "\tThe datatype is <class 'str'>\n",
      "\tThe datatype is <class 'str'>\n",
      "The datatype inside array_list\n",
      "\tThe datatype is <class 'numpy.str_'>\n",
      "\tThe datatype is <class 'numpy.str_'>\n",
      "\tThe datatype is <class 'numpy.str_'>\n",
      "\tThe datatype is <class 'numpy.str_'>\n",
      "\tThe datatype is <class 'numpy.str_'>\n"
     ]
    }
   ],
   "source": [
    "print(\"The datatype inside variable list_\")\n",
    "for i in list_:\n",
    "    print(\"\\tThe datatype is\",type(i))\n",
    "\n",
    "print(\"The datatype inside array_list\")\n",
    "for i in array_list:\n",
    "    print(\"\\tThe datatype is\",type(i))"
   ]
  },
  {
   "cell_type": "markdown",
   "id": "685f7e76-4a6d-4c46-a524-a9226ffebe7b",
   "metadata": {},
   "source": [
    "## Q3.  Considering the following changes in the variable, array_list:\n",
    "####\n",
    "#### array_list = np.array(object = list_, dtype = int)\n",
    "####\n",
    "#### Will there be any difference in the data type of the elements present in both the variables, list_ and arra_list? If so then print the data types of each and every element present in both the variables, list_ and arra_list."
   ]
  },
  {
   "cell_type": "code",
   "execution_count": 5,
   "id": "0a7ad89b-063f-4e55-8b2d-73668b04ab88",
   "metadata": {},
   "outputs": [
    {
     "name": "stdout",
     "output_type": "stream",
     "text": [
      "The datatype inside variable list_\n",
      "\tThe datatype is <class 'str'>\n",
      "\tThe datatype is <class 'str'>\n",
      "\tThe datatype is <class 'str'>\n",
      "\tThe datatype is <class 'str'>\n",
      "\tThe datatype is <class 'str'>\n",
      "The datatype inside array_list\n",
      "\tThe datatype is <class 'numpy.int64'>\n",
      "\tThe datatype is <class 'numpy.int64'>\n",
      "\tThe datatype is <class 'numpy.int64'>\n",
      "\tThe datatype is <class 'numpy.int64'>\n",
      "\tThe datatype is <class 'numpy.int64'>\n"
     ]
    }
   ],
   "source": [
    "array_list = np.array(object=list_, dtype=int)\n",
    "\n",
    "print(\"The datatype inside variable list_\")\n",
    "for i in list_:\n",
    "    print(\"\\tThe datatype is\",type(i))\n",
    "\n",
    "print(\"The datatype inside array_list\")\n",
    "for i in array_list:\n",
    "    print(\"\\tThe datatype is\",type(i))"
   ]
  },
  {
   "cell_type": "markdown",
   "id": "98dfea8e-a505-40fd-8df7-738253c0bbae",
   "metadata": {},
   "source": [
    "- Yes, the datatype for the elements inside the arrya_list have changed."
   ]
  },
  {
   "cell_type": "code",
   "execution_count": 7,
   "id": "b85b7625-953c-4c5d-beef-23818ec8ef99",
   "metadata": {},
   "outputs": [],
   "source": [
    "import numpy as np\n",
    "num_list = [[1, 2, 3], [4, 5, 6]]\n",
    "num_array =np.array(object=num_list)"
   ]
  },
  {
   "cell_type": "code",
   "execution_count": 8,
   "id": "6c5fca70-4860-4c5f-93f1-a79b6fe0a6a1",
   "metadata": {},
   "outputs": [
    {
     "data": {
      "text/plain": [
       "array([[1, 2, 3],\n",
       "       [4, 5, 6]])"
      ]
     },
     "execution_count": 8,
     "metadata": {},
     "output_type": "execute_result"
    }
   ],
   "source": [
    "num_array"
   ]
  },
  {
   "cell_type": "markdown",
   "id": "1acd2dcc-b039-4ea8-8512-38f8fa044ca8",
   "metadata": {},
   "source": [
    "## Q4. Write a code to find the following characteristics of variable, num_array:\n",
    "#### (i) shape\n",
    "#### (ii) size"
   ]
  },
  {
   "cell_type": "code",
   "execution_count": 9,
   "id": "de188c47-1ef8-4ac1-b8c0-c0fc85a053c4",
   "metadata": {},
   "outputs": [
    {
     "data": {
      "text/plain": [
       "(2, 3)"
      ]
     },
     "execution_count": 9,
     "metadata": {},
     "output_type": "execute_result"
    }
   ],
   "source": [
    "np.shape(num_array)"
   ]
  },
  {
   "cell_type": "code",
   "execution_count": 10,
   "id": "c90916cb-6848-4166-94fc-fea0137b66ac",
   "metadata": {},
   "outputs": [
    {
     "data": {
      "text/plain": [
       "6"
      ]
     },
     "execution_count": 10,
     "metadata": {},
     "output_type": "execute_result"
    }
   ],
   "source": [
    "np.size(num_array)"
   ]
  },
  {
   "cell_type": "markdown",
   "id": "ea36f5f4-34ac-4acd-bd1d-beb5158fe4ab",
   "metadata": {},
   "source": [
    "## Q5. Write a code to create numpy array of 3*3 matrix containing zeros only, using a numpy array creation function. [Hint: The size of the array will be 9 and the shape will be (3,3).]"
   ]
  },
  {
   "cell_type": "code",
   "execution_count": 13,
   "id": "2982cbfc-2f58-446a-97c8-dd5d34d50d0c",
   "metadata": {},
   "outputs": [
    {
     "data": {
      "text/plain": [
       "array([[0., 0., 0.],\n",
       "       [0., 0., 0.],\n",
       "       [0., 0., 0.]])"
      ]
     },
     "execution_count": 13,
     "metadata": {},
     "output_type": "execute_result"
    }
   ],
   "source": [
    "np.zeros((3,3))"
   ]
  },
  {
   "cell_type": "markdown",
   "id": "4cff90ba-8c9c-4422-a337-3b4816ac306a",
   "metadata": {},
   "source": [
    "## Q6. Create an identity matrix of shape (5,5) using numpy functions? [Hint: An identity matrix is a matrix containing 1 diagonally and other elements will be 0.]"
   ]
  },
  {
   "cell_type": "code",
   "execution_count": 16,
   "id": "3e1799e8-7dc9-489b-823c-6074b219f851",
   "metadata": {},
   "outputs": [
    {
     "data": {
      "text/plain": [
       "array([[1., 0., 0., 0., 0.],\n",
       "       [0., 1., 0., 0., 0.],\n",
       "       [0., 0., 1., 0., 0.],\n",
       "       [0., 0., 0., 1., 0.],\n",
       "       [0., 0., 0., 0., 1.]])"
      ]
     },
     "execution_count": 16,
     "metadata": {},
     "output_type": "execute_result"
    }
   ],
   "source": [
    "np.eye(5)"
   ]
  },
  {
   "cell_type": "code",
   "execution_count": null,
   "id": "ffff8171-a545-4456-9b2d-8a0572780dba",
   "metadata": {},
   "outputs": [],
   "source": []
  }
 ],
 "metadata": {
  "kernelspec": {
   "display_name": "Python 3 (ipykernel)",
   "language": "python",
   "name": "python3"
  },
  "language_info": {
   "codemirror_mode": {
    "name": "ipython",
    "version": 3
   },
   "file_extension": ".py",
   "mimetype": "text/x-python",
   "name": "python",
   "nbconvert_exporter": "python",
   "pygments_lexer": "ipython3",
   "version": "3.10.8"
  }
 },
 "nbformat": 4,
 "nbformat_minor": 5
}
