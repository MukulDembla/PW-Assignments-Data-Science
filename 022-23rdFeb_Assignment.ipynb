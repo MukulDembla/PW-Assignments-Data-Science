{
 "cells": [
  {
   "cell_type": "markdown",
   "id": "14fc1c00-d3a0-4546-bd5a-0efba74419dc",
   "metadata": {},
   "source": [
    "# Pandas Basic Assignment"
   ]
  },
  {
   "cell_type": "markdown",
   "id": "d575f984-b306-43ce-86ff-ad306633e564",
   "metadata": {},
   "source": [
    "## Q1. Create a Pandas Series that contains the following data: 4, 8, 15, 16, 23, and 42. Then, print the series."
   ]
  },
  {
   "cell_type": "code",
   "execution_count": 1,
   "id": "8421aae6-68ed-4a61-9aec-4bd78c48f3da",
   "metadata": {},
   "outputs": [
    {
     "name": "stdout",
     "output_type": "stream",
     "text": [
      "<class 'pandas.core.series.Series'>\n",
      "0     4\n",
      "1     8\n",
      "2    15\n",
      "3    16\n",
      "4    23\n",
      "5    42\n",
      "dtype: int64\n"
     ]
    }
   ],
   "source": [
    "import pandas as pd\n",
    "\n",
    "pd_series = [4,8,15,16,23,42]\n",
    "df = pd.Series(pd_series)\n",
    "\n",
    "print(type(df))\n",
    "print(df)"
   ]
  },
  {
   "cell_type": "markdown",
   "id": "a00c1f11-87e9-4708-92f8-41227fd9a986",
   "metadata": {},
   "source": [
    "## Q2. Create a variable of list type containing 10 elements in it, and apply pandas.Series function on the variable print it."
   ]
  },
  {
   "cell_type": "code",
   "execution_count": 3,
   "id": "88f7c690-9ceb-4650-be2e-1c4be2c1343f",
   "metadata": {},
   "outputs": [
    {
     "data": {
      "text/plain": [
       "0          4\n",
       "1          8\n",
       "2         12\n",
       "3       Data\n",
       "4    Science\n",
       "5         PW\n",
       "6     Skills\n",
       "7         80\n",
       "8         65\n",
       "9         35\n",
       "dtype: object"
      ]
     },
     "execution_count": 3,
     "metadata": {},
     "output_type": "execute_result"
    }
   ],
   "source": [
    "ls_vr = [4, 8, 12, 'Data', 'Science', 'PW', 'Skills', 80, 65, 35]\n",
    "df1 = pd.Series(ls_vr)\n",
    "\n",
    "df1"
   ]
  },
  {
   "attachments": {
    "72fa5897-fb2d-4313-a1c5-cdfec635ca2d.png": {
     "image/png": "[encoded data removed]"
    }
   },
   "cell_type": "markdown",
   "id": "0a297350-c3d8-4756-84d4-72d96a17bf02",
   "metadata": {},
   "source": [
    "## Q3. Create a Pandas DataFrame that contains the following data: Then, print the DataFrame.\n",
    "![Screenshot 2023-04-14 222624.png](attachment:72fa5897-fb2d-4313-a1c5-cdfec635ca2d.png)\n",
    "### Then, print the DataFrame."
   ]
  },
  {
   "cell_type": "code",
   "execution_count": 9,
   "id": "3a101103-f786-4d1a-bf1f-ad0b7f366dc3",
   "metadata": {},
   "outputs": [
    {
     "data": {
      "text/html": [
       "<div>\n",
       "<style scoped>\n",
       "    .dataframe tbody tr th:only-of-type {\n",
       "        vertical-align: middle;\n",
       "    }\n",
       "\n",
       "    .dataframe tbody tr th {\n",
       "        vertical-align: top;\n",
       "    }\n",
       "\n",
       "    .dataframe thead th {\n",
       "        text-align: right;\n",
       "    }\n",
       "</style>\n",
       "<table border=\"1\" class=\"dataframe\">\n",
       "  <thead>\n",
       "    <tr style=\"text-align: right;\">\n",
       "      <th></th>\n",
       "      <th>Name</th>\n",
       "      <th>Age</th>\n",
       "      <th>Gender</th>\n",
       "    </tr>\n",
       "  </thead>\n",
       "  <tbody>\n",
       "    <tr>\n",
       "      <th>0</th>\n",
       "      <td>Alice</td>\n",
       "      <td>25</td>\n",
       "      <td>Female</td>\n",
       "    </tr>\n",
       "    <tr>\n",
       "      <th>1</th>\n",
       "      <td>Bob</td>\n",
       "      <td>30</td>\n",
       "      <td>Male</td>\n",
       "    </tr>\n",
       "    <tr>\n",
       "      <th>2</th>\n",
       "      <td>Claire</td>\n",
       "      <td>27</td>\n",
       "      <td>Female</td>\n",
       "    </tr>\n",
       "  </tbody>\n",
       "</table>\n",
       "</div>"
      ],
      "text/plain": [
       "     Name  Age  Gender\n",
       "0   Alice   25  Female\n",
       "1     Bob   30    Male\n",
       "2  Claire   27  Female"
      ]
     },
     "execution_count": 9,
     "metadata": {},
     "output_type": "execute_result"
    }
   ],
   "source": [
    "data = [['Alice',25,'Female'], ['Bob',30,'Male'], ['Claire',27,'Female']]\n",
    "df2 = pd.DataFrame(data, columns=['Name','Age','Gender'])\n",
    "                \n",
    "df2"
   ]
  },
  {
   "cell_type": "markdown",
   "id": "e5f4b5f1-4223-4a3a-bfca-e896958da9cf",
   "metadata": {},
   "source": [
    "## Q4. What is ‘DataFrame’ in pandas and how is it different from pandas.series? Explain with an example."
   ]
  },
  {
   "cell_type": "markdown",
   "id": "de4a75f0-f90f-4420-b3d5-138562909e98",
   "metadata": {},
   "source": [
    "- A Pandas DataFrame is a 2-Dimensional data structure, like a 2 dimensional array, or a table with rows and columns.\n",
    "- Series is a 1-Dimensional array similar to a list or a column in a table."
   ]
  },
  {
   "cell_type": "markdown",
   "id": "42c7a4db-e7a2-4cf4-9f15-332cf414c6b0",
   "metadata": {},
   "source": [
    "## Q5. What are some common functions you can use to manipulate data in a Pandas DataFrame? Can you give an example of when you might use one of these functions?"
   ]
  },
  {
   "cell_type": "markdown",
   "id": "bba115fa-4753-475d-a529-399be0a20a6b",
   "metadata": {},
   "source": [
    "- Some common functions to manipulate a pandas dataframe are:\n",
    "    ####\n",
    "    - Create a new dataframe\n",
    "        - df = pd.DataFrame()\n",
    "    ####\n",
    "    - Adding a row in the dataframe\n",
    "        - df.append(row_data)\n",
    "    ####\n",
    "    - Adding a column in the dataframe\n",
    "        - df.insert(0, 'column_name', column_value)\n",
    "    ####\n",
    "    - Dropping columns in the dataframe\n",
    "        - df.drop('column_name', axis=1)\n",
    "    ####\n",
    "    - Dropping rows in the dataframe\n",
    "        - df.drop(index_no, axis=0)\n",
    "    ####\n",
    "    - Renaming a column in the dataset\n",
    "        - df.rename(columns={'old_name': 'new_name'})\n",
    "    ####\n",
    "    - Select columns with specific data types\n",
    "        - df.select_dtypes('int')\n",
    "    ####\n",
    "    - Slicing the dataframe\n",
    "        - df.iloc[:5, 0]\n",
    "    ####\n",
    "    - Handle Duplicates in Dataset\n",
    "        - df.drop_duplicates()\n",
    "    ####\n",
    "    - Select specific values in the column\n",
    "        - df[df['comumn_name'] == column_value]\n",
    "    ####\n",
    "    - Group by in DataFrame\n",
    "        - df.groupby('column_name1').agg({'column_name2': 'aggregate_function'})\n",
    "    ####\n",
    "    - Map in Pandas\n",
    "        - df['column_name'].map(lambda x: 'column_value1' if x==column1_value else 'column_value2')\n",
    "    ####\n",
    "    - Sorting the DataFrame using multiple columns\n",
    "        - df.sort_values(by=['column_name'], ascending=True)\n",
    "    ####\n",
    "    - Replacing values in a DataFrame\n",
    "        - df['column_name'].replace(['old_name1', 'old_nam2'], [\"new_name1\", \"new_name2\"])\n",
    "    ####\n",
    "    - Save the DataFrame as desired format.\n",
    "        - e.g data.to_csv('path')\n"
   ]
  },
  {
   "cell_type": "markdown",
   "id": "d0d046f3-15f2-47b5-a7be-deb488ae8ac8",
   "metadata": {},
   "source": [
    "## Q6. Which of the following is mutable in nature Series, DataFrame, Panel?"
   ]
  },
  {
   "cell_type": "markdown",
   "id": "0773c313-c2d9-4b3a-9f33-a7260d835848",
   "metadata": {},
   "source": [
    "- Value Mutable\n",
    "    - Series, DataFrame and Panel all three are value mutable.\n",
    "####\n",
    "- Size Mutable\n",
    "    - Only DataFrame and Panel are size mutable.\n",
    "    - Series is not size mutable."
   ]
  },
  {
   "cell_type": "markdown",
   "id": "215f2ca6-f879-401b-9d76-6a90ca54cf6f",
   "metadata": {},
   "source": [
    "## Q7. Create a DataFrame using multiple Series. Explain with an example."
   ]
  },
  {
   "cell_type": "code",
   "execution_count": 14,
   "id": "d44588bd-ef69-41ea-8ba8-ad0df0a1f4fd",
   "metadata": {},
   "outputs": [
    {
     "data": {
      "text/html": [
       "<div>\n",
       "<style scoped>\n",
       "    .dataframe tbody tr th:only-of-type {\n",
       "        vertical-align: middle;\n",
       "    }\n",
       "\n",
       "    .dataframe tbody tr th {\n",
       "        vertical-align: top;\n",
       "    }\n",
       "\n",
       "    .dataframe thead th {\n",
       "        text-align: right;\n",
       "    }\n",
       "</style>\n",
       "<table border=\"1\" class=\"dataframe\">\n",
       "  <thead>\n",
       "    <tr style=\"text-align: right;\">\n",
       "      <th></th>\n",
       "      <th>name</th>\n",
       "      <th>contact</th>\n",
       "      <th>course</th>\n",
       "    </tr>\n",
       "  </thead>\n",
       "  <tbody>\n",
       "    <tr>\n",
       "      <th>0</th>\n",
       "      <td>Mukul</td>\n",
       "      <td>9876543210</td>\n",
       "      <td>Data Science</td>\n",
       "    </tr>\n",
       "    <tr>\n",
       "      <th>1</th>\n",
       "      <td>Sudh</td>\n",
       "      <td>1234567890</td>\n",
       "      <td>Java</td>\n",
       "    </tr>\n",
       "    <tr>\n",
       "      <th>2</th>\n",
       "      <td>Krish</td>\n",
       "      <td>5432167890</td>\n",
       "      <td>Full Stack</td>\n",
       "    </tr>\n",
       "  </tbody>\n",
       "</table>\n",
       "</div>"
      ],
      "text/plain": [
       "    name     contact        course\n",
       "0  Mukul  9876543210  Data Science\n",
       "1   Sudh  1234567890          Java\n",
       "2  Krish  5432167890    Full Stack"
      ]
     },
     "execution_count": 14,
     "metadata": {},
     "output_type": "execute_result"
    }
   ],
   "source": [
    "name = ['Mukul', 'Sudh', 'Krish']\n",
    "contact = [9876543210, 1234567890, 5432167890]\n",
    "course = ['Data Science', 'Java', 'Full Stack']\n",
    "\n",
    "# Series\n",
    "name_sr = pd.Series((name), name='name')\n",
    "contact_sr = pd.Series((contact), name='contact')\n",
    "course_sr = pd.Series((course), name='course')\n",
    "\n",
    "df3 = pd.concat([name_sr, contact_sr, course_sr], axis=1)\n",
    "df3"
   ]
  },
  {
   "cell_type": "code",
   "execution_count": null,
   "id": "ab15bbef-6e0b-4f40-a449-24d07e36e12f",
   "metadata": {},
   "outputs": [],
   "source": []
  }
 ],
 "metadata": {
  "kernelspec": {
   "display_name": "Python 3 (ipykernel)",
   "language": "python",
   "name": "python3"
  },
  "language_info": {
   "codemirror_mode": {
    "name": "ipython",
    "version": 3
   },
   "file_extension": ".py",
   "mimetype": "text/x-python",
   "name": "python",
   "nbconvert_exporter": "python",
   "pygments_lexer": "ipython3",
   "version": "3.10.8"
  }
 },
 "nbformat": 4,
 "nbformat_minor": 5
}
