{
 "cells": [
  {
   "cell_type": "markdown",
   "metadata": {},
   "source": [
    "# Statistics Basic-1 Assignment"
   ]
  },
  {
   "cell_type": "markdown",
   "metadata": {},
   "source": [
    "## Q1. What is Statistics?"
   ]
  },
  {
   "cell_type": "markdown",
   "metadata": {},
   "source": [
    "- Statistics is the branch of mathematics that deals with the collection, analysis, interpretation, presentation, and organization of data.\n",
    "- It involves the use of mathematical and computational methods to draw meaningful insights from data and make informed decisions based on those insights."
   ]
  },
  {
   "cell_type": "markdown",
   "metadata": {},
   "source": [
    "## Q2. Define the different types of statistics and give an example of when each type might be used."
   ]
  },
  {
   "cell_type": "markdown",
   "metadata": {},
   "source": [
    "- There are two main types of statistics:\n",
    "1. descriptive statistics\n",
    "2. inferential statistics.\n",
    "####\n",
    "1. Descriptive Statistics:\n",
    "- It is concerned with summarizing and describing data in a meaningful way.\n",
    "- It provides a numerical and graphical summary of the main features of a dataset.\n",
    "- It used to describe characteristics of a group or population, such as the mean, median, mode, range, and standard deviation.\n",
    "- Some uses cases of of descriptive statistics:\n",
    "    - A teacher wants to know the average age of the classroom.\n",
    "####\n",
    "2. Inferential Statistics:\n",
    "- It is concerned with making generalizations about a population based on a sample of data.\n",
    "- It involves using probability theory and statistical models to draw conclusions about a larger group based on a smaller sample.\n",
    "- It is used to test hypotheses, make predictions, and estimate parameters.\n",
    "- Some uses cases of inferential statistics:\n",
    "    - The government wants to determine if a vaccine is effective by comparing the outcomes of a treatment group to a control group.\n",
    "    - A data company wants to determine if there is a relationship between income and education level by analyzing data from a representative sample of the population."
   ]
  },
  {
   "cell_type": "markdown",
   "metadata": {},
   "source": [
    "## Q3.  What are the different types of data and how do they differ from each other? Provide an example of each type of data."
   ]
  },
  {
   "cell_type": "markdown",
   "metadata": {},
   "source": [
    "- There are two main types of data:\n",
    "1. Quantitative Data\n",
    "2. Qualitative Data\n",
    "####\n",
    "1. Quantitative Data:\n",
    "- It is numerical data that is measurable and can be expressed in terms of quantity or amount.\n",
    "- It provides information about the quantity, magnitude, or degree of a particular phenomenon or subject.\n",
    "- It is often collected through experiments, surveys, or other forms of quantitative research.\n",
    "- Examples:\n",
    "    - Age\n",
    "    - Height\n",
    "    - Weight\n",
    "    - Test scores\n",
    "    - Sales figures\n",
    "####\n",
    "- Quantitative data can be further classified into\n",
    "    - Discrete Data\n",
    "    - Continuous Data\n",
    "    ####\n",
    "    - Discrete data refers to data that can only take on specific values and cannot be measured with complete precision.\n",
    "        - example: No of bank acc. of a person, no of legs an animal, etc\n",
    "        ####\n",
    "    - Continuous data refers to data that can take on any value within a certain range and can be measured with complete precision\n",
    "        - example: weight, temperature, etc\n",
    "####\n",
    "2. Qualitative Data:\n",
    "- Qualitative data is descriptive data that is non-numerical in nature.\n",
    "- It provides information about the characteristics or attributes of a particular phenomenon or subject.\n",
    "- Qualitative data is often collected through observation, interviews, focus groups, or other forms of qualitative research.\n",
    "- Examples:\n",
    "    - Gender\n",
    "    - Ethnicity\n",
    "    - Personality traits\n",
    "    - Customer feedback\n",
    "    - Narrative descriptions"
   ]
  },
  {
   "cell_type": "markdown",
   "metadata": {},
   "source": [
    "## Q4. Categorise the following datasets with respect to quantitative and qualitative data types:\n",
    "#### (i) Grading in exam: A+, A, B+, B, C+, C, D, E\n",
    "#### (ii) Colour of mangoes: yellow, green, orange, red\n",
    "#### (iii) Height data of a class: [178.9, 179, 179.5, 176, 177.2, 178.3, 175.8,...]\n",
    "#### (iv) Number of mangoes exported by a farm: [500, 600, 478, 672, ...]"
   ]
  },
  {
   "cell_type": "markdown",
   "metadata": {},
   "source": [
    "- (i) Grading in exam: A+, A, B+, B, C+, C, D, E\n",
    "    - Qualitative Data\n",
    "####\n",
    "- (ii) Colour of mangoes: yellow, green, orange, red\n",
    "    - Qualitative Data\n",
    "####\n",
    "- (iii) Height data of a class: [178.9, 179, 179.5, 176, 177.2, 178.3, 175.8,...]\n",
    "    - Quantitative Data\n",
    "####\n",
    "- (iv) Number of mangoes exported by a farm: [500, 600, 478, 672, ...]\n",
    "    - Quantitative Data"
   ]
  },
  {
   "cell_type": "markdown",
   "metadata": {},
   "source": [
    "## Q5. Explain the concept of levels of measurement and give an example of a variable for each level. "
   ]
  },
  {
   "cell_type": "markdown",
   "metadata": {},
   "source": [
    "- There are four main levels/scale of measurement:\n",
    "1. Nominal Scale Data\n",
    "2. Ordinal Scale Data\n",
    "3. interval Scale Data\n",
    "4. Ratio Scale Data\n",
    "####\n",
    "1. Nominal Scale Data:\n",
    "- It is categorical data that can be put into categories or groups.\n",
    "- It is the simplest type of data and provides information about differences between categories.\n",
    "- It does not have a natural ordering or ranking.\n",
    "- examples:\n",
    "    - Gender (male/female)\n",
    "    - Hair color (blonde/brunette/redhead)\n",
    "    - Eye color (blue/green/brown)\n",
    "####\n",
    "2. Ordinal Scale Data:\n",
    "- It is categorical data that can be ranked or ordered.\n",
    "- It provides information about the relative order or position of the categories.\n",
    "- It doesn't provide information about the differences between values.\n",
    "- examples:\n",
    "    - Education level (high school diploma/associate's degree/bachelor's degree)\n",
    "    - Economic status (low/middle/high)\n",
    "    - Letter grades (A/B/C/D/F)\n",
    "####\n",
    "3. Interval Scale Data:\n",
    "- It is numerical data that has a fixed measurement scale and equal intervals between values.\n",
    "- It provides information about the differences between values, but not about the ratio between values.\n",
    "- The absence of a value, such as zero, does not imply the absence of a quantity.\n",
    "- examples:\n",
    "    - Temperature (in Celsius or Fahrenheit)\n",
    "    - Time (in hours, minutes, or seconds)\n",
    "    - Date (in months or days)\n",
    "####\n",
    "4. Ratio Scale Data:\n",
    "- It is numerical data that has a fixed measurement scale, equal intervals between values, and a natural zero point.\n",
    "- It provides information about both the differences between values and the ratio between values.\n",
    "- The zero point represents the absence of a quantity.\n",
    "- examples:\n",
    "    - Height (in centimeters or inches)\n",
    "    - Weight (in kilograms or grams)\n",
    "    - Age (in years)"
   ]
  },
  {
   "cell_type": "markdown",
   "metadata": {},
   "source": [
    "## Q6. Why is it important to understand the level of measurement when analyzing data? Provide an example to illustrate your answer."
   ]
  },
  {
   "cell_type": "markdown",
   "metadata": {},
   "source": [
    "- Understanding the level of measurement is important when analyzing data because it determines the types of statistical methods and techniques that can be used to analyze the data accurately.\n",
    "- Different levels of measurement have different properties and characteristics, which impact the types of analyses that can be performed.\n",
    "####\n",
    "- For example, nominal data (categorical data that can be put into categories or groups) cannot be analyzed using arithmetic operations or measures of central tendency like mean or median, because the categories or groups cannot be quantified or ranked. Instead, nominal data is typically analyzed using frequency tables, mode, or measures of association such as chi-square tests."
   ]
  },
  {
   "cell_type": "markdown",
   "metadata": {},
   "source": [
    "## Q7. How nominal data type is different from ordinal data type."
   ]
  },
  {
   "cell_type": "markdown",
   "metadata": {},
   "source": [
    "- Nominal data and ordinal data are both categorical data types, but they differ in terms of the level of measurement and the nature of the information provided.\n",
    "####\n",
    "- Nominal data\n",
    "    - It has no inherent order or ranking. In other words, nominal data provides information about differences between categories, but not about the relative position or order of those categories.\n",
    "    - Examples: gender, color, and marital status, etc\n",
    "####\n",
    "- Ordinal data\n",
    "    - It can be ordered or ranked based on a certain criterion or characteristic.\n",
    "    - It provides information not only about the differences between categories, but also about the relative position or order of those categories.\n",
    "    - Examples: product rating(Excellent, Good, Bad), educational level(high school, college, graduate, post-graduate), and social class (lower, middle, upper), etc"
   ]
  },
  {
   "cell_type": "markdown",
   "metadata": {},
   "source": [
    "## Q8. Which type of plot can be used to display data in terms of range? "
   ]
  },
  {
   "cell_type": "markdown",
   "metadata": {},
   "source": [
    "- A box plot and a scatter plot can be used to display data in terms of range."
   ]
  },
  {
   "cell_type": "markdown",
   "metadata": {},
   "source": [
    "## Q9. Describe the difference between descriptive and inferential statistics. Give an example of each type of statistics and explain how they are used."
   ]
  },
  {
   "cell_type": "markdown",
   "metadata": {},
   "source": [
    "- Descriptive statistics and inferential statistics are two main branches of statistics for different purposes.\n",
    "####\n",
    "1. Descriptive statistics\n",
    "    - It is a branch of statistics that deals with the collection, organization, summarization, and presentation of data in a meaningful way.\n",
    "    - It provides a way to describe the main features of a data set using measures of central tendency (mean, median, mode) and measures of dispersion (range, variance, standard deviation).\n",
    "    - It is used to explore and summarize the characteristics of a sample or population and can be used to make generalizations about the data.\n",
    "    - Example:\n",
    "        - Calculating the mean and standard deviation of the test scores of a group of students.\n",
    "            - This provides a summary of the performance of the group and allows for comparisons to be made between groups or over time.\n",
    "####\n",
    "2. Inferential statistics\n",
    "    - It is a branch of statistics that deals with making generalizations or inferences about a population based on a sample of data.\n",
    "    - It uses probability theory to draw conclusions about the population from the sample data.\n",
    "    - It is used to test hypotheses, make predictions, and estimate parameters of the population.\n",
    "    - Example:\n",
    "        - Conducting a hypothesis test to determine whether the average test scores of a particular group of students are significantly different from the average test scores of another group of students.\n",
    "            - It requires collecting a sample of data from both groups, calculating the test statistic, and comparing it to the critical value or p-value to determine whether the difference is statistically significant."
   ]
  },
  {
   "cell_type": "markdown",
   "metadata": {},
   "source": [
    "## Q10. What are some common measures of central tendency and variability used in statistics? Explain how each measure can be used to describe a dataset."
   ]
  },
  {
   "cell_type": "markdown",
   "metadata": {},
   "source": [
    "- Measures of central tendency and variability are two types of descriptive statistics that provide information about the characteristics of a data set.\n",
    "####\n",
    "- Measures of central tendency:\n",
    "    1. Mean\n",
    "        - The mean is the arithmetic average of a set of values, and it is calculated by adding up all the values and dividing by the total number of values.\n",
    "        - It is the most commonly used measure of central tendency, and it provides a good summary of the data if the distribution is roughly symmetric.\n",
    "    ####\n",
    "    2. Median\n",
    "        - The median is the middle value in a set of values when they are arranged in order.\n",
    "        - It is less sensitive to extreme values than the mean, and it is a good measure of central tendency for skewed distributions.\n",
    "    ####\n",
    "    3. Mode\n",
    "        - The mode is the value that appears most frequently in a set of values. - It is useful for describing the most common value in a data set, but it may not be representative of the entire data set if there are several modes.\n",
    "####\n",
    "- Measures of variability:\n",
    "    1. Range\n",
    "        - The range is the difference between the maximum and minimum values in a data set.\n",
    "        - The range provides a simple measure of variability, but it is sensitive to extreme values and may not be representative of the spread of the data if the sample size is small.\n",
    "        ####\n",
    "    2. Variance\n",
    "        - The variance is the average of the squared differences between each value and the mean.\n",
    "        - It provides a measure of how spread out the data is around the mean, and it is useful for comparing the variability of two or more data sets.\n",
    "        ####\n",
    "    3. Standard deviation\n",
    "        - The standard deviation is the square root of the variance, and it provides a measure of the spread of the data in the same units as the original data.\n",
    "        - It is the most commonly used measure of variability, and it is useful for describing the spread of a distribution around the mean."
   ]
  },
  {
   "cell_type": "code",
   "execution_count": null,
   "metadata": {},
   "outputs": [],
   "source": []
  }
 ],
 "metadata": {
  "kernelspec": {
   "display_name": "Python 3 (ipykernel)",
   "language": "python",
   "name": "python3"
  },
  "language_info": {
   "codemirror_mode": {
    "name": "ipython",
    "version": 3
   },
   "file_extension": ".py",
   "mimetype": "text/x-python",
   "name": "python",
   "nbconvert_exporter": "python",
   "pygments_lexer": "ipython3",
   "version": "3.10.8"
  }
 },
 "nbformat": 4,
 "nbformat_minor": 4
}
