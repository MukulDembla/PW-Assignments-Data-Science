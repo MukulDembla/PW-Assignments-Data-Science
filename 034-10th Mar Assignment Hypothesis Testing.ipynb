{
 "cells": [
  {
   "cell_type": "markdown",
   "metadata": {},
   "source": [
    "# Hypothesis Testing Assignment - 10 Mar 2023"
   ]
  },
  {
   "cell_type": "markdown",
   "metadata": {},
   "source": [
    "## Q1. What is Estimation Statistics? Explain point estimate and interval estimate."
   ]
  },
  {
   "cell_type": "markdown",
   "metadata": {},
   "source": [
    "- Estimation statistics is a branch of statistics that deals with making inferences about population parameters based on sample statistics.\n",
    "- In estimation, we use sample data to estimate or infer some unknown quantity about the population.\n",
    "####\n",
    "- Point estimate\n",
    "    - It is a single value that is used to estimate an unknown population parameter.\n",
    "    - Example\n",
    "        - If we want to estimate the mean height of a population, we can take a sample of individuals and calculate the mean height of the sample.\n",
    "            - This sample mean is a point estimate of the population mean.\n",
    "####\n",
    "- Interval estimate\n",
    "    - It is a range of values within which we believe the true population parameter lies.\n",
    "    - It provides a measure of the uncertainty associated with our point estimate.\n",
    "    - An interval estimate is typically represented by a confidence interval, which is a range of values that is likely to contain the true population parameter with a specified degree of confidence."
   ]
  },
  {
   "cell_type": "markdown",
   "metadata": {},
   "source": [
    "## Q2. Write a Python function to estimate the population mean using a sample mean and standard deviation."
   ]
  },
  {
   "cell_type": "code",
   "execution_count": 19,
   "metadata": {},
   "outputs": [
    {
     "name": "stdout",
     "output_type": "stream",
     "text": [
      "(8.614070708874367, 11.385929291125633)\n"
     ]
    }
   ],
   "source": [
    "import math\n",
    "\n",
    "\n",
    "def estimate_population_mean(sample_mean, sample_std, sample_size):\n",
    "    \"\"\"\n",
    "    Estimate the population mean using a sample mean and standard deviation.\n",
    "\n",
    "    Args:\n",
    "        sample_mean (float): the mean of the sample\n",
    "        sample_std (float): the standard deviation of the sample\n",
    "        sample_size (int): the size of the sample\n",
    "\n",
    "    Returns:\n",
    "        float: the population mean\n",
    "    \"\"\"\n",
    "    t_value = 1.96  # for a 95% cvonfidence level and infinite degrees of freedom\n",
    "    std_error = sample_std / math.sqrt(sample_size)\n",
    "    margin_of_error = t_value * std_error\n",
    "\n",
    "    lower_bound = sample_mean - margin_of_error\n",
    "    upper_bound = sample_mean + margin_of_error\n",
    "    return (lower_bound, upper_bound)\n",
    "\n",
    "\n",
    "print(estimate_population_mean(10, 5, 50))\n"
   ]
  },
  {
   "cell_type": "markdown",
   "metadata": {},
   "source": [
    "## Q3. What is Hypothesis testing? Why is it used? State the importance of Hypothesis testing."
   ]
  },
  {
   "cell_type": "markdown",
   "metadata": {},
   "source": [
    "- Hypothesis testing is a statistical method that is used to make decisions about whether a particular hypothesis or claim about a population parameter is likely to be true or not.\n",
    "- We start by assuming a null hypothesis (H0) which is the opposite of the hypothesis we want to test (called the alternative hypothesis or Ha or H1).\n",
    "- Then, we collect sample data and use statistical tests to determine whether the sample provides sufficient evidence to reject the null hypothesis and support the alternative hypothesis.\n",
    "####\n",
    "- Hypothesis testing is used\n",
    "    - to evaluate the significance of research findings, test the validity of a theory, and make decisions about policies or actions based on the evidence from data.\n",
    "    - in various fields such as science, medicine, engineering, social sciences, and business to draw conclusions from data and make informed decisions.\n",
    "####\n",
    "- The importance of hypothesis testing lies in its ability to provide a systematic and objective approach to decision making based on data.\n",
    "- By using statistical methods to test hypotheses, we can avoid making decisions based on subjective opinions or biases.\n",
    "- Hypothesis testing also allows us to quantify the uncertainty associated with our conclusions and determine the level of confidence we can have in our results.\n",
    "####\n",
    "- It provides a framework for replication and verification of research findings, which is essential for the progress of science and the development of knowledge.\n",
    "- By requiring researchers to specify their hypotheses and test them using appropriate statistical methods, hypothesis testing helps to ensure that research findings are reliable and robust."
   ]
  },
  {
   "cell_type": "markdown",
   "metadata": {},
   "source": [
    "## Q5. Write a Python script to conduct a hypothesis test on the difference between two population means, given a sample from each population."
   ]
  },
  {
   "cell_type": "code",
   "execution_count": 20,
   "metadata": {},
   "outputs": [
    {
     "name": "stdout",
     "output_type": "stream",
     "text": [
      "Reject the null hypothesis.\n"
     ]
    }
   ],
   "source": [
    "import numpy as np\n",
    "from scipy.stats import ttest_ind\n",
    "\n",
    "sample1 = np.array([1, 2, 3, 4, 5])\n",
    "sample2 = np.array([6, 7, 8, 9, 10])\n",
    "\n",
    "mean1 = np.mean(sample1)\n",
    "mean2 = np.mean(sample2)\n",
    "\n",
    "std1 = np.std(sample1, ddof=1)\n",
    "std2 = np.std(sample2, ddof=1)\n",
    "\n",
    "n1 = len(sample1)\n",
    "n2 = len(sample2)\n",
    "dof = n1 + n2 - 2\n",
    "\n",
    "pooled_std = np.sqrt(((n1 - 1) * std1**2 + (n2 - 1) * std2**2) / dof)\n",
    "\n",
    "t = (mean1 - mean2) / (pooled_std * np.sqrt(1/n1 + 1/n2))\n",
    "\n",
    "p = ttest_ind(sample1, sample2, equal_var=True)[1]\n",
    "\n",
    "alpha = 0.05\n",
    "\n",
    "if p < alpha:\n",
    "    print(\"Reject the null hypothesis.\")\n",
    "else:\n",
    "    print(\"Fail to reject the null hypothesis.\")\n"
   ]
  },
  {
   "cell_type": "markdown",
   "metadata": {},
   "source": [
    "## Q6. What is a null and alternative hypothesis? Give some examples. "
   ]
  },
  {
   "cell_type": "markdown",
   "metadata": {},
   "source": [
    "- In statistics, a null hypothesis (H0) is a statement that assumes there is no significant difference between a population parameter and a sample statistic. An alternative hypothesis (Ha) is a statement that assumes there is a significant difference between a population parameter and a sample statistic.\n",
    "####\n",
    "- Some examples of null and alternative hypotheses:\n",
    "    - A company claims that their product has a mean lifespan of 5 years. We want to test whether this claim is true or not. Here, the null hypothesis would be \"The mean lifespan of the product is equal to 5 years (µ = 5).\" The alternative hypothesis would be \"The mean lifespan of the product is not equal to 5 years (µ ≠ 5).\"\n",
    "    - A medical researcher wants to test whether a new drug is effective in reducing blood pressure. Here, the null hypothesis would be \"The new drug has no effect on blood pressure (µ = 0).\" The alternative hypothesis would be \"The new drug is effective in reducing blood pressure (µ < 0).\"\n",
    "    - A school administrator wants to test whether the average score of students in a math test has improved after providing extra tutoring. Here, the null hypothesis would be \"The average score of students in the math test is the same as before tutoring (µ = µ0).\" The alternative hypothesis would be \"The average score of students in the math test has improved after tutoring (µ > µ0).\"\n",
    "####\n",
    "In each of these examples, the null hypothesis assumes that there is no significant difference between the population parameter and the sample statistic, while the alternative hypothesis assumes that there is a significant difference. The goal of hypothesis testing is to evaluate the evidence against the null hypothesis and decide whether to reject or fail to reject it."
   ]
  },
  {
   "cell_type": "markdown",
   "metadata": {},
   "source": [
    "## Q7. Write down the steps involved in hypothesis testing."
   ]
  },
  {
   "cell_type": "markdown",
   "metadata": {},
   "source": [
    "- Hypothesis testing is a statistical method used to make inferences about a population based on sample data.\n",
    "- The steps involved in hypothesis testing are:\n",
    "    1. State the null hypothesis (H0) and alternative hypothesis (Ha)\n",
    "        - The null hypothesis is the assumption that there is no significant difference or relationship between two variables.\n",
    "        - The alternative hypothesis is the opposite of the null hypothesis.\n",
    "        ####\n",
    "    2. Set the significance level (α)\n",
    "        - The significance level determines the level of risk we are willing to accept of making a Type I error, which is rejecting the null hypothesis when it is actually true.\n",
    "        ####\n",
    "    3. Collect sample data\n",
    "        - Collect a sample of data that is representative of the population being studied.\n",
    "        ####\n",
    "    4. Calculate the test statistic\n",
    "        - The test statistic is a measure of how far the sample data deviates from what we would expect under the null hypothesis.\n",
    "        - The test statistic varies depending on the type of test being performed.\n",
    "        ####\n",
    "    5. Determine the p-value\n",
    "        - The p-value is the probability of obtaining a test statistic as extreme as, or more extreme than, the one observed, assuming the null hypothesis is true.\n",
    "        - If the p-value is less than the significance level, we reject the null hypothesis.\n",
    "        ####\n",
    "    6. Interpret the results\n",
    "        - If the null hypothesis is rejected, we conclude that there is evidence to support the alternative hypothesis. If the null hypothesis is not rejected, we conclude that there is insufficient evidence to support the alternative hypothesis.\n",
    "        ####\n",
    "    7. Draw conclusions\n",
    "        - Based on the results of the hypothesis test, draw conclusions about the population being studied."
   ]
  },
  {
   "cell_type": "markdown",
   "metadata": {},
   "source": [
    "## Q8. Define p-value and explain its significance in hypothesis testing."
   ]
  },
  {
   "cell_type": "markdown",
   "metadata": {},
   "source": [
    "- The p-value is a probability value that measures the strength of evidence against the null hypothesis in a statistical test.\n",
    "- It represents the probability of obtaining a test statistic as extreme as, or more extreme than, the one observed, assuming the null hypothesis is true.\n",
    "####\n",
    "- In hypothesis testing, the p-value is used to determine whether to reject or fail to reject the null hypothesis.\n",
    "    - If the p-value is less than or equal to the significance level (α),then the null hypothesis is rejected. \n",
    "    - If the p-value is greater than the significance level, then we fail to reject the null hypothesis.\n",
    "####\n",
    "- The significance of the p-value lies in its ability to quantify the strength of evidence against the null hypothesis. A small p-value (e.g., less than 0.05) indicates that the observed data are unlikely to have occurred by chance alone, and therefore provides strong evidence against the null hypothesis.\n",
    "- A large p-value, on the other hand, indicates that the observed data are likely to have occurred by chance, and therefore provides weak evidence against the null hypothesis.\n",
    "####\n",
    "- It is important to note that a small p-value does not necessarily imply that the alternative hypothesis is true, but rather that there is strong evidence against the null hypothesis.\n",
    "- A large p-value does not necessarily imply that the null hypothesis is true, but rather that there is insufficient evidence to reject it."
   ]
  },
  {
   "cell_type": "markdown",
   "metadata": {},
   "source": [
    "## Q9. Generate a Student's t-distribution plot using Python's matplotlib library, with the degrees of freedom parameter set to 10."
   ]
  },
  {
   "cell_type": "code",
   "execution_count": 21,
   "metadata": {},
   "outputs": [
    {
     "data": {
      "image/png": "[encoded data removed]",
      "text/plain": [
       "<Figure size 800x500 with 1 Axes>"
      ]
     },
     "metadata": {},
     "output_type": "display_data"
    }
   ],
   "source": [
    "import numpy as np\n",
    "import matplotlib.pyplot as plt\n",
    "from scipy import stats\n",
    "\n",
    "# Generate x values for the t-distribution plot\n",
    "x = np.linspace(-4, 4, 1000)\n",
    "\n",
    "# Calculate the t-distribution values with 10 degrees of freedom\n",
    "dof = 10\n",
    "t = (1 / np.sqrt(dof)) * np.random.standard_t(dof, size=1000)\n",
    "\n",
    "# Create a figure and axis object\n",
    "fig, ax = plt.subplots(figsize=(8, 5))\n",
    "\n",
    "# Plot the t-distribution\n",
    "ax.plot(x, stats.t.pdf(x, dof), 'r-', lw=2, label='t-distribution')\n",
    "\n",
    "# Set the axis labels and title\n",
    "ax.set_xlabel('t-value')\n",
    "ax.set_ylabel('Probability density')\n",
    "ax.set_title('Student\\'s t-distribution with 10 degrees of freedom')\n",
    "\n",
    "# Display the legend and show the plot\n",
    "ax.legend()\n",
    "plt.show()\n"
   ]
  },
  {
   "cell_type": "markdown",
   "metadata": {},
   "source": [
    "## Q10. Write a Python program to calculate the two-sample t-test for independent samples, given two random samples of equal size and a null hypothesis that the population means are equal."
   ]
  },
  {
   "cell_type": "code",
   "execution_count": 22,
   "metadata": {},
   "outputs": [
    {
     "name": "stdout",
     "output_type": "stream",
     "text": [
      "Fail to reject the null hypothesis. The population means are equal.\n",
      "t-statistic:  -0.2344266158690979\n",
      "p-value:  0.8148960319080224\n"
     ]
    }
   ],
   "source": [
    "import numpy as np\n",
    "from scipy.stats import ttest_ind\n",
    "\n",
    "# Generate two random samples of equal size from two populations with equal means\n",
    "np.random.seed(100)\n",
    "sample1 = np.random.normal(loc=5, scale=2, size=100)\n",
    "sample2 = np.random.normal(loc=5, scale=2, size=100)\n",
    "\n",
    "# Calculate the two-sample t-test\n",
    "t_statistic, p_value = ttest_ind(sample1, sample2)\n",
    "\n",
    "# Set the significance level\n",
    "alpha = 0.05\n",
    "\n",
    "# Compare the p-value to the significance level and print the result\n",
    "if p_value < alpha:\n",
    "    print(\"Reject the null hypothesis. The population means are not equal.\")\n",
    "else:\n",
    "    print(\"Fail to reject the null hypothesis. The population means are equal.\")\n",
    "\n",
    "# Print the t-statistic and p-value\n",
    "print(\"t-statistic: \", t_statistic)\n",
    "print(\"p-value: \", p_value)\n"
   ]
  },
  {
   "cell_type": "markdown",
   "metadata": {},
   "source": [
    "## Q11. What is Student’s t distribution? When to use the t-Distribution."
   ]
  },
  {
   "cell_type": "markdown",
   "metadata": {},
   "source": [
    "- Student’s t-distribution is a probability distribution that arises from the estimation of the mean of a normally distributed population when the sample size is small (typically less than 30) or the population standard deviation is unknown.\n",
    "- It is similar to the normal distribution, but with heavier tails and a flatter peak, meaning that it has more probability in the tails and less probability in the center compared to a normal distribution.\n",
    "- The t-distribution is parameterized by the degrees of freedom, which reflects the sample size minus one. As the sample size increases, the t-distribution approaches the normal distribution.\n",
    "####\n",
    "- The uses of the t-distribution are:\n",
    "####\n",
    "- The t-distribution is commonly used in hypothesis testing when the sample size is small or the population standard deviation is unknown.\n",
    "    - In such cases, the standard error of the mean is estimated using the sample standard deviation, which introduces additional uncertainty into the estimate.\n",
    "    - The t-distribution accounts for this additional uncertainty and provides a more accurate estimate of the standard error of the mean.\n",
    "####\n",
    "- The t-distribution is also used in constructing confidence intervals for the population mean when the sample size is small or the population standard deviation is unknown.\n",
    "    - The t-distribution accounts for the additional uncertainty introduced by using the sample standard deviation to estimate the standard error of the mean.\n",
    "####\n",
    "- In summary, the t-distribution is used when the sample size is small or the population standard deviation is unknown, and it provides a more accurate estimate of the standard error of the mean compared to the normal distribution."
   ]
  },
  {
   "cell_type": "markdown",
   "metadata": {},
   "source": [
    "## Q12. What is t-statistic? State the formula for t-statistic. "
   ]
  },
  {
   "cell_type": "markdown",
   "metadata": {},
   "source": [
    "- The t-statistic is a measure of how much the sample mean deviates from the null hypothesis of a population mean, relative to the standard error of the sample mean.\n",
    "- It is used in hypothesis testing to determine whether the difference between the sample mean and the population mean is statistically significant.\n",
    "####\n",
    "- The formula for the t-statistic is:\n",
    "    - t = (x̄ - μ) / (s / √n)\n",
    "        - where:\n",
    "            - x̄ is the sample mean\n",
    "            - μ is the hypothesized population mean under the null hypothesis\n",
    "            - s is the sample standard deviation\n",
    "            - n is the sample size\n",
    "####\n",
    "- The t-statistic measures the difference between the sample mean (x̄) and the hypothesized population mean (μ), in units of the standard error of the sample mean (s / √n).\n",
    "- The larger the t-statistic, the greater the difference between the sample mean and the hypothesized population mean, relative to the standard error of the sample mean.\n",
    "- If the t-statistic is large enough, it suggests that the null hypothesis of equal means should be rejected in favor of an alternative hypothesis that the population means are not equal."
   ]
  },
  {
   "cell_type": "markdown",
   "metadata": {},
   "source": [
    "## Q13. A coffee shop owner wants to estimate the average daily revenue for their shop. They take a random sample of 50 days and find the sample mean revenue to be 500 Dollar with a standard deviation of 50 Dollar. Estimate the population mean revenue with a 95% confidence interval."
   ]
  },
  {
   "cell_type": "markdown",
   "metadata": {},
   "source": [
    "- To estimate the population mean revenue with a 95% confidence interval, we can use a t-distribution since the population standard deviation is unknown and the sample size is small (n=50).\n",
    "\n",
    "- The formula for the confidence interval for the population mean is:\n",
    "    - CI = x̄ ± t*(s/√n)\n",
    "        - where:\n",
    "            - x̄ is the sample mean\n",
    "            - t is the t-value from the t-distribution with n-1 degrees of freedom and a 95% confidence level (for a two-tailed test, t=2.009)\n",
    "            - s is the sample standard deviation\n",
    "            - n is the sample size\n",
    "            ####\n",
    "    - Putting in the values given in the problem, we get:\n",
    "        - CI = 500 ± 2.009*(50/√50)\n",
    "           - = 500 ± 14.16\n",
    "           - = (485.84, 514.16)\n",
    "####\n",
    "- Therefore, we can estimate with 95% confidence that the population mean revenue for the coffee shop is between $485.84 and $514.16."
   ]
  },
  {
   "cell_type": "markdown",
   "metadata": {},
   "source": [
    "##  Q14. A researcher hypothesizes that a new drug will decrease blood pressure by 10 mmHg. They conduct a clinical trial with 100 patients and find that the sample mean decrease in blood pressure is 8 mmHg with a standard deviation of 3 mmHg. Test the hypothesis with a significance level of 0.05."
   ]
  },
  {
   "cell_type": "markdown",
   "metadata": {},
   "source": [
    "- To test the hypothesis that the new drug will decrease blood pressure by 10 mmHg with a significance level of 0.05, we can use a one-sample t-test.\n",
    "####\n",
    "- The null hypothesis is that the mean decrease in blood pressure is equal to 10 mmHg.\n",
    "- The alternative hypothesis is that the mean decrease in blood pressure is less than 10 mmHg.\n",
    "####\n",
    "- We can use the formula for the t-statistic to calculate the test statistic:\n",
    "    - t = (x̄ - μ) / (s / √n)\n",
    "        - where:\n",
    "            - x̄ is the sample mean (8 mmHg)\n",
    "            - μ is the hypothesized population mean (10 mmHg)\n",
    "            - s is the sample standard deviation (3 mmHg)\n",
    "            - n is the sample size (100)\n",
    "        ####\n",
    "        - Putting in the values, we get:\n",
    "            - t = (8 - 10) / (3 / √100) = -6.67\n",
    "            ####\n",
    "    - The degrees of freedom for this test is n - 1 = 99.\n",
    "    - We can find the critical t-value for a one-tailed test with a significance level of 0.05 and 99 degrees of freedom using a t-distribution table or a calculator, which is approximately -1.66.\n",
    "####\n",
    "- Since our calculated t-value (-6.67) is less than the critical t-value (-1.66), we reject the null hypothesis and conclude that the new drug does indeed decrease blood pressure by more than 10 mmHg at a significance level of 0.05."
   ]
  },
  {
   "cell_type": "markdown",
   "metadata": {},
   "source": [
    "## Q15. An electronics company produces a certain type of product with a mean weight of 5 pounds and a standard deviation of 0.5 pounds. A random sample of 25 products is taken, and the sample mean weight is found to be 4.8 pounds. Test the hypothesis that the true mean weight of the products is less than 5 pounds with a significance level of 0.01."
   ]
  },
  {
   "cell_type": "markdown",
   "metadata": {},
   "source": [
    "- To test the hypothesis that the true mean weight of the products is less than 5 pounds with a significance level of 0.01, we can use a one-sample t-test.\n",
    "####\n",
    "- The null hypothesis is that the mean weight of the products is equal to 5 pounds.\n",
    "- The alternative hypothesis is that the mean weight of the products is less than 5 pounds.\n",
    "####\n",
    "- We can use the formula for the t-statistic to calculate the test statistic:\n",
    "    - t = (x̄ - μ) / (s / √n)\n",
    "        - where:\n",
    "            - x̄ is the sample mean weight (4.8 pounds)\n",
    "            - μ is the hypothesized population mean weight (5 pounds)\n",
    "            - s is the sample standard deviation (0.5 pounds)\n",
    "            - n is the sample size (25)\n",
    "            ####\n",
    "        \n",
    "    - Putting in the values, we get:\n",
    "        - t = (4.8 - 5) / (0.5 / √25)\n",
    "          - = -2\n",
    "          ####\n",
    "    - The degrees of freedom for this test is n - 1 = 24. \n",
    "    - We can find the critical t-value for a one-tailed test with a significance level of 0.01 and 24 degrees of freedom using a t-distribution table or a calculator, which is approximately -2.492.\n",
    "####\n",
    "- Since our calculated t-value (-2) is greater than the critical t-value (-2.492), we fail to reject the null hypothesis and conclude that there is not enough evidence to suggest that the mean weight of the products is less than 5 pounds at a significance level of 0.01."
   ]
  },
  {
   "cell_type": "markdown",
   "metadata": {},
   "source": [
    "## Q16. Two groups of students are given different study materials to prepare for a test. The first group (n1 = 30) has a mean score of 80 with a standard deviation of 10, and the second group (n2 = 40) has a mean score of 75 with a standard deviation of 8. Test the hypothesis that the population means for the two groups are equal with a significance level of 0.01."
   ]
  },
  {
   "cell_type": "markdown",
   "metadata": {},
   "source": [
    "- To test the hypothesis that the population means for the two groups are equal with a significance level of 0.01, we can use a two-sample t-test for independent samples.\n",
    "####\n",
    "- The null hypothesis is that the population means for the two groups are equal, and the alternative hypothesis is that the population means for the two groups are not equal.\n",
    "####\n",
    "- We can use the formula for the t-statistic to calculate the test statistic:\n",
    "    - t = (x̄1 - x̄2) / √(s1^2/n1 + s2^2/n2)\n",
    "        - where:\n",
    "            - x̄1 is the sample mean for the first group (80)\n",
    "            - x̄2 is the sample mean for the second group (75)\n",
    "            - s1 is the sample standard deviation for the first group (10)\n",
    "            - s2 is the sample standard deviation for the second group (8)\n",
    "            - n1 is the sample size for the first group (30)\n",
    "            - n2 is the sample size for the second group (40)\n",
    "            ####\n",
    "    - Putting in the values, we get:\n",
    "        - t = (80 - 75) / √(10^2/30 + 8^2/40)\n",
    "          - = 2.78\n",
    "          ####\n",
    "    - The degrees of freedom for this test is (n1 + n2 - 2) = 68. We can find the critical t-value for a two-tailed test with a significance level of 0.01 and 68 degrees of freedom using a t-distribution table or a calculator, which is approximately ±2.659.\n",
    "    ####\n",
    "- Since our calculated t-value (2.78) is greater than the positive critical t-value (2.659) but less than the negative critical t-value (-2.659), we fail to reject the null hypothesis and conclude that there is not enough evidence to suggest that the population means for the two groups are not equal at a significance level of 0.01."
   ]
  },
  {
   "cell_type": "markdown",
   "metadata": {},
   "source": [
    "## Q17. A marketing company wants to estimate the average number of ads watched by viewers during a TV program. They take a random sample of 50 viewers and find that the sample mean is 4 with a standard deviation of 1.5. Estimate the population mean with a 99% confidence interval"
   ]
  },
  {
   "cell_type": "markdown",
   "metadata": {},
   "source": [
    "- To estimate the population mean with a 99% confidence interval, we can use the formula:\n",
    "    - CI = x̄ ± z*(s/√n)\n",
    "        - where:\n",
    "            - x̄ is the sample mean (4)\n",
    "            - s is the sample standard deviation (1.5)\n",
    "            - n is the sample size (50)\n",
    "            - z is the critical value for a 99% confidence interval, which can be found using a standard normal distribution table or calculator.\n",
    "            ####\n",
    "    - For a two-tailed test, the critical value is ±2.576.\n",
    "    ####\n",
    "    - Putting in the values, we get:\n",
    "        - CI = 4 ± 2.576*(1.5/√50)\n",
    "           - = (3.597, 4.403)\n",
    "           ####\n",
    "- Therefore, we can say with 99% confidence that the true population mean number of ads watched by viewers during a TV program falls between 3.597 and 4.403."
   ]
  },
  {
   "cell_type": "code",
   "execution_count": null,
   "metadata": {},
   "outputs": [],
   "source": [
    "                   "
   ]
  }
 ],
 "metadata": {
  "kernelspec": {
   "display_name": "Python 3 (ipykernel)",
   "language": "python",
   "name": "python3"
  },
  "language_info": {
   "codemirror_mode": {
    "name": "ipython",
    "version": 3
   },
   "file_extension": ".py",
   "mimetype": "text/x-python",
   "name": "python",
   "nbconvert_exporter": "python",
   "pygments_lexer": "ipython3",
   "version": "3.10.8"
  }
 },
 "nbformat": 4,
 "nbformat_minor": 4
}
