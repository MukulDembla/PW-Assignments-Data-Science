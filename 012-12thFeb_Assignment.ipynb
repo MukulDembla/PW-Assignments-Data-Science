{
 "cells": [
  {
   "cell_type": "markdown",
   "id": "72638fec-eb10-449f-9e9c-31d17b2566a7",
   "metadata": {},
   "source": [
    "## Q1. What is an Exception in python? Write the difference between Exceptions and Syntax errors."
   ]
  },
  {
   "cell_type": "markdown",
   "id": "99087864-3a0a-4d2b-8b22-da9a3de4c49f",
   "metadata": {},
   "source": [
    "- Exception is an abnormal condition encontered during the execution of a program.\n",
    "\n",
    "- Difference between Exception and Syntax error.\n",
    "\n",
    "  - Exception\n",
    "    - A condition where the program encounters some unexpected value passed for a variable used in the program.\n",
    "    - It is maskable by using try and except block in python.\n",
    "  - Syntax error\n",
    "    - A condition where programmers uses a token(letter, symbol, etc) in the program code that is beyond or not defined in the grammer of that language.\n",
    "    - It is non-maskable."
   ]
  },
  {
   "cell_type": "markdown",
   "id": "e4fc903c-f238-42cf-b0ac-982d2031a538",
   "metadata": {},
   "source": [
    "## Q2. What happens when an exception is not handled? Explain with an example."
   ]
  },
  {
   "cell_type": "markdown",
   "id": "2fe7a6de-7dda-46a2-8e14-fccf523fe060",
   "metadata": {},
   "source": [
    "- When an exception is not handled, the program terminates abruptly with an error message, and the rest of the code after the exception is not executed."
   ]
  },
  {
   "cell_type": "code",
   "execution_count": 2,
   "id": "c181a614-3de0-4de1-a5d0-ac551c8b649c",
   "metadata": {},
   "outputs": [
    {
     "ename": "ZeroDivisionError",
     "evalue": "division by zero",
     "output_type": "error",
     "traceback": [
      "\u001b[0;31m---------------------------------------------------------------------------\u001b[0m",
      "\u001b[0;31mZeroDivisionError\u001b[0m                         Traceback (most recent call last)",
      "Cell \u001b[0;32mIn[2], line 3\u001b[0m\n\u001b[1;32m      1\u001b[0m a \u001b[38;5;241m=\u001b[39m \u001b[38;5;241m5\u001b[39m\n\u001b[1;32m      2\u001b[0m b \u001b[38;5;241m=\u001b[39m \u001b[38;5;241m0\u001b[39m\n\u001b[0;32m----> 3\u001b[0m c \u001b[38;5;241m=\u001b[39m \u001b[43ma\u001b[49m\u001b[38;5;241;43m/\u001b[39;49m\u001b[43mb\u001b[49m\n\u001b[1;32m      4\u001b[0m \u001b[38;5;28mprint\u001b[39m(c)\n",
      "\u001b[0;31mZeroDivisionError\u001b[0m: division by zero"
     ]
    }
   ],
   "source": [
    "a = 5\n",
    "b = 0\n",
    "c = a/b\n",
    "print(c)"
   ]
  },
  {
   "cell_type": "code",
   "execution_count": 3,
   "id": "12d3e60c-146d-493d-97a3-3ff0982fa2a2",
   "metadata": {},
   "outputs": [
    {
     "name": "stdout",
     "output_type": "stream",
     "text": [
      "Error:Cannot divide by zero\n"
     ]
    }
   ],
   "source": [
    "# To handle this exception, we can use a try-except block:\n",
    "a = 5\n",
    "b = 0\n",
    "try:\n",
    "    c = a/b\n",
    "    print(c)\n",
    "except ZeroDivisionError:\n",
    "    print('Error:Cannot divide by zero')\n"
   ]
  },
  {
   "cell_type": "markdown",
   "id": "b54df57f-0540-4ef2-bbfb-dc189ab261dd",
   "metadata": {},
   "source": [
    "## Q3. Which Python statements are used to catch and handle exceptions? Explain with an example."
   ]
  },
  {
   "cell_type": "markdown",
   "id": "d8f2a07f-6abf-4985-b7fd-6775ac4798e9",
   "metadata": {},
   "source": [
    "- In Python, try and except statements are used to catch and handle exceptions.\n",
    "\n",
    "  - The try statement is used to enclose the code that might raise an exception, and the except statement is used to handle the exception. If an exception is raised within the try block, the code within the corresponding except block is executed."
   ]
  },
  {
   "cell_type": "code",
   "execution_count": 4,
   "id": "45b44e1f-8867-4903-861c-d6b79b63d6e6",
   "metadata": {},
   "outputs": [
    {
     "name": "stdout",
     "output_type": "stream",
     "text": [
      "Error:Cannot divide by zero\n"
     ]
    }
   ],
   "source": [
    "# EXAMPLE\n",
    "a = 5\n",
    "b = 0\n",
    "try:\n",
    "    c = a/b\n",
    "    print(c)\n",
    "except ZeroDivisionError:\n",
    "    print('Error:Cannot divide by zero')"
   ]
  },
  {
   "cell_type": "markdown",
   "id": "3e303705-4e96-484c-986c-df9b7cefc081",
   "metadata": {},
   "source": [
    "## Q4. Explain with an example:\n",
    "     a. try and else\n",
    "     b. finally\n",
    "     c. raise"
   ]
  },
  {
   "cell_type": "markdown",
   "id": "7cee56df-3976-46f4-a596-dd392a582a23",
   "metadata": {},
   "source": [
    "A. try and else:\n",
    "\n",
    "   - The try statement in Python is used to catch and handle exceptions that might occur during program execution. The else block can be used along with the try block to specify a block of code that will  be    executed if no exception is raised in the try block."
   ]
  },
  {
   "cell_type": "code",
   "execution_count": 7,
   "id": "ad5cd91b-719d-4550-ad89-e88d79502831",
   "metadata": {},
   "outputs": [
    {
     "name": "stdin",
     "output_type": "stream",
     "text": [
      "Enter a number:  5\n",
      "Enter another number:  0\n"
     ]
    },
    {
     "name": "stdout",
     "output_type": "stream",
     "text": [
      "Error: Cannot divide by zero\n"
     ]
    }
   ],
   "source": [
    "# Try Example\n",
    "try:\n",
    "    x = int(input(\"Enter a number: \"))\n",
    "    y = int(input(\"Enter another number: \"))\n",
    "    z = x / y\n",
    "except ZeroDivisionError:\n",
    "    print(\"Error: Cannot divide by zero\")\n",
    "else:\n",
    "    print(\"Result of division:\", z)\n"
   ]
  },
  {
   "cell_type": "markdown",
   "id": "3e315e50-b209-4356-b608-6d869677484b",
   "metadata": {},
   "source": [
    "B. finally\n",
    "   - The finally block is used to specify a block of code that will be executed no matter whether an exception is raised or not. This block is usually used to perform clean-up operations like closing files, releasing resources, etc."
   ]
  },
  {
   "cell_type": "code",
   "execution_count": 9,
   "id": "950c79ea-211b-4ce9-86ab-aff67d9552e3",
   "metadata": {},
   "outputs": [],
   "source": [
    "# Finally Example\n",
    "try:\n",
    "    file = open(\"example.txt\", \"w\")\n",
    "finally:\n",
    "    file.close()"
   ]
  },
  {
   "cell_type": "markdown",
   "id": "4ded93dd-fadd-4f53-acb9-b1f69e9f5ea8",
   "metadata": {},
   "source": [
    "C. raise\n",
    "   - The raise statement is used to raise an exception explicitly. It can be used to signal an error condition in the program and terminate the execution of the program."
   ]
  },
  {
   "cell_type": "code",
   "execution_count": 11,
   "id": "e2c16ca6-87cc-41ad-8fd7-378efea8dc6b",
   "metadata": {},
   "outputs": [
    {
     "name": "stdin",
     "output_type": "stream",
     "text": [
      "Enter your age:  7\n"
     ]
    },
    {
     "name": "stdout",
     "output_type": "stream",
     "text": [
      "Age is valid\n"
     ]
    }
   ],
   "source": [
    "# Raise Exapmle\n",
    "def validate_age(age):\n",
    "    if age < 0:\n",
    "        raise ValueError(\"Age cannot be negative\")\n",
    "    elif age > 120:\n",
    "        raise ValueError(\"Age cannot be greater than 120\")\n",
    "    else:\n",
    "        print(\"Age is valid\")\n",
    "\n",
    "try:\n",
    "    age = int(input(\"Enter your age: \"))\n",
    "    validate_age(age)\n",
    "except ValueError as e:\n",
    "    print(e)\n"
   ]
  },
  {
   "cell_type": "markdown",
   "id": "f7e07e8c-00dd-4a95-ae06-18e4cf6d1894",
   "metadata": {},
   "source": [
    "## Q5. What are Custom Exceptions in python? Why do we need Custom Exceptions? Explain with an example."
   ]
  },
  {
   "cell_type": "markdown",
   "id": "20355772-520c-4b6a-9f54-7a5b33ed81b3",
   "metadata": {},
   "source": [
    "- Custom exceptions are the new user defined classes of exception derived from built in class 'Exception'\n",
    "- We need a custom exception class to create a specific exception on user defined constraint(s)."
   ]
  },
  {
   "cell_type": "code",
   "execution_count": 12,
   "id": "c015f699-fc11-484c-8fdf-dee873e583ce",
   "metadata": {},
   "outputs": [
    {
     "name": "stdin",
     "output_type": "stream",
     "text": [
      "Enter your age:  -9\n"
     ]
    },
    {
     "name": "stdout",
     "output_type": "stream",
     "text": [
      "Entered age is negative\n"
     ]
    }
   ],
   "source": [
    "class validateage(Exception):\n",
    "    \n",
    "    def __init__(self, msg):\n",
    "        self.msg = msg\n",
    "       \n",
    "def validage(age):\n",
    "    if age < 0:\n",
    "        raise validateage('Entered age is negative')\n",
    "    elif age > 200:\n",
    "        raise validateage('Entered age is very high')\n",
    "    else:\n",
    "        print('age is valid')\n",
    "        \n",
    "try:\n",
    "    age = int(input('Enter your age: '))\n",
    "    validage(age)\n",
    "except validateage as e:\n",
    "    print(e)"
   ]
  },
  {
   "cell_type": "markdown",
   "id": "655a4e29-100c-438e-8999-47530e92b3e6",
   "metadata": {},
   "source": [
    "## Q6. Create a custom exception class. Use this class to handle an exception."
   ]
  },
  {
   "cell_type": "code",
   "execution_count": 13,
   "id": "0853a4ac-c8ef-48ad-909b-69bfe596a3f9",
   "metadata": {},
   "outputs": [
    {
     "name": "stdin",
     "output_type": "stream",
     "text": [
      "Enter your age:  5\n"
     ]
    },
    {
     "name": "stdout",
     "output_type": "stream",
     "text": [
      "age is valid\n"
     ]
    }
   ],
   "source": [
    "class validateage(Exception):\n",
    "    \n",
    "    def __init__(self, msg):\n",
    "        self.msg = msg\n",
    "       \n",
    "def validage(age):\n",
    "    if age < 0:\n",
    "        raise validateage('Entered age is negative')\n",
    "    elif age > 200:\n",
    "        raise validateage('Entered age is very high')\n",
    "    else:\n",
    "        print('age is valid')\n",
    "        \n",
    "try:\n",
    "    age = int(input('Enter your age: '))\n",
    "    validage(age)\n",
    "except validateage as e:\n",
    "    print(e)"
   ]
  }
 ],
 "metadata": {
  "kernelspec": {
   "display_name": "Python 3 (ipykernel)",
   "language": "python",
   "name": "python3"
  },
  "language_info": {
   "codemirror_mode": {
    "name": "ipython",
    "version": 3
   },
   "file_extension": ".py",
   "mimetype": "text/x-python",
   "name": "python",
   "nbconvert_exporter": "python",
   "pygments_lexer": "ipython3",
   "version": "3.10.8"
  }
 },
 "nbformat": 4,
 "nbformat_minor": 5
}
