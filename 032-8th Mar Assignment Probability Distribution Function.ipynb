{
 "cells": [
  {
   "cell_type": "markdown",
   "metadata": {},
   "source": [
    "# Probabilty Distribution Function Assignment"
   ]
  },
  {
   "cell_type": "markdown",
   "metadata": {},
   "source": [
    "## Q1. What is the Probability density function?"
   ]
  },
  {
   "cell_type": "markdown",
   "metadata": {},
   "source": [
    "- The Probability Density Function (PDF) is a mathematical function that describes the probability distribution of a continuous random variable.\n",
    "- It gives the probability that a random variable falls within a particular range of values, rather than taking on a specific value.\n",
    "- The PDF indicates the likelihood that the random variable will take on a particular value in a given range.\n",
    "- The PDF can be visualized as a graph, where the x-axis represents the possible values of the random variable, and the y-axis represents the likelihood of the random variable taking on that value.\n",
    "- The area under the curve of the PDF must equal 1, since the probability of the random variable taking on any value must be 1.\n",
    "\n",
    "The PDF is an important concept in statistics and probability theory, and is used to calculate various properties of a continuous random variable, such as its mean, variance, and standard deviation."
   ]
  },
  {
   "cell_type": "markdown",
   "metadata": {},
   "source": [
    "## Q2. What are the types of Probability distribution?"
   ]
  },
  {
   "cell_type": "markdown",
   "metadata": {},
   "source": [
    "- There are several types of probability distributions, but here are some of the most common ones:\n",
    "####\n",
    "- Normal Distribution\n",
    "    - It is also known as the Gaussian distribution.\n",
    "    - It is the most commonly used probability distribution.\n",
    "    - It is a continuous distribution that is symmetrical around the mean, with a bell-shaped curve.\n",
    "####\n",
    "- Binomial Distribution\n",
    "    - A discrete distribution that models the probability of a certain number of successes in a fixed number of independent trials, each with the same probability of success.\n",
    "####\n",
    "- Poisson Distribution\n",
    "    - A discrete distribution that models the probability of a certain number of rare events occurring in a fixed interval of time or space.\n",
    "####\n",
    "- Uniform Distribution\n",
    "    - A continuous distribution that models the probability of a random variable taking on a value within a certain range, with all values in that range being equally likely.\n",
    "####\n",
    "- Exponential Distribution\n",
    "    - A continuous distribution that models the probability of the time between two events occurring in a Poisson process.\n",
    "####\n",
    "- Gamma Distribution\n",
    "    - A continuous distribution that models the probability of the sum of independent exponentially distributed random variables.\n",
    "####\n",
    "- Beta Distribution\n",
    "    - A continuous distribution that models the probability of a random variable taking on a value between 0 and 1, and is often used to model probabilities or proportions.\n",
    "####\n",
    "These are just a few of the many probability distributions that exist, and each distribution has its own unique characteristics and uses in various fields of study, such as statistics, physics, engineering, and finance."
   ]
  },
  {
   "cell_type": "markdown",
   "metadata": {},
   "source": [
    "## Q3. Write a Python function to calculate the probability density function of a normal distribution with given mean and standard deviation at a given point."
   ]
  },
  {
   "cell_type": "code",
   "execution_count": 3,
   "metadata": {},
   "outputs": [
    {
     "name": "stdout",
     "output_type": "stream",
     "text": [
      "0.058795547265997304\n"
     ]
    }
   ],
   "source": [
    "import math\n",
    "\n",
    "def normal_pdf(x, mean, std):\n",
    "    \"\"\"\n",
    "    Calculate the probability density function of a normal distribution at a given point.\n",
    "    :param x: The point at which to calculate the PDF.\n",
    "    :param mean: The mean of the normal distribution.\n",
    "    :param std: The standard deviation of the normal distribution.\n",
    "    :return: The PDF at the given point.\n",
    "    \"\"\"\n",
    "    coefficient = 1 / (std * math.sqrt(2 * math.pi))\n",
    "    exponent = -1 * ((x - mean) ** 2) / (2 * (std ** 2))\n",
    "    return coefficient * math.exp(exponent)\n",
    "\n",
    "\n",
    "pdf = normal_pdf(5, 3, 1.03)\n",
    "print(pdf)\n"
   ]
  },
  {
   "cell_type": "markdown",
   "metadata": {},
   "source": [
    "## Q4. What are the properties of Binomial distribution? Give two examples of events where binomial distribution can be applied."
   ]
  },
  {
   "cell_type": "markdown",
   "metadata": {},
   "source": [
    "- The properties of a binomial distribution are:\n",
    "    - There are a fixed number of independent trials.\n",
    "    - Each trial has only two possible outcomes, typically labeled \"success\" and \"failure\".\n",
    "    - The probability of success is the same for each trial.\n",
    "    - The trials are independent of each other.\n",
    "    - The random variable of interest is the number of successes in the fixed number of trials.\n",
    "####\n",
    "- Examples of events where binomial distribution can be applied include:\n",
    "    - Flipping a coin a fixed number of times\n",
    "        - Each flip of a coin can be considered a trial with two possible outcomes, \"heads\" and \"tails\". \n",
    "        - If we flip the coin a fixed number of times and are interested in the number of times it comes up heads, we can model this using a binomial distribution.\n",
    "        ####\n",
    "    - Surveying a population\n",
    "        - If we survey a fixed number of people in a population and are interested in the number of people who respond \"yes\" to a particular question, we can model this using a binomial distribution.\n",
    "        - Each survey response can be considered a trial with two possible outcomes, \"yes\" or \"no\", and the probability of success is the proportion of people in the population who would respond \"yes\"."
   ]
  },
  {
   "cell_type": "markdown",
   "metadata": {},
   "source": [
    "##  Q5. Generate a random sample of size 1000 from a binomial distribution with probability of success 0.4 and plot a histogram of the results using matplotlib. "
   ]
  },
  {
   "cell_type": "code",
   "execution_count": 5,
   "metadata": {},
   "outputs": [
    {
     "data": {
      "image/png": "[encoded data removed]",
      "text/plain": [
       "<Figure size 640x480 with 1 Axes>"
      ]
     },
     "metadata": {},
     "output_type": "display_data"
    }
   ],
   "source": [
    "import numpy as np\n",
    "import matplotlib.pyplot as plt\n",
    "\n",
    "n = 1000\n",
    "p = 0.4\n",
    "\n",
    "sample = np.random.binomial(n, p, size=1000)\n",
    "\n",
    "plt.hist(sample, bins=20)\n",
    "plt.xlabel('Number of successes')\n",
    "plt.ylabel('Frequency')\n",
    "plt.title('Histogram of a Binomial Distribution')\n",
    "plt.show()\n"
   ]
  },
  {
   "cell_type": "markdown",
   "metadata": {},
   "source": [
    "## Q6.  Write a Python function to calculate the cumulative distribution function of a Poisson distribution with given mean at a given point."
   ]
  },
  {
   "cell_type": "code",
   "execution_count": 9,
   "metadata": {},
   "outputs": [
    {
     "name": "stdout",
     "output_type": "stream",
     "text": [
      "0.30070827617436097\n"
     ]
    }
   ],
   "source": [
    "import math\n",
    "\n",
    "def poisson_cdf(x, mean_po):\n",
    "    \"\"\"\n",
    "    Calculate the cumulative distribution function of a Poisson distribution at a given point.\n",
    "    :param x: The point at which to calculate the CDF.\n",
    "    :param mean_po: The mean of the Poisson distribution.\n",
    "    :return: The CDF at the given point.\n",
    "    \"\"\"\n",
    "    cdf = 0\n",
    "    for i in range(x+1):\n",
    "        cdf += (math.exp(-mean_po) * mean_po**i) / math.factorial(i)\n",
    "    return cdf\n",
    "\n",
    "cdf = poisson_cdf(5, 7)\n",
    "print(cdf)\n"
   ]
  },
  {
   "cell_type": "markdown",
   "metadata": {},
   "source": [
    "## Q7. How Binomial distribution different from Poisson distribution?"
   ]
  },
  {
   "cell_type": "markdown",
   "metadata": {},
   "source": [
    "- Binomial and Poisson distributions are both probability distributions commonly used in statistics, but they are used to model different types of phenomena.\n",
    "####\n",
    "- Here are some key differences between the two distributions:\n",
    "    - Number of trials\n",
    "        - The binomial distribution models the number of successes in a fixed number of independent trials, whereas the Poisson distribution models the number of events that occur in a fixed interval of time or space.\n",
    "        ####\n",
    "    - Type of events\n",
    "        - The binomial distribution models events with two possible outcomes, such as flipping a coin or answering a yes-or-no question, while the Poisson distribution models events that occur randomly and independently, such as the number of cars that pass through a toll booth in a given amount of time.\n",
    "        ####\n",
    "    - Probability of success\n",
    "        - In the binomial distribution, the probability of success is the same for each trial, while in the Poisson distribution, the probability of an event occurring is assumed to be constant across time or space.\n",
    "        ####\n",
    "    - Parameters\n",
    "        - The binomial distribution has two parameters, n and p, representing the number of trials and the probability of success, respectively, while the Poisson distribution has one parameter, lambda, representing the expected number of events in the fixed interval.\n",
    "        ####\n",
    "    - Shape of distribution\n",
    "        - The binomial distribution is bell-shaped when n is large and p is not too close to 0 or 1, while the Poisson distribution is skewed right and becomes more symmetric as lambda increases.\n",
    "####\n",
    "Overall, the binomial distribution is used when the number of trials is fixed and the events are binary, while the Poisson distribution is used when the events occur randomly and independently over a fixed interval of time or space."
   ]
  },
  {
   "cell_type": "markdown",
   "metadata": {},
   "source": [
    "## Q8. Generate a random sample of size 1000 from a Poisson distribution with mean 5 and calculate the sample mean and variance."
   ]
  },
  {
   "cell_type": "code",
   "execution_count": 10,
   "metadata": {},
   "outputs": [
    {
     "name": "stdout",
     "output_type": "stream",
     "text": [
      "Sample mean:  5.01\n",
      "Sample variance:  5.171900000000001\n"
     ]
    }
   ],
   "source": [
    "import numpy as np\n",
    "\n",
    "sample = np.random.poisson(5, 1000)\n",
    "\n",
    "sample_mean = np.mean(sample)\n",
    "sample_variance = np.var(sample)\n",
    "\n",
    "print(\"Sample mean: \", sample_mean)\n",
    "print(\"Sample variance: \", sample_variance)\n"
   ]
  },
  {
   "cell_type": "markdown",
   "metadata": {},
   "source": [
    "## Q9. How mean and variance are related in Binomial distribution and Poisson distribution?"
   ]
  },
  {
   "cell_type": "markdown",
   "metadata": {},
   "source": [
    "- In a binomial distribution, the mean (expected value) and variance are related by the formula:\n",
    "    - mean = n * p\n",
    "    - variance = n * p * (1 - p)\n",
    "        - where,\n",
    "            - n = the number of trials\n",
    "            - p = the probability of success in each trial.\n",
    "    - In other words, the variance of a binomial distribution is a function of both the number of trials and the probability of success.\n",
    "####\n",
    "- In a Poisson distribution, the mean and variance are equal and are given by the formula:\n",
    "    - mean = variance = lambda\n",
    "    - where,\n",
    "        lambda = the rate parameter, which represents the expected number of events in a fixed interval of time or space.\n",
    "    - In other words, the variance of a Poisson distribution is solely a function of the rate parameter.\n",
    "####\n",
    "In both distributions, the variance provides a measure of the spread or dispersion of the data around the mean.\n",
    "- When the variance is large, the data are more spread out and less predictable, while when the variance is small, the data are more tightly clustered around the mean and more predictable."
   ]
  },
  {
   "cell_type": "markdown",
   "metadata": {},
   "source": [
    "## Q10. In normal distribution with respect to mean position, where does the least frequent data appear?"
   ]
  },
  {
   "cell_type": "markdown",
   "metadata": {},
   "source": [
    "- In a normal distribution, the least frequent data appears in the tails of the distribution, which are the areas located farthest from the mean position.\n",
    "####\n",
    "- In a normal distribution, the majority of the data falls within one standard deviation of the mean, and as we move farther away from the mean, the frequency of data decreases. The tails of the distribution contain the extreme values, and these values occur with lower frequency.\n",
    "####\n",
    "- The tails of a normal distribution are defined by the z-scores, which indicate the number of standard deviations a data point is from the mean. Data points with z-scores less than -2 or greater than 2 are considered to be in the tails of the distribution, and these values occur with lower frequency than data points that are closer to the mean."
   ]
  },
  {
   "cell_type": "code",
   "execution_count": null,
   "metadata": {},
   "outputs": [],
   "source": []
  }
 ],
 "metadata": {
  "kernelspec": {
   "display_name": "Python 3 (ipykernel)",
   "language": "python",
   "name": "python3"
  },
  "language_info": {
   "codemirror_mode": {
    "name": "ipython",
    "version": 3
   },
   "file_extension": ".py",
   "mimetype": "text/x-python",
   "name": "python",
   "nbconvert_exporter": "python",
   "pygments_lexer": "ipython3",
   "version": "3.10.8"
  }
 },
 "nbformat": 4,
 "nbformat_minor": 4
}
