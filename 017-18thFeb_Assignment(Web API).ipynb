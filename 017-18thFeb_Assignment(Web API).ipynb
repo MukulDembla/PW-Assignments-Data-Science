{
 "cells": [
  {
   "cell_type": "markdown",
   "metadata": {},
   "source": [
    "## Web API Assignment"
   ]
  },
  {
   "cell_type": "markdown",
   "metadata": {},
   "source": [
    "## Q1. What is an API? Give an example, where an API is used in real life."
   ]
  },
  {
   "cell_type": "markdown",
   "metadata": {},
   "source": [
    "- API stands for Application Programming Interface.\n",
    "- It allows two software applications to interact with each other by sharing data and functionality.\n",
    "- It acts as a mediator between two applications, enabling them to communicate with each other.\n",
    "####\n",
    "- Some of the the most common real life API application examples are:\n",
    "    -  Weather data, ID login, payment, currency convertor, etc"
   ]
  },
  {
   "cell_type": "markdown",
   "metadata": {},
   "source": [
    "## Q2. Give advantages and disadvantages of using API.  "
   ]
  },
  {
   "cell_type": "markdown",
   "metadata": {},
   "source": [
    "- Advantages of APIs\n",
    "  - Smooth Intergration\n",
    "    - Allow systems to perform smoothly with seemless data sharing.\n",
    "    ####\n",
    "  - Automated Tasks\n",
    "    - Applications ensure automation through their inter-relationship and thereby resulting in a smooth transition of data.\n",
    "    ####\n",
    "  - Application\n",
    "    - As APIs can access the app components, the delivery of services and information is more flexible.\n",
    "    ####\n",
    "  - Efficiency\n",
    "    - When access is provided to an API, the content generated can be published automatically and is available for every channel.\n",
    "    ####\n",
    "  - Adaptation\n",
    "    - Needs change over time and APIs help to anticipate changes.\n",
    "\n",
    "####\n",
    "\n",
    "- Disadvantages of APIs\n",
    "  - Security\n",
    "    - As a single point of entry, an API is a gateway and can become a hacker's primary target.\n",
    "    - Once the API is compromised, all other applications and systems become vulnerable.\n",
    "    ####\n",
    "  - Cost\n",
    "    - Providing an API is expensive in terms of development time, ongoing maintenance, documentation and support.\n",
    "    ####\n",
    "  - Inconsistency\n",
    "    - In case you need to tweak existing code to add some extra functionality you might need to wade through layers and layers of files just to identify the line where you need to make any changes. It can get pretty annoying at times.\n",
    "    ####\n",
    "  - Time\n",
    "    - Creating API is a very time-consuming process.\n"
   ]
  },
  {
   "cell_type": "markdown",
   "metadata": {},
   "source": [
    "## Q3. What is a Web API? Differentiate between API and Web API. "
   ]
  },
  {
   "cell_type": "markdown",
   "metadata": {},
   "source": [
    "- Web API is a standardized way for different software systems to communicate and exchange data over the internet, allowing developers to create applications that can access and use functionality provided by other systems.\n",
    "####\n",
    "- API\n",
    "   - All APIs are not web services.\n",
    "   - Responses are formatted using Web API’s MediaTypeFormatter into XML, JSON, or any other given format.\n",
    "   - API has a light-weight architecture.\n",
    "   - It can be used by a client who understands JSON or XML.\n",
    "   - API can be used for any style of communication.\n",
    "   - It provides support for the HTTP/s protocol: URL Request/Response Headers, etc.\n",
    "####\n",
    "- Web API\n",
    "   - All web services are APIs.\n",
    "   - It supports XML.\n",
    "   - We need a SOAP protocol to send or receive and data over the network. Therefore it does not have light-weight architecture.\n",
    "   - It can be used by any client who understands XML.\n",
    "   - Web service uses three styles: REST, SOAP, and XML-RPC for communication.\n",
    "   - It provides supports only for the HTTP protocol.\t"
   ]
  },
  {
   "cell_type": "markdown",
   "metadata": {},
   "source": [
    "## Q4. Explain REST and SOAP Architecture. Mention shortcomings of SOAP. "
   ]
  },
  {
   "cell_type": "markdown",
   "metadata": {},
   "source": [
    "- REST\n",
    "    - It stands for Representational State Transfer.\n",
    "    - REST is a set of architectural principles attuned to the needs of lightweight web services and mobile applications.\n",
    "    - It's a set of guidelines, it leaves the implementation of these recommendations to developers.\n",
    "    - When a request for data is sent to a REST API, it’s usually done through hypertext transfer protocol (commonly referred to as HTTP).\n",
    "    - Once a request is received, APIs designed for REST can return messages in a variety of formats: HTML, XML, plain text, and JSON.\n",
    "    - JSON (JavaScript object notation) is favored as a message format.\n",
    "    - It is lightweight.\n",
    "    - It  more flexible and can be easier to set up.\n",
    "####\n",
    "- SOAP\n",
    "    - It stands for simple object access protocol\n",
    "    - It is a standard protocol that was first designed so that applications built with different languages and on different platforms could communicate.\n",
    "    - As it is a protocol, it imposes built-in rules that increase its complexity and overhead, which can lead to longer page load times.\n",
    "    - It is preferable for enterprise scenarios.\n",
    "    - The built-in compliance standards include ACID transaction which is a set of properties for ensuring reliable database transactions.\n",
    "####\n",
    "- The shortcomings of SOAP are\n",
    "    - Highly complex\n",
    "        - In comparison to Rest, SOAP is significantly more complex.\n",
    "    ####\n",
    "    - Less Flexible \n",
    "        - It's also less flexible. This might present a challenge for developers that are not highly skilled. The extensive processing required may also slow down performance.\n",
    "    ####\n",
    "    - No variety of data formats\n",
    "        - SOAP is also extremely limited in its support of data formats. The formats supported by Rest include HTML, JSON, YAML, XML and others. Meanwhile, SOAP only supports XML.\n",
    "    ####\n",
    "    - API calls are not cached\n",
    "        - It's not possible for SOAP API calls to be cached.\n",
    "    ####\n",
    "    - Uses more bandwidth\n",
    "        - SOAP is generally slower in comparison to Rest and it also uses more bandwidth given its very complex nature. It’s another limiting factor in the efficacy of this technology for certain projects."
   ]
  },
  {
   "cell_type": "markdown",
   "metadata": {},
   "source": [
    "## Q5. Differentiate between REST and SOAP."
   ]
  },
  {
   "cell_type": "markdown",
   "metadata": {},
   "source": [
    "- REST\n",
    "    - It is an architectural style, on which RESTFul web services are built.\n",
    "    - It takes full advantage of the HTTP protocol, including methods e.g. GET, POST, PUT, and DELETE\n",
    "    - It supports various formats like JSON, XML, and HTML.\n",
    "    - Processing a RESTful web service request is much faster than processing a SOAP message.\n",
    "    - The messages consume less bandwidth than SOAP messages for the same type of operation.\n",
    "    - REST services are heavily dependent upon HTTP protocol.\n",
    "    - Security is implemented using standard and traditional solutions for authorized access to certain web resources. \n",
    "    - It uses web caching mechanism because they are basically URL-based. On the other hand, SOAP web services totally ignore the web caching mechanism.\n",
    "####\n",
    "- SOAP\n",
    "    - It is a standard devised to streamline communication between client and server in terms of format.\n",
    "    - It uses XML messages to communicate with the server.'\n",
    "    - It support only XML format.\n",
    "    - The messages are slower complared to RESTful services.\n",
    "    - The messages consume more bandwidth than RESTful messages for the same type of operation.\n",
    "    - the messages are wrapped in a SOAP envelope they can be sent over to any transport mechanism like TCP, FTP, SMTP, or any other protocol.\n",
    "    - We implement additional infrastructure on the web to enable message or transport-level security concerns.\n",
    "    - It doesn't use the web caching mechanism."
   ]
  }
 ],
 "metadata": {
  "kernelspec": {
   "display_name": "Python 3 (ipykernel)",
   "language": "python",
   "name": "python3"
  },
  "language_info": {
   "codemirror_mode": {
    "name": "ipython",
    "version": 3
   },
   "file_extension": ".py",
   "mimetype": "text/x-python",
   "name": "python",
   "nbconvert_exporter": "python",
   "pygments_lexer": "ipython3",
   "version": "3.10.8"
  },
  "vscode": {
   "interpreter": {
    "hash": "916dbcbb3f70747c44a77c7bcd40155683ae19c65e1c03b4aa3499c5328201f1"
   }
  }
 },
 "nbformat": 4,
 "nbformat_minor": 4
}
