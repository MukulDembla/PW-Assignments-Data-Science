{
 "cells": [
  {
   "cell_type": "markdown",
   "metadata": {},
   "source": [
    "# F Distribution Assignment - 14 Mar 2023"
   ]
  },
  {
   "cell_type": "markdown",
   "metadata": {},
   "source": [
    "## Q1. Write a Python function that takes in two arrays of data and calculates the F-value for a variance ratio test. The function should return the F-value and the corresponding p-value for the test."
   ]
  },
  {
   "cell_type": "code",
   "execution_count": 1,
   "metadata": {},
   "outputs": [
    {
     "name": "stdout",
     "output_type": "stream",
     "text": [
      "The f_value and the p_value are 1.2085792378178393 and 0.2548851572493235 respectively.\n"
     ]
    }
   ],
   "source": [
    "import numpy as np\n",
    "from scipy.stats import f\n",
    "\n",
    "def variance_ratio_test(x, y):\n",
    "    \"\"\"\n",
    "    Calculate the F-value and p-value for a variance ratio test.\n",
    "    \n",
    "    Args:\n",
    "    x (array-like): First array of data\n",
    "    y (array-like): Second array of data\n",
    "    \n",
    "    Returns:\n",
    "    F (float): The F-value for the variance ratio test\n",
    "    p_value (float): The p-value for the variance ratio test\n",
    "    \"\"\"\n",
    "    n_x = len(x)\n",
    "    n_y = len(y)\n",
    "    var_x = np.var(x, ddof=1)\n",
    "    var_y = np.var(y, ddof=1)\n",
    "    F = var_x / var_y\n",
    "    p_value = f.sf(F, n_x-1, n_y-1)\n",
    "    return F, p_value\n",
    "\n",
    "data1 = np.random.randint(100, size=(50))\n",
    "data2 = np.random.randint(100, size=(50))\n",
    "\n",
    "f_val, p_val= variance_ratio_test(data1, data2)\n",
    "print(\"The f_value and the p_value are\",f_val,\"and\",p_val,\"respectively.\")"
   ]
  },
  {
   "cell_type": "markdown",
   "metadata": {},
   "source": [
    "- The function first calculates the sample variances for the two input arrays x and y using the np.var function with the ddof parameter set to 1, which specifies that the denominator of the variance calculation should be n-1 instead of n to account for the fact that we are estimating the population variance from a sample.\n",
    "- The function then calculates the F-value by dividing the sample variance of x by the sample variance of y.\n",
    "- Then, the function calculates the p-value for the F-value using the f.sf function from the scipy.stats module.\n",
    "- The f.sf function returns the survival function, which gives the probability that a random variable with an F-distribution with the specified degrees of freedom is greater than or equal to the given F-value. To obtain the p-value, we need to subtract this probability from 1."
   ]
  },
  {
   "cell_type": "markdown",
   "metadata": {},
   "source": [
    "## Q2. Given a significance level of 0.05 and the degrees of freedom for the numerator and denominator of an F-distribution, write a Python function that returns the critical F-value for a two-tailed test."
   ]
  },
  {
   "cell_type": "code",
   "execution_count": 2,
   "metadata": {},
   "outputs": [
    {
     "name": "stdout",
     "output_type": "stream",
     "text": [
      "The critical F-value for a two-tailed test is 0.13535672229749918\n"
     ]
    }
   ],
   "source": [
    "from scipy.stats import f\n",
    "\n",
    "\n",
    "def critical_f_value(alpha, dfn, dfd):\n",
    "    \"\"\"\n",
    "    Returns the critical F-value for a two-tailed test given a significance level and \n",
    "    the degrees of freedom for the numerator and denominator of an F-distribution.\n",
    "\n",
    "    Args:\n",
    "    alpha (float): The significance level\n",
    "    dfn (int): The degrees of freedom for the numerator\n",
    "    dfd (int): The degrees of freedom for the denominator\n",
    "\n",
    "    Returns:\n",
    "    crit_f (float): The critical F-value\n",
    "    \"\"\"\n",
    "    crit_f = f.ppf(alpha/2, dfn, dfd)\n",
    "    return crit_f\n",
    "\n",
    "crit_f_value = critical_f_value(0.05, 5, 4)\n",
    "print(\"The critical F-value for a two-tailed test is\", crit_f_value)\n"
   ]
  },
  {
   "cell_type": "markdown",
   "metadata": {},
   "source": [
    "- The function uses the f.ppf function from the scipy.stats module to calculate the critical F-value for a two-tailed test.\n",
    "- The f.ppf function returns the percent point function (inverse of the cumulative distribution function) of the F-distribution for a given probability (alpha/2 in this case) and degrees of freedom for the numerator and denominator of the F-distribution.\n",
    "- The returned value is the F-value such that the probability of observing a larger F-value is equal to alpha/2."
   ]
  },
  {
   "cell_type": "markdown",
   "metadata": {},
   "source": [
    "## Q3. Write a Python program that generates random samples from two normal distributions with known variances and uses an F-test to determine if the variances are equal. The program should output the F-value, degrees of freedom, and p-value for the test."
   ]
  },
  {
   "cell_type": "code",
   "execution_count": 3,
   "metadata": {},
   "outputs": [
    {
     "name": "stdout",
     "output_type": "stream",
     "text": [
      "F-value: 0.4164\n",
      "Degrees of freedom: (29, 24)\n",
      "p-value: 0.9872\n"
     ]
    }
   ],
   "source": [
    "import numpy as np\n",
    "from scipy.stats import f\n",
    "\n",
    "# Set the random seed for reproducibility\n",
    "np.random.seed(123)\n",
    "\n",
    "# Generate random samples from two normal distributions with known variances\n",
    "n1 = 30\n",
    "n2 = 25\n",
    "mean1 = 5\n",
    "mean2 = 5\n",
    "var1 = 4\n",
    "var2 = 9\n",
    "x = np.random.normal(mean1, np.sqrt(var1), n1)\n",
    "y = np.random.normal(mean2, np.sqrt(var2), n2)\n",
    "\n",
    "# Calculate the F-value and p-value for the variance ratio test\n",
    "dfn = n1 - 1\n",
    "dfd = n2 - 1\n",
    "F = np.var(x, ddof=1) / np.var(y, ddof=1)\n",
    "p_value = f.sf(F, dfn, dfd)\n",
    "\n",
    "# Print the results\n",
    "print(\"F-value: {:.4f}\".format(F))\n",
    "print(\"Degrees of freedom: ({}, {})\".format(dfn, dfd))\n",
    "print(\"p-value: {:.4f}\".format(p_value))\n"
   ]
  },
  {
   "cell_type": "markdown",
   "metadata": {},
   "source": [
    "- The program first sets the random seed for reproducibility using the np.random.seed function. Then, it generates random samples from two normal distributions with known variances using the np.random.normal function. The parameters for the distributions are specified as follows: mean1 and var1 for the first distribution, and mean2 and var2 for the second distribution. The sample sizes for the two distributions are specified as n1 and n2, respectively.\n",
    "- The program then calculates the F-value and p-value for the variance ratio test using the np.var and f.sf functions from the numpy and scipy.stats modules, respectively. The degrees of freedom for the numerator and denominator of the F-distribution are calculated as dfn = n1 - 1 and dfd = n2 - 1, respectively.\n",
    "- The program prints the results of the test, including the F-value, degrees of freedom, and p-value, using the print function with formatted strings."
   ]
  },
  {
   "cell_type": "markdown",
   "metadata": {},
   "source": [
    "## Q4.The variances of two populations are known to be 10 and 15. A sample of 12 observations is taken from each population. Conduct an F-test at the 5% significance level to determine if the variances are significantly different."
   ]
  },
  {
   "cell_type": "code",
   "execution_count": 4,
   "metadata": {},
   "outputs": [
    {
     "name": "stdout",
     "output_type": "stream",
     "text": [
      "The variances are not significantly different (p-value = 0.7823)\n"
     ]
    }
   ],
   "source": [
    "import numpy as np\n",
    "from scipy.stats import f\n",
    "\n",
    "# Set the significance level\n",
    "alpha = 0.05\n",
    "\n",
    "# Set the known variances\n",
    "var1 = 10\n",
    "var2 = 15\n",
    "\n",
    "# Set the sample sizes\n",
    "n1 = 12\n",
    "n2 = 12\n",
    "\n",
    "# Generate random samples from two normal distributions with known variances\n",
    "mean1 = 0\n",
    "mean2 = 0\n",
    "x = np.random.normal(mean1, np.sqrt(var1), n1)\n",
    "y = np.random.normal(mean2, np.sqrt(var2), n2)\n",
    "\n",
    "# Calculate the F-value and p-value for the variance ratio test\n",
    "dfn = n1 - 1\n",
    "dfd = n2 - 1\n",
    "F = np.var(x, ddof=1) / np.var(y, ddof=1)\n",
    "p_value = f.sf(F, dfn, dfd)\n",
    "\n",
    "# Determine if the variances are significantly different\n",
    "if p_value < alpha:\n",
    "    print(\"The variances are significantly different (p-value = {:.4f})\".format(p_value))\n",
    "else:\n",
    "    print(\"The variances are not significantly different (p-value = {:.4f})\".format(p_value))\n"
   ]
  },
  {
   "cell_type": "markdown",
   "metadata": {},
   "source": [
    "- First, we set the significance level to 0.05 using the variable alpha.\n",
    "- We set the known variances of the two populations to 10 and 15 using the variables var1 and var2.\n",
    "- We also set the sample sizes to 12 using the variables n1 and n2.\n",
    "- Then, we generate random samples from two normal distributions with known variances using the np.random.normal function. The means of the two distributions are set to 0, since the means are not relevant for the F-test.\n",
    "- We then calculate the F-value and p-value for the variance ratio test using the np.var and f.sf functions from the numpy and scipy.stats modules, respectively. The degrees of freedom for the numerator and denominator of the F-distribution are calculated as dfn = n1 - 1 and dfd = n2 - 1, respectively.\n",
    "- We determine if the variances are significantly different by comparing the p-value to the significance level. If the p-value is less than the significance level, we conclude that the variances are significantly different. Otherwise, we conclude that the variances are not significantly different."
   ]
  },
  {
   "cell_type": "markdown",
   "metadata": {},
   "source": [
    "## Q5. A manufacturer claims that the variance of the diameter of a certain product is 0.005. A sample of 25 products is taken, and the sample variance is found to be 0.006. Conduct an F-test at the 1% significance level to determine if the claim is justified. "
   ]
  },
  {
   "cell_type": "code",
   "execution_count": 5,
   "metadata": {},
   "outputs": [
    {
     "name": "stdout",
     "output_type": "stream",
     "text": [
      "The claim is justified (p-value = 0.3294)\n"
     ]
    }
   ],
   "source": [
    "import numpy as np\n",
    "from scipy.stats import f\n",
    "\n",
    "# Set the significance level\n",
    "alpha = 0.01\n",
    "\n",
    "# Set the claimed variance\n",
    "var_claimed = 0.005\n",
    "\n",
    "# Set the sample size\n",
    "n = 25\n",
    "\n",
    "# Set the sample variance\n",
    "var_sample = 0.006\n",
    "\n",
    "# Calculate the F-value and p-value for the variance ratio test\n",
    "dfn = n - 1\n",
    "dfd = n - 1\n",
    "F = var_sample / var_claimed\n",
    "p_value = f.sf(F, dfn, dfd)\n",
    "\n",
    "# Determine if the claim is justified\n",
    "if p_value < alpha:\n",
    "    print(\"The claim is not justified (p-value = {:.4f})\".format(p_value))\n",
    "else:\n",
    "    print(\"The claim is justified (p-value = {:.4f})\".format(p_value))\n"
   ]
  },
  {
   "cell_type": "markdown",
   "metadata": {},
   "source": [
    "- we set the significance level to 0.01 using the variable alpha.\n",
    "- we set the claimed variance of the diameter of the product to 0.005 using the variable var_claimed.\n",
    "- We also set the sample size to 25 using the variable n.\n",
    "- we set the sample variance of the diameter of the product to 0.006 using the variable var_sample.\n",
    "- We then calculate the F-value and p-value for the variance ratio test using the formula F = var_sample / var_claimed and the f.sf function from the scipy.stats module. The degrees of freedom for the numerator and denominator of the F-distribution are both equal to n - 1.\n",
    "- We determine if the claim is justified by comparing the p-value to the significance level. If the p-value is less than the significance level, we conclude that the claim is not justified. Otherwise, we conclude that the claim is justified."
   ]
  },
  {
   "cell_type": "markdown",
   "metadata": {},
   "source": [
    "## Q6. Write a Python function that takes in the degrees of freedom for the numerator and denominator of an F-distribution and calculates the mean and variance of the distribution. The function should return the mean and variance as a tuple."
   ]
  },
  {
   "cell_type": "code",
   "execution_count": 6,
   "metadata": {},
   "outputs": [
    {
     "name": "stdout",
     "output_type": "stream",
     "text": [
      "The mean and the variance of the F-distribution are  1.4 and 2.6133333333333333 respectively.\n"
     ]
    }
   ],
   "source": [
    "def f_distribution_mean_var(dfn, dfd):\n",
    "    \"\"\"\n",
    "    Calculate the mean and variance of an F-distribution given the degrees of freedom for the numerator and denominator.\n",
    "\n",
    "    Parameters:\n",
    "    dfn (int): Degrees of freedom for the numerator.\n",
    "    dfd (int): Degrees of freedom for the denominator.\n",
    "\n",
    "    Returns:\n",
    "    tuple: Mean and variance of the F-distribution.\n",
    "    \"\"\"\n",
    "    mean = dfd / (dfd - 2)\n",
    "    variance = (2 * dfd ** 2 * (dfn + dfd - 2)) / \\\n",
    "        (dfn * (dfd - 2) ** 2 * (dfd - 4))\n",
    "\n",
    "    return mean, variance\n",
    "\n",
    "\n",
    "mean, variance = f_distribution_mean_var(5, 7)\n",
    "\n",
    "print(\"The mean and the variance of the F-distribution are \",\n",
    "      mean, \"and\", variance, \"respectively.\")\n"
   ]
  },
  {
   "cell_type": "markdown",
   "metadata": {},
   "source": [
    "- The f_distribution_mean_var function takes in two parameters, dfn and dfd, which represent the degrees of freedom for the numerator and denominator of the F-distribution, respectively.\n",
    "- The mean of the F-distribution is calculated as dfd / (dfd - 2).\n",
    "- The variance of the F-distribution is calculated using the formula (2 * dfd ** 2 * (dfn + dfd - 2)) / (dfn * (dfd - 2) ** 2 * (dfd - 4)).\n",
    "- The function returns a tuple of the mean and variance of the F-distribution."
   ]
  },
  {
   "cell_type": "markdown",
   "metadata": {},
   "source": [
    "## Q7. A random sample of 10 measurements is taken from a normal population with unknown variance. The sample variance is found to be 25. Another random sample of 15 measurements is taken from another normal population with unknown variance, and the sample variance is found to be 20. Conduct an F-test at the 10% significance level to determine if the variances are significantly different."
   ]
  },
  {
   "cell_type": "code",
   "execution_count": 8,
   "metadata": {},
   "outputs": [
    {
     "name": "stdout",
     "output_type": "stream",
     "text": [
      "The variances are not significantly different (p-value = 0.3416)\n"
     ]
    }
   ],
   "source": [
    "import numpy as np\n",
    "from scipy.stats import f\n",
    "\n",
    "# Set the significance level\n",
    "alpha = 0.1\n",
    "\n",
    "# Set the sample sizes\n",
    "n1 = 10\n",
    "n2 = 15\n",
    "\n",
    "# Set the sample variances\n",
    "s1 = 25\n",
    "s2 = 20\n",
    "\n",
    "# Calculate the F-value and p-value for the variance ratio test\n",
    "dfn = n1 - 1\n",
    "dfd = n2 - 1\n",
    "F = s1 / s2\n",
    "p_value = f.sf(F, dfn, dfd)\n",
    "\n",
    "# Determine if the variances are significantly different\n",
    "if p_value < alpha:\n",
    "    print(\"The variances are significantly different (p-value = {:.4f})\".format(p_value))\n",
    "else:\n",
    "    print(\"The variances are not significantly different (p-value = {:.4f})\".format(p_value))\n"
   ]
  },
  {
   "cell_type": "markdown",
   "metadata": {},
   "source": [
    "- First, we set the significance level to 0.1 using the variable alpha.\n",
    "- We set the sample sizes to 10 and 15 using the variables n1 and n2, respectively.\n",
    "- We also set the sample variances to 25 and 20 using the variables s1 and s2, respectively.\n",
    "- We then calculate the F-value and p-value for the variance ratio test using the formula F = s1 / s2 and the f.sf function from the scipy.stats module. The degrees of freedom for the numerator and denominator of the F-distribution are n1 - 1 and n2 - 1, respectively.\n",
    "- We determine if the variances are significantly different by comparing the p-value to the significance level. If the p-value is less than the significance level, we conclude that the variances are significantly different. Otherwise, we conclude that the variances are not significantly different."
   ]
  },
  {
   "cell_type": "markdown",
   "metadata": {},
   "source": [
    "## Q8. The following data represent the waiting times in minutes at two different restaurants on a Saturday night: Restaurant A: 24, 25, 28, 23, 22, 20, 27; Restaurant B: 31, 33, 35, 30, 32, 36. Conduct an F-test at the 5% significance level to determine if the variances are significantly different. "
   ]
  },
  {
   "cell_type": "code",
   "execution_count": 9,
   "metadata": {},
   "outputs": [
    {
     "name": "stdout",
     "output_type": "stream",
     "text": [
      "The variances are not significantly different (p-value = 0.3487)\n"
     ]
    }
   ],
   "source": [
    "import numpy as np\n",
    "from scipy.stats import f\n",
    "\n",
    "# Set the significance level\n",
    "alpha = 0.05\n",
    "\n",
    "# Set the data\n",
    "a = np.array([24, 25, 28, 23, 22, 20, 27])\n",
    "b = np.array([31, 33, 35, 30, 32, 36])\n",
    "\n",
    "# Calculate the sample variances\n",
    "var_a = np.var(a, ddof=1)\n",
    "var_b = np.var(b, ddof=1)\n",
    "\n",
    "# Calculate the F-value and p-value for the variance ratio test\n",
    "F = var_a / var_b\n",
    "dfn = len(a) - 1\n",
    "dfd = len(b) - 1\n",
    "p_value = f.sf(F, dfn, dfd)\n",
    "\n",
    "# Determine if the variances are significantly different\n",
    "if p_value < alpha:\n",
    "    print(\"The variances are significantly different (p-value = {:.4f})\".format(p_value))\n",
    "else:\n",
    "    print(\"The variances are not significantly different (p-value = {:.4f})\".format(p_value))"
   ]
  },
  {
   "cell_type": "markdown",
   "metadata": {},
   "source": [
    "- First, we set the significance level to 0.05 using the variable alpha.\n",
    "- We set the data for each restaurant using the variables a and b, respectively.\n",
    "- We then calculate the sample variances using the np.var function with ddof=1 to account for the fact that we are estimating the population variance from a sample.\n",
    "- We calculate the F-value and p-value for the variance ratio test using the formula F = var_a / var_b and the f.sf function from the scipy.stats module. The degrees of freedom for the numerator and denominator of the F-distribution are len(a) - 1 and len(b) - 1, respectively.\n",
    "- We determine if the variances are significantly different by comparing the p-value to the significance level. If the p-value is less than the significance level, we conclude that the variances are significantly different. Otherwise, we conclude that the variances are not significantly different."
   ]
  },
  {
   "cell_type": "markdown",
   "metadata": {},
   "source": [
    "## Q9. The following data represent the test scores of two groups of students: Group A: 80, 85, 90, 92, 87, 83; Group B: 75, 78, 82, 79, 81, 84. Conduct an F-test at the 1% significance level to determine if the variances are significantly different."
   ]
  },
  {
   "cell_type": "code",
   "execution_count": 10,
   "metadata": {},
   "outputs": [
    {
     "name": "stdout",
     "output_type": "stream",
     "text": [
      "The variances are not significantly different (p-value = 0.2416)\n"
     ]
    }
   ],
   "source": [
    "import numpy as np\n",
    "from scipy.stats import f\n",
    "\n",
    "# Set the significance level\n",
    "alpha = 0.01\n",
    "\n",
    "# Set the data\n",
    "a = np.array([80, 85, 90, 92, 87, 83])\n",
    "b = np.array([75, 78, 82, 79, 81, 84])\n",
    "\n",
    "# Calculate the sample variances\n",
    "var_a = np.var(a, ddof=1)\n",
    "var_b = np.var(b, ddof=1)\n",
    "\n",
    "# Calculate the F-value and p-value for the variance ratio test\n",
    "F = var_a / var_b\n",
    "dfn = len(a) - 1\n",
    "dfd = len(b) - 1\n",
    "p_value = f.sf(F, dfn, dfd)\n",
    "\n",
    "# Determine if the variances are significantly different\n",
    "if p_value < alpha:\n",
    "    print(\"The variances are significantly different (p-value = {:.4f})\".format(p_value))\n",
    "else:\n",
    "    print(\"The variances are not significantly different (p-value = {:.4f})\".format(p_value))\n"
   ]
  },
  {
   "cell_type": "markdown",
   "metadata": {},
   "source": [
    "- First, we set the significance level to 0.01 using the variable alpha.\n",
    "- we set the data for each group using the variables a and b, respectively.\n",
    "- We then calculate the sample variances using the np.var function with ddof=1 to account for the fact that we are estimating the population variance from a sample.\n",
    "- We calculate the F-value and p-value for the variance ratio test using the formula F = var_a / var_b and the f.sf function from the scipy.stats module. The degrees of freedom for the numerator and denominator of the F-distribution are len(a) - 1 and len(b) - 1, respectively.\n",
    "- We determine if the variances are significantly different by comparing the p-value to the significance level. If the p-value is less than the significance level, we conclude that the variances are significantly different. Otherwise, we conclude that the variances are not significantly different."
   ]
  }
 ],
 "metadata": {
  "kernelspec": {
   "display_name": "Python 3 (ipykernel)",
   "language": "python",
   "name": "python3"
  },
  "language_info": {
   "codemirror_mode": {
    "name": "ipython",
    "version": 3
   },
   "file_extension": ".py",
   "mimetype": "text/x-python",
   "name": "python",
   "nbconvert_exporter": "python",
   "pygments_lexer": "ipython3",
   "version": "3.10.8"
  }
 },
 "nbformat": 4,
 "nbformat_minor": 4
}
