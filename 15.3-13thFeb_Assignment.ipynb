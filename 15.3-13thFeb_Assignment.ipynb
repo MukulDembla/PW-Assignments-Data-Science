{
 "cells": [
  {
   "cell_type": "markdown",
   "id": "08a48ea4-ab29-4cb4-84b2-61db607e81f2",
   "metadata": {},
   "source": [
    "## Q1. Explain why we have to use the Exception class while creating a Custom Exception.\n",
    "\n",
    "  - Note: Here Exception class refers to the base class for all the exceptions."
   ]
  },
  {
   "cell_type": "markdown",
   "id": "c553b62d-3d74-4fc8-8dc1-92c89031d7d7",
   "metadata": {},
   "source": [
    "- The exception class is like the super class for all exceptions.. when we create an custom exception we inherit the properties of exception class"
   ]
  },
  {
   "cell_type": "markdown",
   "id": "e94be82c-b3ba-44cb-aaf6-af67f990d833",
   "metadata": {},
   "source": [
    "## Q2. Write a python program to print Python Exception Hierarchy"
   ]
  },
  {
   "cell_type": "code",
   "execution_count": null,
   "id": "08ca9f0d-a5aa-4eb8-8e85-82536192b1b6",
   "metadata": {},
   "outputs": [],
   "source": []
  },
  {
   "cell_type": "markdown",
   "id": "b858ff80-4c24-4847-9b62-511679a49051",
   "metadata": {},
   "source": [
    "## Q3. What errors are defined in the ArithmeticError class? Explain any two with an example."
   ]
  },
  {
   "cell_type": "markdown",
   "id": "ff485982-afbf-495f-b46d-bc2f80c23f43",
   "metadata": {},
   "source": [
    "- The ArithmeticError class is a built-in class in Python that defines errors that occur during arithmetic operations. "
   ]
  },
  {
   "cell_type": "markdown",
   "id": "612bc8be-ab97-49db-990f-0af911ce358d",
   "metadata": {},
   "source": [
    "- Example\n",
    "    - 1. ZeroDivisionError: This error is raised when a number is divided by zero.\n",
    "    - 2. OverflowError: This error is raised when a calculation exceeds the maximum value that can be represented in Python"
   ]
  },
  {
   "cell_type": "code",
   "execution_count": 4,
   "id": "a1b1e4b7-a3e4-4906-bd23-e9e6f1a2151f",
   "metadata": {},
   "outputs": [
    {
     "ename": "ZeroDivisionError",
     "evalue": "division by zero",
     "output_type": "error",
     "traceback": [
      "\u001b[0;31m---------------------------------------------------------------------------\u001b[0m",
      "\u001b[0;31mZeroDivisionError\u001b[0m                         Traceback (most recent call last)",
      "Cell \u001b[0;32mIn[4], line 4\u001b[0m\n\u001b[1;32m      2\u001b[0m num1 \u001b[38;5;241m=\u001b[39m \u001b[38;5;241m10\u001b[39m\n\u001b[1;32m      3\u001b[0m num2 \u001b[38;5;241m=\u001b[39m \u001b[38;5;241m0\u001b[39m\n\u001b[0;32m----> 4\u001b[0m result \u001b[38;5;241m=\u001b[39m \u001b[43mnum1\u001b[49m\u001b[43m \u001b[49m\u001b[38;5;241;43m/\u001b[39;49m\u001b[43m \u001b[49m\u001b[43mnum2\u001b[49m\n",
      "\u001b[0;31mZeroDivisionError\u001b[0m: division by zero"
     ]
    }
   ],
   "source": [
    "#ZeroDivisionError\n",
    "num1 = 10\n",
    "num2 = 0\n",
    "result = num1 / num2"
   ]
  },
  {
   "cell_type": "code",
   "execution_count": 7,
   "id": "d4d23e2a-385e-457f-8eba-948eaeab58d2",
   "metadata": {},
   "outputs": [
    {
     "ename": "OverflowError",
     "evalue": "(34, 'Numerical result out of range')",
     "output_type": "error",
     "traceback": [
      "\u001b[0;31m---------------------------------------------------------------------------\u001b[0m",
      "\u001b[0;31mOverflowError\u001b[0m                             Traceback (most recent call last)",
      "Cell \u001b[0;32mIn[7], line 3\u001b[0m\n\u001b[1;32m      1\u001b[0m \u001b[38;5;66;03m# OverflowError\u001b[39;00m\n\u001b[1;32m      2\u001b[0m n \u001b[38;5;241m=\u001b[39m \u001b[38;5;241m10.0\u001b[39m\n\u001b[0;32m----> 3\u001b[0m n \u001b[38;5;241m*\u001b[39m\u001b[38;5;241m*\u001b[39m\u001b[38;5;241m=\u001b[39m \u001b[38;5;241m1000\u001b[39m\n",
      "\u001b[0;31mOverflowError\u001b[0m: (34, 'Numerical result out of range')"
     ]
    }
   ],
   "source": [
    "# OverflowError\n",
    "n = 10.0\n",
    "n **= 1000"
   ]
  },
  {
   "cell_type": "markdown",
   "id": "44e90826-4205-43bd-bbf1-281b2f37ebfb",
   "metadata": {},
   "source": [
    "## Q4. Why LookupError class is used? Explain with an example KeyError and IndexError."
   ]
  },
  {
   "cell_type": "markdown",
   "id": "729db02f-5e61-48b9-9f6f-fe209503e64e",
   "metadata": {},
   "source": [
    "- The LookupError class is the base class for all exceptions that are related to lookup in a sequence or mapping. It is derived from the Exception class and includes two main subclasses: KeyError and IndexError."
   ]
  },
  {
   "cell_type": "markdown",
   "id": "ea1e5688-60e1-4a57-8b75-e4fb8c28d76f",
   "metadata": {},
   "source": [
    "- KeyError is raised when you try to access a key that does not exist in a dictionary."
   ]
  },
  {
   "cell_type": "code",
   "execution_count": 1,
   "id": "b5b40ac5-99b4-45ec-a982-b95f6d6b6e45",
   "metadata": {},
   "outputs": [
    {
     "ename": "KeyError",
     "evalue": "'age'",
     "output_type": "error",
     "traceback": [
      "\u001b[0;31m---------------------------------------------------------------------------\u001b[0m",
      "\u001b[0;31mKeyError\u001b[0m                                  Traceback (most recent call last)",
      "Cell \u001b[0;32mIn[1], line 3\u001b[0m\n\u001b[1;32m      1\u001b[0m dict1 \u001b[38;5;241m=\u001b[39m {\u001b[38;5;124m'\u001b[39m\u001b[38;5;124mname\u001b[39m\u001b[38;5;124m'\u001b[39m:\u001b[38;5;124m'\u001b[39m\u001b[38;5;124mmukul\u001b[39m\u001b[38;5;124m'\u001b[39m, \u001b[38;5;124m'\u001b[39m\u001b[38;5;124mcourse\u001b[39m\u001b[38;5;124m'\u001b[39m:\u001b[38;5;124m'\u001b[39m\u001b[38;5;124mdata science\u001b[39m\u001b[38;5;124m'\u001b[39m, \u001b[38;5;124m'\u001b[39m\u001b[38;5;124mbatch\u001b[39m\u001b[38;5;124m'\u001b[39m:\u001b[38;5;124m'\u001b[39m\u001b[38;5;124mimpact\u001b[39m\u001b[38;5;124m'\u001b[39m}\n\u001b[0;32m----> 3\u001b[0m \u001b[38;5;28mprint\u001b[39m(\u001b[43mdict1\u001b[49m\u001b[43m[\u001b[49m\u001b[38;5;124;43m'\u001b[39;49m\u001b[38;5;124;43mage\u001b[39;49m\u001b[38;5;124;43m'\u001b[39;49m\u001b[43m]\u001b[49m)\n",
      "\u001b[0;31mKeyError\u001b[0m: 'age'"
     ]
    }
   ],
   "source": [
    "dict1 = {'name':'mukul', 'course':'data science', 'batch':'impact'}\n",
    "\n",
    "print(dict1['age'])"
   ]
  },
  {
   "cell_type": "markdown",
   "id": "94d4db70-eb44-403f-aec3-127f55de8d04",
   "metadata": {},
   "source": [
    "- IndexError, on the other hand, is raised when you try to access an index that is out of range in a list or a tuple"
   ]
  },
  {
   "cell_type": "code",
   "execution_count": 2,
   "id": "fa2fe3d1-2f08-40b7-9892-e6f3d3740ef9",
   "metadata": {},
   "outputs": [
    {
     "ename": "IndexError",
     "evalue": "list index out of range",
     "output_type": "error",
     "traceback": [
      "\u001b[0;31m---------------------------------------------------------------------------\u001b[0m",
      "\u001b[0;31mIndexError\u001b[0m                                Traceback (most recent call last)",
      "Cell \u001b[0;32mIn[2], line 3\u001b[0m\n\u001b[1;32m      1\u001b[0m lst1 \u001b[38;5;241m=\u001b[39m [\u001b[38;5;241m1\u001b[39m,\u001b[38;5;241m2\u001b[39m,\u001b[38;5;241m3\u001b[39m,\u001b[38;5;241m4\u001b[39m,\u001b[38;5;241m5\u001b[39m]\n\u001b[0;32m----> 3\u001b[0m \u001b[43mlst1\u001b[49m\u001b[43m[\u001b[49m\u001b[38;5;241;43m5\u001b[39;49m\u001b[43m]\u001b[49m\n",
      "\u001b[0;31mIndexError\u001b[0m: list index out of range"
     ]
    }
   ],
   "source": [
    "lst1 = [1,2,3,4,5]\n",
    "\n",
    "lst1[5]"
   ]
  },
  {
   "cell_type": "markdown",
   "id": "a4b015e3-b0a2-42e0-9042-408bd717a24d",
   "metadata": {},
   "source": [
    "## Q5. Explain ImportError. What is ModuleNotFoundError?"
   ]
  },
  {
   "cell_type": "markdown",
   "id": "601e4d39-9ddc-4fa6-bffc-a202e09dafe3",
   "metadata": {},
   "source": [
    "- ImportError\n",
    "    - When a class cannot be imported from a module due to unavailability or circular dependency."
   ]
  },
  {
   "cell_type": "code",
   "execution_count": 2,
   "id": "e8113ce0-485b-48f1-a9fe-e93a860cbfed",
   "metadata": {},
   "outputs": [
    {
     "ename": "ImportError",
     "evalue": "cannot import name 'pro' from 'numpy' (/opt/conda/lib/python3.10/site-packages/numpy/__init__.py)",
     "output_type": "error",
     "traceback": [
      "\u001b[0;31m---------------------------------------------------------------------------\u001b[0m",
      "\u001b[0;31mImportError\u001b[0m                               Traceback (most recent call last)",
      "Cell \u001b[0;32mIn[2], line 3\u001b[0m\n\u001b[1;32m      1\u001b[0m \u001b[38;5;66;03m# Import Error\u001b[39;00m\n\u001b[0;32m----> 3\u001b[0m \u001b[38;5;28;01mfrom\u001b[39;00m \u001b[38;5;21;01mnumpy\u001b[39;00m \u001b[38;5;28;01mimport\u001b[39;00m pro\n",
      "\u001b[0;31mImportError\u001b[0m: cannot import name 'pro' from 'numpy' (/opt/conda/lib/python3.10/site-packages/numpy/__init__.py)"
     ]
    }
   ],
   "source": [
    "# Import Error\n",
    "\n",
    "from numpy import pro"
   ]
  },
  {
   "cell_type": "markdown",
   "id": "f23f0298-444a-467d-892a-0faabbd58716",
   "metadata": {},
   "source": [
    "- ModuleNotFoundError\n",
    "    - This error arises when the specified module/package is not found in the installed python library or invalid path."
   ]
  },
  {
   "cell_type": "code",
   "execution_count": 3,
   "id": "39027889-f967-441a-9ab5-f9f46e86a6ef",
   "metadata": {},
   "outputs": [
    {
     "ename": "ModuleNotFoundError",
     "evalue": "No module named 'nump'",
     "output_type": "error",
     "traceback": [
      "\u001b[0;31m---------------------------------------------------------------------------\u001b[0m",
      "\u001b[0;31mModuleNotFoundError\u001b[0m                       Traceback (most recent call last)",
      "Cell \u001b[0;32mIn[3], line 3\u001b[0m\n\u001b[1;32m      1\u001b[0m \u001b[38;5;66;03m# ModuleNotFoundError\u001b[39;00m\n\u001b[0;32m----> 3\u001b[0m \u001b[38;5;28;01mimport\u001b[39;00m \u001b[38;5;21;01mnump\u001b[39;00m\n",
      "\u001b[0;31mModuleNotFoundError\u001b[0m: No module named 'nump'"
     ]
    }
   ],
   "source": [
    "# ModuleNotFoundError\n",
    "\n",
    "import nump"
   ]
  },
  {
   "cell_type": "markdown",
   "id": "7a9de904-ec50-4fc9-b4c6-ff4d13b79355",
   "metadata": {},
   "source": [
    "## Q6. List down some best practices for exception handling in python."
   ]
  },
  {
   "cell_type": "markdown",
   "id": "d5b7aea8-c7d8-48b5-914e-29a5c56d5b64",
   "metadata": {},
   "source": [
    "- Don't use generic exception\n",
    "- Use a specific exception class\n",
    "- Use a specific message\n",
    "- Give a specific cause\n",
    "- Use try-catch block to also recover resources.\n",
    "- Apply exception handlers to only those blocks of statements that might throw an exception.\n",
    "- Don't use too many exception handlers.\n",
    "- Use Context Managers to simplify repetitive exception handling logic"
   ]
  },
  {
   "cell_type": "code",
   "execution_count": null,
   "id": "7c415fbe-8dca-4aa5-8460-13ba3c667105",
   "metadata": {},
   "outputs": [],
   "source": []
  }
 ],
 "metadata": {
  "kernelspec": {
   "display_name": "Python 3 (ipykernel)",
   "language": "python",
   "name": "python3"
  },
  "language_info": {
   "codemirror_mode": {
    "name": "ipython",
    "version": 3
   },
   "file_extension": ".py",
   "mimetype": "text/x-python",
   "name": "python",
   "nbconvert_exporter": "python",
   "pygments_lexer": "ipython3",
   "version": "3.10.8"
  }
 },
 "nbformat": 4,
 "nbformat_minor": 5
}
