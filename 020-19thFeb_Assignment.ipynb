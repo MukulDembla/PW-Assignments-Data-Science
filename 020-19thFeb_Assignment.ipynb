{
 "cells": [
  {
   "cell_type": "markdown",
   "metadata": {},
   "source": [
    "## Webscrapping Assignment"
   ]
  },
  {
   "cell_type": "markdown",
   "metadata": {},
   "source": [
    "## Q1. What is Web Scraping? Why is it Used? Give three areas where Web Scraping is used to get data."
   ]
  },
  {
   "cell_type": "markdown",
   "metadata": {},
   "source": [
    "- A web scraper is a specialized tool designed to accurately and quickly extract data from a web page and visualize in a structured format.\n",
    "####\n",
    "- Web scraping is used for extracting data from websites. The web scraping software may directly access the World Wide Web using the Hypertext Transfer Protocol or a web browser.\n",
    "####\n",
    "- Three uses of Web Scraping\n",
    "####\n",
    "- E-Commerce\n",
    "    - Web Scraping can be used to periodically extract data like price, description, images, reviews, rating etc of a desired product or a range of products.\n",
    "####\n",
    "- Training and Testing Data for Machine Learning Projects\n",
    "    - Web Scraping helps our to gather data for testing / training our Machine Learning models.\n",
    "    - Quality of our machine learning models depends on the quality of training data used and when the data is not readily available our can employ web scraping to collect it from various websites.\n",
    "####\n",
    "- Collect data\n",
    "    - Scraping hotel room prices and details from hotel booking websites.\n",
    "    - Scraping profile data from social networks like Facebook, LinkedIn etc. for tracking online reputation.\n",
    "    - Scraping hotel/restaurant ratings and reviews from websites like TripAdvisor."
   ]
  },
  {
   "cell_type": "markdown",
   "metadata": {},
   "source": [
    "## Q2. What are the different methods used for Web Scraping?"
   ]
  },
  {
   "cell_type": "markdown",
   "metadata": {},
   "source": [
    "- The methods used for Web Scraping are:\n",
    "    - HTML Parsing\n",
    "    - DOM Parsing\n",
    "    - Vertical Aggregation\n",
    "    - XPath\n",
    "    - Google Sheets\n",
    "    - HTTP Socket Programming\n",
    "    - Semantic annotation recognizing\n",
    "    - Computer vision web-page analysis"
   ]
  },
  {
   "cell_type": "markdown",
   "metadata": {},
   "source": [
    "## Q3. What is Beautiful Soup? Why is it used? "
   ]
  },
  {
   "cell_type": "markdown",
   "metadata": {},
   "source": [
    "- Beautiful Soup is a Python package for parsing HTML and XML documents (including having malformed markup, i.e. non-closed tags, so named after tag soup).\n",
    "####\n",
    "- It is used to create a parse tree for parsed pages that can be used to extract data from HTML, which is useful for web scraping.\n",
    "- It transforms a complex HTML document into a tree of Python objects. It also automatically converts the document to Unicode, so we don't have to think about encodings."
   ]
  },
  {
   "cell_type": "markdown",
   "metadata": {},
   "source": [
    "## Q4. Why is flask used in this Web Scraping project? "
   ]
  },
  {
   "cell_type": "markdown",
   "metadata": {},
   "source": [
    "- Flask is used for HTTP request management, and template rendering in Web Scraping.\n",
    "- The requests module allows us to send http requests to the website we want to scrape.\n",
    "- A HTML file can be rendered by the render_template() function provided by Flask."
   ]
  },
  {
   "cell_type": "markdown",
   "metadata": {},
   "source": [
    "## Q5. Write the names of AWS services used in this project. Also, explain the use of each service."
   ]
  },
  {
   "cell_type": "markdown",
   "metadata": {},
   "source": [
    "- The AWS services used in this Web Scraping project are Code Pipeline and Bean Stalk.\n",
    "####\n",
    "- Code Pipeline\n",
    "    - AWS CodePipeline is a continuous delivery service that enables us to model, visualize, and automate the steps required to release our application.\n",
    "####\n",
    "- Beanstalk\n",
    "    - AWS Beanstalk is an application development platform that enables us to deploy, manage, and scale our application.\n",
    "    - It automatically handles the details of capacity provisioning, load balancing, scaling, and application health monitoring.\n",
    "    - It reduces management complexity without restricting choice or control."
   ]
  },
  {
   "cell_type": "code",
   "execution_count": null,
   "metadata": {},
   "outputs": [],
   "source": []
  }
 ],
 "metadata": {
  "kernelspec": {
   "display_name": "Python 3 (ipykernel)",
   "language": "python",
   "name": "python3"
  },
  "language_info": {
   "codemirror_mode": {
    "name": "ipython",
    "version": 3
   },
   "file_extension": ".py",
   "mimetype": "text/x-python",
   "name": "python",
   "nbconvert_exporter": "python",
   "pygments_lexer": "ipython3",
   "version": "3.10.8"
  },
  "vscode": {
   "interpreter": {
    "hash": "916dbcbb3f70747c44a77c7bcd40155683ae19c65e1c03b4aa3499c5328201f1"
   }
  }
 },
 "nbformat": 4,
 "nbformat_minor": 4
}
