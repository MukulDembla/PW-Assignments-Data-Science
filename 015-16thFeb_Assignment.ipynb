{
 "cells": [
  {
   "cell_type": "markdown",
   "id": "6b2f94c6-9d99-4ef5-856d-296eee0ad1a0",
   "metadata": {},
   "source": [
    "# Working with SQL Assignment"
   ]
  },
  {
   "cell_type": "markdown",
   "id": "002a0260-1723-4f63-81ee-c35e3a3b8aa6",
   "metadata": {},
   "source": [
    "## Q1. What is a database? Differentiate between SQL and NoSQL databases. "
   ]
  },
  {
   "cell_type": "markdown",
   "id": "3067129d-fd1f-4374-a570-a8ec823f5840",
   "metadata": {},
   "source": [
    "- DataBase\n",
    "    - A database is a systematic or organized collection of related information that is stored in such a way that it can be easily accessed, retrieved, managed, and updated.\n",
    "####\n",
    "- SQL\n",
    "    - It is a standard language.\n",
    "    - These databases are table/relation based databases.\n",
    "    - The databses are vertical scalable.\n",
    "    - The are used in complex query intensive environment.\n",
    "    - Follow ACID model.\n",
    "####\n",
    "- NoSQL\n",
    "    - It posses no declarative query support.\n",
    "    - These databases can be document based, key-value pairs, or graph databases.\n",
    "    - The databses are horizontally scalable.\n",
    "    - The are used where queries are not complex.\n",
    "    - Follow BASE model."
   ]
  },
  {
   "cell_type": "markdown",
   "id": "fa77797c-61b3-464f-8993-ea7beb104a2e",
   "metadata": {},
   "source": [
    "## Q2. What is DDL? Explain why CREATE, DROP, ALTER, and TRUNCATE are used with an example. "
   ]
  },
  {
   "cell_type": "markdown",
   "id": "4a06e7d5-26ed-44aa-9c93-c39b66f6ac38",
   "metadata": {},
   "source": [
    "- DDL\n",
    "    - It stands for Data Definition Language\n",
    "    - These are the SQL statements that are used to define and modify the databse schema.\n",
    "####\n",
    "- CREATE\n",
    "    - It is used to create the database and tables.\n",
    "        - e.g > create table students(stuid number primary key not null, stuname varchar2(20), stubranch varchar(20));\n",
    "####\n",
    "- DROP\n",
    "    - It is used to delete tables from the databse.\n",
    "        - e.g > drop table students;\n",
    "####\n",
    "- ALTER\n",
    "    - It is used to alter the database schema.\n",
    "        - e.g > alter table student add marks number;\n",
    "####\n",
    "- TRUNCATE\n",
    "    - It is used to delete an existing table and free the resources.\n",
    "        - e.g > truncate table students;\n"
   ]
  },
  {
   "cell_type": "markdown",
   "id": "5c72b81c-9742-40e4-aafb-32d80fcb87c7",
   "metadata": {},
   "source": [
    "## Q3. What is DML? Explain INSERT, UPDATE, and DELETE with an example."
   ]
  },
  {
   "cell_type": "markdown",
   "id": "d1be58d6-689e-481c-b098-35b4897c6e5a",
   "metadata": {},
   "source": [
    "- DML\n",
    "    - It stands for Data Manipulation Language.\n",
    "    - These are the SQL statements used for the manipulation of data present in a database.\n",
    "####\n",
    "- INSERT\n",
    "    - Used to insert tuples/rows into a table.\n",
    "    - It stands for Data Manipulation Language.\n",
    "        - e.g > insert into Student values(5, 'Aditya', 'CSE');\n",
    "####\n",
    "- UPDATE\n",
    "    - Used to update tuples/rows in a table.\n",
    "        - e.g > update Student set name = 'Gargi' where id = 5;\n",
    "####\n",
    "- DELETE\n",
    "    - Used to delete tuples/rows from a table.\n",
    "        - e.g > delete from Student where id = 5;"
   ]
  },
  {
   "cell_type": "markdown",
   "id": "7730eeb2-4c98-4109-bea5-e36db7bfeb2d",
   "metadata": {},
   "source": [
    "## Q4. What is DQL? Explain SELECT with an example."
   ]
  },
  {
   "cell_type": "markdown",
   "id": "d0a5bd07-b5aa-46c4-aa68-ebe5a2dc3d89",
   "metadata": {},
   "source": [
    "- DQL\n",
    "    - It stands for Data Query Language.\n",
    "    - These SQL statements are used to retrieve schema relation based on the passed query.\n",
    "####\n",
    "- SELECT\n",
    "    - Used to retrieve data basedon the schema relation passed.\n",
    "        e.g > select * from students;"
   ]
  },
  {
   "cell_type": "markdown",
   "id": "81d2148d-aec8-48df-8b34-59ae4967972f",
   "metadata": {},
   "source": [
    "## Q5. Explain Primary Key and Foreign Key."
   ]
  },
  {
   "cell_type": "markdown",
   "id": "3acbb89a-b4fa-4178-8bb9-91631ec4e1ba",
   "metadata": {},
   "source": [
    "- Primary Key\n",
    "    - It is one or more column(s) in a table used to uniquely identify each row in a table.\n",
    "    - None of the columns that are part of the primary key contain null value.\n",
    "    - A table can have only one primary key.\n",
    "#\n",
    "- Foreign Key\n",
    "    - It is a column or a group of columns whose values are derived from the primary/unique key of some other table."
   ]
  },
  {
   "cell_type": "markdown",
   "id": "fb89ea16-4c1a-429b-80ae-df0f3f016c6f",
   "metadata": {},
   "source": [
    "## Q6. Write a python code to connect MySQL to python. Explain the cursor() and execute() method."
   ]
  },
  {
   "cell_type": "markdown",
   "id": "bc2a1651-b5d1-40f2-9881-d947ec4a1b39",
   "metadata": {},
   "source": [
    "- The python code to connect MySQL to python."
   ]
  },
  {
   "cell_type": "code",
   "execution_count": null,
   "id": "805fe132-2a93-4ceb-b64a-8592bf5a79de",
   "metadata": {},
   "outputs": [],
   "source": [
    "import mysql.connector\n",
    "\n",
    "mydb = mysql.connector.connect(\n",
    "\n",
    "host=\"localhost\",\n",
    "\n",
    "user=\"abc\",\n",
    "\n",
    "password=\"password\"\n",
    ")\n",
    "\n",
    "mycursor = mydb.cursor()\n",
    "\n",
    "mycursor.execute(\"SQL_QUERY\")"
   ]
  },
  {
   "cell_type": "markdown",
   "id": "94a8275f-9d79-408e-ac99-e4f82bd6d1e5",
   "metadata": {},
   "source": [
    "- Cursor()\n",
    "    - It is the mediator between SQL database connection and SQL query.\n",
    "####\n",
    "- execute()\n",
    "    - This method accepts a MySQL query as a parameter and executes the given query."
   ]
  },
  {
   "cell_type": "markdown",
   "id": "39ac8683-66ba-48fc-964d-6962d39aaf47",
   "metadata": {},
   "source": [
    "## Q7. Give the order of execution of SQL clauses in an SQL query."
   ]
  },
  {
   "cell_type": "markdown",
   "id": "857bd5ad-a11b-4cfc-924b-9742d5b26541",
   "metadata": {},
   "source": [
    "- The order of the execution of SQL clauses in an SQL query are:\n",
    "    - from > where > groupBy > having > select > order by > limit"
   ]
  },
  {
   "cell_type": "code",
   "execution_count": null,
   "id": "7f9fb417-3360-4465-b1da-46a1c7a85a1d",
   "metadata": {},
   "outputs": [],
   "source": []
  }
 ],
 "metadata": {
  "kernelspec": {
   "display_name": "Python 3 (ipykernel)",
   "language": "python",
   "name": "python3"
  },
  "language_info": {
   "codemirror_mode": {
    "name": "ipython",
    "version": 3
   },
   "file_extension": ".py",
   "mimetype": "text/x-python",
   "name": "python",
   "nbconvert_exporter": "python",
   "pygments_lexer": "ipython3",
   "version": "3.10.8"
  }
 },
 "nbformat": 4,
 "nbformat_minor": 5
}
