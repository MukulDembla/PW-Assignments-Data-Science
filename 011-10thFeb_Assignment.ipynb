{
 "cells": [
  {
   "cell_type": "markdown",
   "id": "2488a4a7-c3c6-4a19-9b59-961618778df0",
   "metadata": {},
   "source": [
    "### Q1. Which function is used to open a file? What are the different modes of opening a file? Explain each mode of file opening."
   ]
  },
  {
   "cell_type": "markdown",
   "id": "9be8a749-ff0f-4d36-b604-f48d45f1b20d",
   "metadata": {},
   "source": [
    "- We use open() function to open a file in python.\n",
    "\n",
    "  - i.e f = open(\"file_name.extension\", \"opening_mode\")\n",
    "  \n",
    "1. \"r\" - Read Only- It is used for opening a text file with reading purpose. \n",
    "    - f = open('example.txt', 'r')\n",
    "####\n",
    "2. \"w\" - Write Only- It is used for opening a text file with writing purpose.\n",
    "    - f = open('example.txt', 'w')\n",
    "####\n",
    "3. \"r+\" - Read and Write- It is used for opening a text file with reading and writing purpose.\n",
    "    - f = open('example.txt', 'r+')\n",
    "####\n",
    "4. \"w+\" - Write and Read- It is used for opening a text file with reading and writing purpose.\n",
    "    - f = open('example.txt', 'w+')\n",
    "####\n",
    "5. \"a\" - Append Only- It is used for opening a text file with writing purpose without overwriting file.\n",
    "    - f = open('example.txt', 'a')\n",
    "####\n",
    "6. \"a+\" - Append and Read- It is used for opening a text file with writing purpose and reading purpose.\n",
    "    - f = open('example.txt', 'a+')\n"
   ]
  },
  {
   "cell_type": "markdown",
   "id": "171f6da7-478e-4a1e-b611-ec5b048e6c0f",
   "metadata": {},
   "source": [
    "### Q2. Why close() function is used? Why is it important to close a file?"
   ]
  },
  {
   "cell_type": "markdown",
   "id": "024fe77f-584a-4148-815d-695c6e0c0601",
   "metadata": {},
   "source": [
    "- close() function is used to close an opened file.\n",
    "- It is important to close a file to deallocate the file descriptor beacuse there is a limit for file\n",
    "    descriptors in python as we have a limited resource on a computer.\n",
    "- Context Manager is used by using with statement to get rid of closing a file explicitly."
   ]
  },
  {
   "cell_type": "markdown",
   "id": "5736c406-8f29-44de-bb23-7a398a6413cc",
   "metadata": {},
   "source": [
    "### Q3. Write a python program to create a text file. Write ‘I want to become a Data Scientist’ in that file. Then close the file. Open this file and read the content of the file."
   ]
  },
  {
   "cell_type": "code",
   "execution_count": 3,
   "id": "ded3f488-c419-4040-a8cc-35d07c59adf6",
   "metadata": {},
   "outputs": [],
   "source": [
    "f = open('text.txt', 'w')\n",
    "f.write('I want to become a Data Scientist')\n",
    "f.close()"
   ]
  },
  {
   "cell_type": "code",
   "execution_count": 5,
   "id": "99ad3bde-30af-4711-8fc7-551060aed792",
   "metadata": {},
   "outputs": [
    {
     "name": "stdout",
     "output_type": "stream",
     "text": [
      "I want to become a Data Scientist\n"
     ]
    }
   ],
   "source": [
    "f = open('text.txt', 'r')\n",
    "print(f.read())\n",
    "f.close()"
   ]
  },
  {
   "cell_type": "markdown",
   "id": "4e3d5224-9cb6-4e76-a45a-7b343fdb287e",
   "metadata": {},
   "source": [
    "### Q4. Explain the following with python code: read(), readline() and readlines()."
   ]
  },
  {
   "cell_type": "markdown",
   "id": "c0f6ec21-876b-42e1-a63d-1e544da810a2",
   "metadata": {},
   "source": [
    "- read()\n",
    "    - It returns the whole file content line by line.\n",
    "    - We can also specifiy number of bytes to return by passing a parameter.\n",
    "    - Default passed parameter is -1 which means the whole file.\n",
    "####\n",
    "- readline()\n",
    "    - It iterates one line at a time starting from beginning of the file.\n",
    "    - We can also specifiy number of bytes to return by passing a parameter.\n",
    "    - Default passed parameter is -1 which means the whole file.\n",
    "####\n",
    "- readlines()\n",
    "    - This method returns a list containing each line in the file as a list item.\n",
    "    - We can also specifiy number of bytes to return by passing a parameter.\n",
    "    - Default passed parameter is -1 which means the whole file."
   ]
  },
  {
   "cell_type": "markdown",
   "id": "61972e2c-30a7-4cc8-9e8e-4b9e11fb53fd",
   "metadata": {},
   "source": [
    "### Q5. Explain why with statement is used with open(). What is the advantage of using with statement and open() together?"
   ]
  },
  {
   "cell_type": "markdown",
   "id": "9f12a9c9-27c5-4637-bd02-0ff43fc2611e",
   "metadata": {},
   "source": [
    "- The with statement is used wth the open() function to open a file.\n",
    "- With statement is used so that we don't have to close the file descriptor explicitly.\n",
    "- With statement helps us in a managing resource in an efficient manner."
   ]
  },
  {
   "cell_type": "markdown",
   "id": "56b92a48-0b2f-4b74-9f12-3a158bfc8958",
   "metadata": {},
   "source": [
    "### Q6. Explain the write() and writelines() functions. Give a suitable example"
   ]
  },
  {
   "cell_type": "markdown",
   "id": "cd2619eb-1884-4f8a-9500-a859623755d9",
   "metadata": {},
   "source": [
    "- write()\n",
    "    - write() function takes a string as an input argument and writes it to file\n",
    "    - To store data in line by line format, we hve to add '\\n' character to the end of each string.\n",
    "    - While writing a numeric value we have to either write it in quotes or typecast it into an string."
   ]
  },
  {
   "cell_type": "code",
   "execution_count": 9,
   "id": "2a77c42b-31cb-40a0-a946-9fee246054c4",
   "metadata": {},
   "outputs": [],
   "source": [
    "f = open('text.txt', 'w')\n",
    "f.write('this is my first line')\n",
    "f.write('this is my second line')\n",
    "f.write('this is my third line')\n",
    "f.close()"
   ]
  },
  {
   "cell_type": "markdown",
   "id": "3f64017c-7bf2-409e-9f78-0e2eaf2236a7",
   "metadata": {},
   "source": [
    "- writelines()\n",
    "    - writelines() funcion is uded to write iterables(e,g string, list, tuple) in a file.\n",
    "    - While writing a numeric value we have to either write it in quotes or typecast it into an string."
   ]
  },
  {
   "cell_type": "code",
   "execution_count": 10,
   "id": "801e1a22-5657-404f-9f7f-4d09520a8610",
   "metadata": {},
   "outputs": [],
   "source": [
    "f = open('text.txt', 'w')\n",
    "l = ['this is my first line','this is my second line', 'this is my third line']\n",
    "f.writelines(l)\n",
    "f.close()"
   ]
  },
  {
   "cell_type": "code",
   "execution_count": 12,
   "id": "ed607817-d2c7-41c5-bf56-64cdc28707a3",
   "metadata": {},
   "outputs": [
    {
     "name": "stdout",
     "output_type": "stream",
     "text": [
      "this is my first linethis is my second linethis is my third line\n"
     ]
    }
   ],
   "source": [
    "# just to show that how writelines add multiple lines in one command\n",
    "f = open('text.txt', 'r')\n",
    "print(f.read())\n",
    "f.close()"
   ]
  }
 ],
 "metadata": {
  "kernelspec": {
   "display_name": "Python 3 (ipykernel)",
   "language": "python",
   "name": "python3"
  },
  "language_info": {
   "codemirror_mode": {
    "name": "ipython",
    "version": 3
   },
   "file_extension": ".py",
   "mimetype": "text/x-python",
   "name": "python",
   "nbconvert_exporter": "python",
   "pygments_lexer": "ipython3",
   "version": "3.10.8"
  }
 },
 "nbformat": 4,
 "nbformat_minor": 5
}
