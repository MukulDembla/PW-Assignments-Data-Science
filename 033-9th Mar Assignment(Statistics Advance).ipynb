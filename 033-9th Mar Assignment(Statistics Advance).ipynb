{
 "cells": [
  {
   "cell_type": "markdown",
   "metadata": {},
   "source": [
    "# Statistics Advance Assignment - 09 Mar 2023"
   ]
  },
  {
   "cell_type": "markdown",
   "metadata": {},
   "source": [
    "## Q1. What are the Probability Mass Function (PMF) and Probability Density Function (PDF)? Explain with an example."
   ]
  },
  {
   "cell_type": "markdown",
   "metadata": {},
   "source": [
    "- The Probability Mass Function (PMF) and Probability Density Function (PDF) are both ways of describing the distribution of probability for a random variable. However, they are used for different types of random variables.\n",
    "####\n",
    "- Probability Mass Function\n",
    "    - It is used to describe the probability distribution of a discrete random variable.\n",
    "    - It is a function that maps each possible value of the random variable to the probability that the random variable takes on that value.\n",
    "    - It gives the probability of each possible outcome of a discrete random variable. The sum of all the probabilities in the PMF must equal 1.\n",
    "    - Example:\n",
    "        - Let's say we have a fair six-sided die. The PMF for this die would be:\n",
    "        - P(X=1) = 1/6\n",
    "        - P(X=2) = 1/6\n",
    "        - P(X=3) = 1/6\n",
    "        - P(X=4) = 1/6\n",
    "        - P(X=5) = 1/6\n",
    "        - P(X=6) = 1/6\n",
    "        - This PMF tells us that the probability of rolling a 1 is 1/6, the probability of rolling a 2 is 1/6, and so on.\n",
    "        - The sum of all the probabilities is 1, which means that we are guaranteed to roll one of the possible values when we roll the die.\n",
    "####\n",
    "- Probability Density Function\n",
    "    - It is used to describe the probability distribution of a continuous random variable.\n",
    "    - It is a function that gives the relative likelihood of different values of the continuous random variable.\n",
    "    - It can take on values greater than 1, but the area under the curve must equal 1."
   ]
  },
  {
   "cell_type": "markdown",
   "metadata": {},
   "source": [
    "## Q2. What is Cumulative Density Function (CDF)? Explain with an example. Why CDF is used?"
   ]
  },
  {
   "cell_type": "markdown",
   "metadata": {},
   "source": [
    "- The Cumulative Density Function (CDF) is a mathematical function that describes the probability that a random variable takes on a value less than or equal to a given value.\n",
    "- It gives the cumulative probability of the random variable up to a certain point.\n",
    "- For a discrete random variable, the CDF is the sum of the probabilities of all the possible values up to a given point. For a continuous random variable, the CDF is the integral of the probability density function (PDF) up to a given point.\n",
    "- Example\n",
    "    - Let's say we have a fair six-sided die, and we want to calculate the probability that we roll a value less than or equal to 3. The CDF for this die would be:\n",
    "    - P(X<=1) = 1/6\n",
    "    - P(X<=2) = 2/6\n",
    "    - P(X<=3) = 3/6\n",
    "    - P(X<=4) = 4/6\n",
    "    - P(X<=5) = 5/6\n",
    "    - P(X<=6) = 6/6\n",
    "    - This CDF tells us that the probability of rolling a value less than or equal to 3 is 3/6 or 1/2.\n",
    "    - Similarly, the probability of rolling a value less than or equal to 2 is 2/6 or 1/3.\n",
    "####\n",
    "- The CDF is a useful tool for analyzing and understanding the distribution of a random variable.\n",
    "- It allows us to calculate the probability of getting a value within a certain range, or to compare the distribution of one random variable to another.\n",
    "- It is also used to generate other statistics, such as percentiles and quartiles, which can be useful in many applications."
   ]
  },
  {
   "cell_type": "markdown",
   "metadata": {},
   "source": [
    "## Q3. What are some examples of situations where the normal distribution might be used as a model? Explain how the parameters of the normal distribution relate to the shape of the distribution."
   ]
  },
  {
   "cell_type": "markdown",
   "metadata": {},
   "source": [
    "- The normal distribution, also known as the Gaussian distribution or bell curve, is a commonly used probability distribution in statistics and mathematics.\n",
    "- It is used to model continuous random variables whose values are distributed symmetrically around a mean value.\n",
    "- Examples of situations where the normal distribution might be used as a model:\n",
    "    - Heights and weights of people\n",
    "        - The normal distribution can be used to model the distribution of heights and weights of people in a population.\n",
    "        - This is because these measurements tend to follow a bell-shaped curve around a central value.\n",
    "    ####\n",
    "    - Test scores\n",
    "        - The normal distribution can also be used to model the distribution of test scores in a population.\n",
    "        - This is because test scores are often affected by many different factors, and their distribution tends to be symmetrical around a mean value.\n",
    "    ####\n",
    "    - Errors in measurements\n",
    "        - The normal distribution can be used to model errors in measurements, such as errors in measuring the length or weight of an object.\n",
    "        - This is because errors are often caused by many different factors, and their distribution tends to be symmetrical around a mean value.\n",
    "    ####\n",
    "- The parameters of the normal distribution are the mean (µ) and the standard deviation (σ).\n",
    "    - Mean\n",
    "        - The mean is the central value around which the distribution is symmetrically centered.\n",
    "        - If the mean is shifted to the right or left, the distribution will be shifted in the same direction.\n",
    "        ####\n",
    "    - Standard Deviation\n",
    "        - The standard deviation measures the spread of the distribution around the mean, and determines how much variability there is in the data.\n",
    "        - If the standard deviation is large, the distribution will be wider and flatter.\n",
    "        - If the standard deviation is small, the distribution will be narrower and taller.\n",
    "- In summary, the mean and standard deviation determine the shape and location of the normal distribution.\n"
   ]
  },
  {
   "cell_type": "markdown",
   "metadata": {},
   "source": [
    "## Q4. Explain the importance of Normal Distribution. Give a few real-life examples of Normal Distribution."
   ]
  },
  {
   "cell_type": "markdown",
   "metadata": {},
   "source": [
    "- The normal distribution is one of the most important probability distributions in statistics and is widely used in many fields of study.\n",
    "- It has several key properties that make it a powerful tool for analyzing data.\n",
    "- Reasons why the normal distribution is important:\n",
    "    - Easy to work with\n",
    "        - The normal distribution is easy to work with because it is well-defined and has simple, straightforward mathematical properties.\n",
    "        - It is a continuous distribution that is defined by its mean and standard deviation.\n",
    "    ####\n",
    "    - Widely observed\n",
    "        - The normal distribution is widely observed in many natural and social phenomena.\n",
    "        - Example\n",
    "            - the heights and weights of people in a population, the scores on standardized tests, and the errors in measurements all tend to follow a normal distribution.\n",
    "    ####\n",
    "    - Central limit theorem\n",
    "        - The central limit theorem states that the sum or average of a large number of independent and identically distributed random variables tends to follow a normal distribution, regardless of the distribution of the individual variables.\n",
    "        - This theorem is incredibly powerful and explains why the normal distribution is so widely observed in many different fields of study.\n",
    "    ####\n",
    "    - Predictive power\n",
    "        - Because the normal distribution is well-defined and has simple properties, it can be used to make predictions about future data. - - Example\n",
    "            - If we know the mean and standard deviation of a normal distribution, we can use this information to make predictions about the likelihood of certain outcomes.\n",
    "    ####\n",
    "    - Statistical inference\n",
    "        - Many statistical inference procedures, such as hypothesis testing and confidence intervals, rely on assumptions about the distribution of the data.\n",
    "        - The normal distribution is often used as an approximation for the true distribution of the data, especially when the sample size is large.\n",
    "    ####\n",
    "- Some real-life examples of situations where the normal distribution is commonly observed include:\n",
    "    - Heights and weights of people\n",
    "        - The distribution of heights and weights in a population tends to follow a normal distribution.\n",
    "    ####\n",
    "    - Test scores\n",
    "        - The distribution of test scores on standardized tests like the SAT and ACT tends to follow a normal distribution.\n",
    "    ####\n",
    "    - Errors in measurements\n",
    "        - The distribution of errors in measurements, such as errors in measuring the length or weight of an object, tends to follow a normal distribution.\n",
    "    ####\n",
    "    - Financial data\n",
    "        - Many financial data sets, such as stock prices and returns, tend to follow a normal distribution.\n",
    "    ####\n",
    "    - IQ scores\n",
    "        - IQ scores on intelligence tests tend to follow a normal distribution.\n",
    "####\n",
    "- The normal distribution is an important concept in statistics and data analysis.\n",
    "- It is widely observed in many different fields of study, has simple mathematical properties, and is a powerful tool for making predictions and performing statistical inference."
   ]
  },
  {
   "cell_type": "markdown",
   "metadata": {},
   "source": [
    "##  Q5. What is Bernaulli Distribution? Give an Example. What is the difference between Bernoulli Distribution and Binomial Distribution?"
   ]
  },
  {
   "cell_type": "markdown",
   "metadata": {},
   "source": [
    "- The Bernoulli distribution is named after Swiss mathematician Jacob Bernoulli, who introduced it in his book \"Ars Conjectandi\" in 1713.\n",
    "- The Bernoulli distribution is a probability distribution that models a single binary experiment with two possible outcomes:\n",
    "    1. Success (typically labeled as 1)\n",
    "    2. Failure (typically labeled as 0).\n",
    "####\n",
    "- Example\n",
    "    - Modeling the outcome of a coin flip\n",
    "        - If we define a success as getting heads and a failure as getting tails, then the outcome of a coin flip can be modeled using a Bernoulli distribution.\n",
    "####\n",
    "- The Bernoulli distribution\n",
    "    - It is a special case of the binomial distribution.\n",
    "    - It models the number of successes in a fixed number of independent binary trials.\n",
    "####\n",
    "- The main difference between the Bernoulli distribution and the binomial distribution is that the Bernoulli distribution models a single trial, while the binomial distribution models multiple independent trials."
   ]
  },
  {
   "cell_type": "markdown",
   "metadata": {},
   "source": [
    "## Q6. Consider a dataset with a mean of 50 and a standard deviation of 10. If we assume that the dataset is normally distributed, what is the probability that a randomly selected observation will be greater than 60? Use the appropriate formula and show your calculations."
   ]
  },
  {
   "cell_type": "markdown",
   "metadata": {},
   "source": [
    "- To solve this problem, we can use the formula for the standard normal distribution, which is:\n",
    "    - z = (x - mu) / sigma\n",
    "        - where,\n",
    "            - z = the standardized score\n",
    "            - x = the observed value\n",
    "            - mu = the mean\n",
    "            - sigma = the standard deviation.\n",
    "####\n",
    "- In this case, we want to find the probability that a randomly selected observation will be greater than 60, which corresponds to a standardized score of:\n",
    "    - z = (60 - 50) / 10 = 1\n",
    "####\n",
    "- To find the probability that a standardized score is greater than 1, we can use a standard normal distribution table or calculator.\n",
    "- The probability can be found by subtracting the cumulative probability up to the standardized score from 1.\n",
    "    - P(Z > 1) = 1 - P(Z <= 1)\n",
    "####\n",
    "- From a standard normal distribution table or calculator, we find that the cumulative probability up to a standardized score of 1 is approximately 0.8413. Therefore,\n",
    "    - P(Z > 1) = 1 - 0.8413 = 0.1587\n",
    "####\n",
    "So the probability that a randomly selected observation from this dataset will be greater than 60 is approximately 0.1587 or 15.87%."
   ]
  },
  {
   "cell_type": "markdown",
   "metadata": {},
   "source": [
    "## Q7. Explain uniform Distribution with an example."
   ]
  },
  {
   "cell_type": "markdown",
   "metadata": {},
   "source": [
    "- The uniform distribution is a probability distribution that models a situation where all possible outcomes are equally likely.\n",
    "- The probability of any outcome in a given range is the same, and the distribution is flat and rectangular.\n",
    "####\n",
    "- Example\n",
    "    - let's consider a scenario where we roll a fair six-sided die.\n",
    "    - Each outcome (1, 2, 3, 4, 5, 6) is equally likely, and the probability of each outcome is 1/6.\n",
    "    - This situation can be modeled using a discrete uniform distribution, where the outcomes are discrete values.\n",
    "    - The probability mass function of the discrete uniform distribution is:\n",
    "        - P(X = x) = 1/n\n",
    "            - where,\n",
    "                - X = the random variable representing the outcome\n",
    "                - x = the particular value of the outcome\n",
    "                - n = the number of possible outcomes.\n",
    "    ####\n",
    "    - In the case of rolling a six-sided die, the probability mass function is:\n",
    "        - P(X = x) = 1/6 for x = 1, 2, 3, 4, 5, 6\n",
    "####\n",
    "- The uniform distribution can also be continuous, in which case it models a situation where any value in a given range is equally likely.\n",
    "- Example\n",
    "    - if we measure the height of all students in a class and assume that their heights follow a continuous uniform distribution between 5 and 6 feet, then the probability density function of the continuous uniform distribution is:\n",
    "        - f(x) = 1/(b-a) = 1/(6-5) = 1 for a <= x <= b\n",
    "            - where, \n",
    "                - a = the minimum value of the range (in this case, 5)\n",
    "                - b = the maximum value of the range (in this case, 6)."
   ]
  },
  {
   "cell_type": "markdown",
   "metadata": {},
   "source": [
    "## Q8. What is the z score? State the importance of the z score."
   ]
  },
  {
   "cell_type": "markdown",
   "metadata": {},
   "source": [
    "- The z-score, also known as the standard score, is a measure of how many standard deviations a data point is away from the mean of a population.\n",
    "- It is a way to standardize different units of measurement and allows us to compare data points that are measured on different scales.\n",
    "- If the z-score is positive, the data point is above the mean\n",
    "- If the z-score is negative, the data point is below the mean.\n",
    "- If the z-score of zero, the data point is at the mean.\n",
    "####\n",
    "- The formula for calculating the z-score is:\n",
    "    - z = (x - mu) / sigma\n",
    "        - where,\n",
    "            - x = the data point\n",
    "            - mu = the mean of the population\n",
    "            - sigma = the standard deviation of the population.\n",
    "####\n",
    "- The importance of the z-score is that it allows us to standardize different units of measurement and compare data points that are measured on different scales.\n",
    "- It is also used in hypothesis testing and statistical inference to determine the probability of a data point occurring by chance, given a particular hypothesis.\n",
    "- The z-score can also be used to find the corresponding percentile rank of a data point in a normal distribution, which is useful for comparing data points to a standardized distribution.\n",
    "- The z-score is used in quality control to identify data points that are outside of a specified range of acceptability."
   ]
  },
  {
   "cell_type": "markdown",
   "metadata": {
    "tags": []
   },
   "source": [
    "## Q9: What is Central Limit Theorem? State the significance of the Central Limit Theorem."
   ]
  },
  {
   "cell_type": "markdown",
   "metadata": {},
   "source": [
    "- The Central Limit Theorem (CLT) is a fundamental concept in statistics that describes the behavior of sample means when repeated samples are taken from a population.\n",
    "- It states that if we take a sufficiently large sample size from any population, the sample means will be approximately normally distributed, regardless of the underlying distribution of the population. The mean of the sample means will be equal to the population mean, and the standard deviation of the sample means, also known as the standard error, will be equal to the population standard deviation divided by the square root of the sample size.\n",
    "####\n",
    "- The significance of the Central Limit Theorem\n",
    "    - It provides a way to make statistical inferences about a population based on a sample of data.\n",
    "    - It allows us to use the normal distribution as an approximation for the sampling distribution of the mean, which is useful in hypothesis testing, confidence intervals, and other statistical analyses.\n",
    "    ####\n",
    "    - It helps us to understand the behavior of sample means and the probability distribution of their values.\n",
    "    - It provides a theoretical foundation for many statistical methods, such as t-tests, ANOVA, and regression analysis, which rely on the assumption of normality in order to be valid.\n",
    "    - It holds for any population distribution with a finite variance, regardless of its shape or form.\n",
    "###\n",
    "The Central Limit Theorem is an essential concept in statistics that allows us to make important statistical inferences and draw conclusions about a population based on a sample of data."
   ]
  },
  {
   "cell_type": "markdown",
   "metadata": {
    "jp-MarkdownHeadingCollapsed": true,
    "tags": []
   },
   "source": [
    "#### Q10: State the assumptions of the Central Limit Theorem."
   ]
  },
  {
   "cell_type": "markdown",
   "metadata": {},
   "source": [
    "- The Central Limit Theorem (CLT) is a fundamental concept in statistics that describes the behavior of sample means when repeated samples are taken from a population.\n",
    "- The main assumptions of the Central Limit Theorem, that must be met to apply CLT to a population are as follows:\n",
    "    - Random Sampling\n",
    "        - The sample should be selected randomly from the population.\n",
    "        - This means that each member of the population has an equal chance of being selected for the sample.\n",
    "    #\n",
    "    - Independent Sampling\n",
    "        - The sample should be independent of each other.\n",
    "        - Each observation in the sample should not be related to any other observation in the sample.\n",
    "    #\n",
    "    - Finite Population\n",
    "        - The population from which the sample is drawn should be finite.\n",
    "        - If the population is infinite, then the sample size must be small relative to the population size.\n",
    "    #\n",
    "    - Large Sample Size\n",
    "        - The sample size should be sufficiently large.\n",
    "        - A commonly used rule of thumb is that the sample size should be at least 30 observations.\n",
    "    #\n",
    "    - Constant Variance\n",
    "        - The population should have a constant variance, which means that the variance of the population should be the same for all values of the population.\n",
    "#\n",
    "- If these assumptions are met, the Central Limit Theorem can be applied to a population to approximate the behavior of sample means."
   ]
  }
 ],
 "metadata": {
  "kernelspec": {
   "display_name": "Python 3 (ipykernel)",
   "language": "python",
   "name": "python3"
  },
  "language_info": {
   "codemirror_mode": {
    "name": "ipython",
    "version": 3
   },
   "file_extension": ".py",
   "mimetype": "text/x-python",
   "name": "python",
   "nbconvert_exporter": "python",
   "pygments_lexer": "ipython3",
   "version": "3.10.8"
  }
 },
 "nbformat": 4,
 "nbformat_minor": 4
}
