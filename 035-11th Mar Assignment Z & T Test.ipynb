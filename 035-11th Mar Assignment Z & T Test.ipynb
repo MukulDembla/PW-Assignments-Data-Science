{
 "cells": [
  {
   "cell_type": "markdown",
   "metadata": {},
   "source": [
    "# Statistics Advance 4 Assignment - 11 Mar 2023"
   ]
  },
  {
   "cell_type": "markdown",
   "metadata": {},
   "source": [
    "## Q1. What is the difference between a t-test and a z-test? Provide an example scenario where we would use each type of test."
   ]
  },
  {
   "cell_type": "markdown",
   "metadata": {},
   "source": [
    "- Both t-test and z-test are used to test hypotheses about population means.\n",
    "    - However, there are certain differences between these two tests in terms of their assumptions, application, and usage.\n",
    "####\n",
    "- The main difference between the two tests is that the t-test is used when the sample size is small (n < 30) or the population standard deviation is unknown.\n",
    "- The z-test is used when the sample size is large (n ≥ 30) and the population standard deviation is known or can be estimated.\n",
    "####\n",
    "An example scenario where we would use a t-test is when we want to compare the means of two small samples (n < 30).\n",
    "    - We might want to compare the average scores of two groups of students who took different versions of the same test.\n",
    "        - We could use a t-test to determine if there is a statistically significant difference between the means of the two groups.\n",
    "####\n",
    "- Another example scenario where we would use a z-test is when we want to compare the means of two large samples (n ≥ 30).\n",
    "    - We might want to compare the average income of two different cities. we could use a z-test to determine if there is a statistically significant difference between the means of the two cities.\n",
    "####\n",
    "- It's worth noting that the z-test is considered more powerful than the t-test when the sample size is large.\n",
    "- The z-test assumes a normal distribution and is based on a known population standard deviation, whereas the t-test assumes a t-distribution and is based on an estimated standard deviation."
   ]
  },
  {
   "cell_type": "markdown",
   "metadata": {},
   "source": [
    "## Q2. Differentiate between one-tailed and two-tailed tests. "
   ]
  },
  {
   "cell_type": "markdown",
   "metadata": {},
   "source": [
    "- One-tailed and two-tailed tests are two types of hypothesis tests that are used in statistical analysis.\n",
    "####\n",
    "- The main difference between them is the directionality of the alternative hypothesis.\n",
    "####\n",
    "- One-tailed test\n",
    "    - The alternative hypothesis is directional, meaning it specifies either an increase or a decrease in the population parameter being tested.\n",
    "    - This means that the test is looking for evidence of an effect in only one direction.\n",
    "        - For example, if we were testing the hypothesis that a new drug improves a medical condition, a one-tailed test would be appropriate if we only want to know if the drug has a positive effect (increases the proportion of patients who recover) and not if it has a negative effect (decreases the proportion of patients who recover).\n",
    "####\n",
    "- Two-tailed test\n",
    "    - The alternative hypothesis is non-directional, meaning it specifies that the population parameter is different from the null hypothesis, but does not specify the direction of the difference.\n",
    "    - This means that the test is looking for evidence of an effect in either direction.\n",
    "        - For example, if we were testing the hypothesis that a coin is fair (equal probability of heads and tails), a two-tailed test would be appropriate since we are interested in whether the coin is biased towards either heads or tails.\n",
    "####\n",
    "- The choice between a one-tailed and two-tailed test depends on the research question and the directionality of the hypothesis.\n",
    "- If the hypothesis specifies a particular direction, a one-tailed test may be appropriate. However, if the hypothesis does not specify a particular direction, or if both directions are of interest, a two-tailed test may be more appropriate.\n",
    "- It's important to note that a one-tailed test is generally more powerful than a two-tailed test, since it is focused on one direction of effect, but it also carries a higher risk of type I error if the direction of the effect is mis-specified."
   ]
  },
  {
   "cell_type": "markdown",
   "metadata": {},
   "source": [
    "## Q3. Explain the concept of Type 1 and Type 2 errors in hypothesis testing. Provide an example scenario for each type of error."
   ]
  },
  {
   "cell_type": "markdown",
   "metadata": {},
   "source": [
    "- Type 1 and Type 2 errors are two types of errors that can occur in hypothesis testing when we reject or fail to reject a null hypothesis.\n",
    "####\n",
    "- Type 1 error\n",
    "    - It is also known as a false positive.\n",
    "    - It occurs when we reject a true null hypothesis.\n",
    "    - We conclude that there is a significant effect when in fact there is no effect.\n",
    "    - The probability of making a Type 1 error is denoted by alpha (α) and is set as the level of significance for the test.\n",
    "    - A commonly used level of significance is 0.05 (or 5%).\n",
    "    ####\n",
    "    - Example\n",
    "        - A company tests a new product and concludes that it increases sales, based on a statistical analysis with a significance level of 0.05.\n",
    "            - However, in reality, the product has no effect on sales.\n",
    "            - This is a Type 1 error.\n",
    "####\n",
    "- Type 2 error\n",
    "    - It is also known as a false negative.\n",
    "    - It occurs when we fail to reject a false null hypothesis.\n",
    "    - We conclude that there is no significant effect when in fact there is an effect.\n",
    "    - The probability of making a Type 2 error is denoted by beta (β) and is influenced by factors such as the sample size, effect size, and level of significance.\n",
    "    ####\n",
    "    - Example\n",
    "        - A medical test is designed to detect a disease, but it fails to detect the disease in a patient who actually has the disease.\n",
    "            - This is a Type 2 error.\n",
    "####\n",
    "- In hypothesis testing, we aim to minimize both Type 1 and Type 2 errors, but there is often a trade-off between the two. Lowering the level of significance (α) will reduce the risk of Type 1 error but increase the risk of Type 2 error, while increasing the sample size or the effect size will reduce the risk of Type 2 error but may increase the risk of Type 1 error.\n",
    "- It's important to choose the appropriate level of significance and sample size based on the research question and the consequences of making each type of error."
   ]
  },
  {
   "cell_type": "markdown",
   "metadata": {},
   "source": [
    "## Q4. Explain Bayes's theorem with an example."
   ]
  },
  {
   "cell_type": "markdown",
   "metadata": {},
   "source": [
    "- The theorem is named after Reverend Thomas Bayes, an 18th-century British statistician.\n",
    "- Bayes's theorem is a mathematical formula that describes the relationship between conditional probabilities.\n",
    "- It allows us to update our prior beliefs about the probability of an event, based on new evidence or information.\n",
    "####\n",
    "- Bayes's theorem states that the probability of an event A, given the occurrence of an event B, is equal to the probability of event B given event A, multiplied by the prior probability of event A, divided by the prior probability of event B. Mathematically, it can be expressed as:\n",
    "    - P(A|B) = P(B|A) * P(A) / P(B)\n",
    "        - where:\n",
    "            - P(A|B) is the conditional probability of A given B\n",
    "            - P(B|A) is the conditional probability of B given A\n",
    "            - P(A) is the prior probability of A\n",
    "            - P(B) is the prior probability of B\n",
    "            ####\n",
    "- Example\n",
    "    - A medical test for a rare disease. Let's say the disease affects 1% of the population, and the test is 99% accurate (meaning it correctly identifies 99% of those with the disease and 99% of those without the disease).\n",
    "        - If a person tests positive for the disease, what is the probability that they actually have the disease?\n",
    "    ####\n",
    "    Solution:\n",
    "    ####\n",
    "    - We can use Bayes's theorem to calculate this probability as follows:\n",
    "        - Let A = the event of having the disease\n",
    "        - Let B = the event of testing positive for the disease\n",
    "        - P(A) = 0.01 (the prior probability of having the disease)\n",
    "        - P(B|A) = 0.99 (the probability of testing positive given that he have the disease)\n",
    "        - P(B|not A) = 0.01 (the probability of testing positive given that he does not have the disease)\n",
    "        - P(not A) = 0.99 (the prior probability of not having the disease)\n",
    "    ####\n",
    "    - Using these values, we can calculate the conditional probability of having the disease given a positive test result:\n",
    "        - P(A|B) = P(B|A) * P(A) / P(B)\n",
    "        - P(A|B) = 0.99 * 0.01 / ((0.99 * 0.01) + (0.01 * 0.99))\n",
    "        - P(A|B) = 0.50\n",
    "    ####\n",
    "- This means that the probability of actually having the disease, given a positive test result, is only 50%, despite the high accuracy of the test.\n",
    "- This highlights the importance of understanding the context and prior probabilities when interpreting the results of any statistical analysis or hypothesis testing."
   ]
  },
  {
   "cell_type": "markdown",
   "metadata": {},
   "source": [
    "## Q5. What is a confidence interval? How to calculate the confidence interval, explain with an example. "
   ]
  },
  {
   "cell_type": "markdown",
   "metadata": {},
   "source": [
    "- A confidence interval is a range of values that is likely to contain the true value of a population parameter, such as a mean or a proportion, with a certain level of confidence.\n",
    "- It is an estimation technique used in statistics to express the uncertainty associated with a sample statistic. In other words, a confidence interval is a range of values that we are reasonably sure that the true population parameter lies within.\n",
    "####\n",
    "- The calculation of a confidence interval involves selecting a sample from a population, calculating a statistic (such as a mean or proportion) from the sample, and then constructing an interval around the statistic that accounts for the sampling variability.\n",
    "- The interval is constructed in such a way that it is likely to contain the true population parameter a certain percentage of the time, which is determined by the level of confidence.\n",
    "####\n",
    "- To calculate a confidence interval, we need to determine three things\n",
    "    - The sample statistic\n",
    "    - The level of confidence\n",
    "    - The margin of error\n",
    "        - The margin of error is the amount by which the sample statistic might differ from the true population parameter.\n",
    "####\n",
    "- Example\n",
    "    - Let's say we want to estimate the average height of students in a university. We randomly select a sample of 100 students and measure their height. The sample mean height is 68 inches and the sample standard deviation is 3 inches. We want to construct a 95% confidence interval for the true population mean height.\n",
    "    ####\n",
    "    - Solution\n",
    "    ####\n",
    "    - To calculate the confidence interval, we can use the following formula:\n",
    "        - Confidence interval = sample mean +/- margin of error\n",
    "            - where,\n",
    "                - the margin of error is equal to the critical value multiplied by the standard error.\n",
    "                ####\n",
    "    - The critical value is determined based on the level of confidence and the degrees of freedom (n-1).\n",
    "    - For a 95% confidence interval with 99 degrees of freedom, the critical value is 1.984.\n",
    "    - The standard error is equal to the sample standard deviation divided by the square root of the sample size.\n",
    "        - std = 3 / sqrt(100) = 0.3.\n",
    "        - Plugging these values into the formula, we get:\n",
    "    - Confidence interval = 68 +/- (1.984 * 0.3)\n",
    "    - Confidence  = 68 +/- 0.5952\n",
    "    - Confidence interval = (67.4048, 68.5952)\n",
    "    ####\n",
    "    - So, we can say with 95% confidence that the true population mean height lies within the interval of 67.4048 inches to 68.5952 inches.\n",
    "    - This means that if we repeated the process of selecting a sample and constructing a confidence interval many times, 95% of the resulting intervals would contain the true population mean height."
   ]
  },
  {
   "cell_type": "markdown",
   "metadata": {},
   "source": [
    "## Q6. Use Bayes' Theorem to calculate the probability of an event occurring given prior knowledge of the event's probability and new evidence. Provide a sample problem and solution."
   ]
  },
  {
   "cell_type": "markdown",
   "metadata": {},
   "source": [
    "- Bayes' theorem is a mathematical formula that calculates the probability of an event occurring given prior knowledge of the event's probability and new evidence. The formula is as follows:\n",
    "    - P(A|B) = P(B|A) x P(A) / P(B)\n",
    "        - Where:\n",
    "            - P(A|B) is the probability of A given B (the probability of the event occurring given the new evidence)\n",
    "            - P(B|A) is the probability of B given A (the probability of the new evidence given the event occurring)\n",
    "            - P(A) is the prior probability of A (the probability of the event occurring before any new evidence is considered)\n",
    "            - P(B) is the probability of B (the probability of the new evidence occurring)\n",
    "Here is a sample problem to illustrate how Bayes' theorem works:\n",
    "####\n",
    "- Sample Problem\n",
    "    - In a certain city, 10% of people are left-handed. A study was conducted on a group of 100 people and it was found that 15% of them were left-handed. What is the probability that a randomly selected person from this city is left-handed given this new evidence?\n",
    "    ####\n",
    "    - Solution:\n",
    "    ####\n",
    "    - First, we need to identify the probabilities given in the problem:\n",
    "    - P(A) = 0.1 (the prior probability of being left-handed)\n",
    "    - P(B|A) = 0.15 (the probability of the new evidence, which is being left-handed according to the study, given that a person is left-handed)\n",
    "    - P(B|not A) = 0.85 (the probability of the new evidence, which is being left-handed according to the study, given that a person is not left-handed)\n",
    "    ####\n",
    "    Note: P(B|not A) is equal to 1 - P(B|A), since the probabilities of being left-handed and not being left-handed add up to 1.\n",
    "    ####\n",
    "    - We can now calculate P(B), the probability of the new evidence occurring, by using the law of total probability:\n",
    "    - P(B) = P(B|A) x P(A) + P(B|not A) x P(not A)\n",
    "    - = 0.15 x 0.1 + 0.85 x 0.9\n",
    "    - = 0.165\n",
    "        - Where P(not A) = 1 - P(A) = 0.9 is the probability of not being left-handed.\n",
    "\n",
    "    - Now we can use Bayes' theorem to calculate P(A|B), the probability of being left-handed given the new evidence:\n",
    "    - P(A|B) = P(B|A) x P(A) / P(B)\n",
    "    - = 0.15 x 0.1 / 0.165\n",
    "    - = 0.0909 (rounded to four decimal places)\n",
    "\n",
    "    - So, the probability that a randomly selected person from this city is left-handed given the new evidence is approximately 0.0909 or 9.09%."
   ]
  },
  {
   "cell_type": "markdown",
   "metadata": {},
   "source": [
    "## Q7. Calculate the 95% confidence interval for a sample of data with a mean of 50 and a standard deviation of 5. Interpret the results."
   ]
  },
  {
   "cell_type": "markdown",
   "metadata": {},
   "source": [
    "- To calculate the 95% confidence interval for a sample of data with a mean of 50 and a standard deviation of 5, we need to use the formula:\n",
    "    - CI = x̄ ± z * (σ/√n)\n",
    "        - Where,\n",
    "            - x̄ is the sample mean (50 in this case)\n",
    "            - σ is the population standard deviation (we use the sample standard deviation as an estimate when it is unknown)\n",
    "            - n is the sample size\n",
    "            - z is the z-score associated with the desired level of confidence (in this case, 95% corresponds to a z-score of 1.96)\n",
    "    - Putting in the values, we get:\n",
    "        - CI = 50 ± 1.96 * (5/√n)\n",
    "        ####\n",
    "- To calculate the confidence interval, we need to know the sample size (n). Let's assume that the sample size is 100:\n",
    "    - CI = 50 ± 1.96 * (5/√100)\n",
    "    - = 50 ± 0.98\n",
    "    - The 95% confidence interval for this sample of data is (49.02, 50.98).\n",
    "    ####\n",
    "- Interpretation\n",
    "    - We are 95% confident that the true population mean falls within the range of 49.02 to 50.98.\n",
    "    - If we were to take many samples of the same size from the same population and calculate a 95% confidence interval for each sample, approximately 95% of those intervals would contain the true population mean."
   ]
  },
  {
   "cell_type": "markdown",
   "metadata": {},
   "source": [
    "## Q8. What is the margin of error in a confidence interval? How does sample size affect the margin of error? Provide an example of a scenario where a larger sample size would result in a smaller margin of error."
   ]
  },
  {
   "cell_type": "markdown",
   "metadata": {},
   "source": [
    "- The margin of error is a measure of the precision of an estimate or the uncertainty of a statistic. In the context of confidence intervals, it is the amount added and subtracted to the point estimate to create the interval that will contain the true population parameter with a certain level of confidence.\n",
    "- The margin of error is determined by the sample size, the standard deviation of the population, and the desired level of confidence. As the sample size increases, the margin of error decreases, meaning the estimate becomes more precise.\n",
    "####\n",
    "- A larger sample size results in a smaller margin of error because it reduces the variability in the data and produces a more representative sample of the population.\n",
    "####\n",
    "- Example\n",
    "    - suppose we want to estimate the proportion of students at a university who support a particular candidate in a student government election. If we randomly survey 50 students and find that 60% of them support the candidate, the point estimate is 0.6. If we construct a 95% confidence interval using a sample size of 50, the margin of error is approximately 12.3%:\n",
    "    ####\n",
    "    - CI = 0.6 ± 1.96 * √(0.6 * 0.4 / 50)\n",
    "    - = (0.477, 0.723)\n",
    "    ####\n",
    "    - However, if we increase the sample size to 500, the margin of error decreases to approximately 3.1%:\n",
    "    - CI = 0.6 ± 1.96 * √(0.6 * 0.4 / 500)\n",
    "    - = (0.569, 0.631)\n",
    "####\n",
    "- So, a larger sample size would result in a smaller margin of error and a more precise estimate of the proportion of students who support the candidate."
   ]
  },
  {
   "cell_type": "markdown",
   "metadata": {},
   "source": [
    "## Q9. Calculate the z-score for a data point with a value of 75, a population mean of 70, and a population standard deviation of 5. Interpret the results."
   ]
  },
  {
   "cell_type": "markdown",
   "metadata": {},
   "source": [
    "- To calculate the z-score, we use the formula:\n",
    "    - z = (x - μ) / σ\n",
    "        - Where,\n",
    "            - x = the data point value\n",
    "            - μ = the population mean\n",
    "            - σ = the population standard deviation\n",
    "            ####\n",
    "    - Putting in the values we have:\n",
    "    - z = (75 - 70) / 5\n",
    "    - z = 1\n",
    "####\n",
    "- Interpretation\n",
    "    - A z-score of 1 means that the data point is 1 standard deviation above the population mean.\n",
    "    - This suggests that the data point is somewhat higher than what we would expect from a typical observation in this population.\n",
    "    - The z-score can be used to compare this data point to other observations that may have different scales or units of measurement."
   ]
  },
  {
   "cell_type": "markdown",
   "metadata": {},
   "source": [
    "## Q10. In a study of the effectiveness of a new weight loss drug, a sample of 50 participants lost an average of 6 pounds with a standard deviation of 2.5 pounds. Conduct a hypothesis test to determine if the drug is significantly effective at a 95% confidence level using a t-test."
   ]
  },
  {
   "cell_type": "markdown",
   "metadata": {},
   "source": [
    "- To conduct a hypothesis test to determine if the weight loss drug is significantly effective at a 95% confidence level, we need to set up the null and alternative hypotheses.\n",
    "- Null hypothesis (H0): The true mean weight loss from the drug is equal to 0 pounds.\n",
    "- Alternative hypothesis (Ha): The true mean weight loss from the drug is greater than 0 pounds.\n",
    "####\n",
    "- We will use a one-tailed t-test because we are interested in whether the mean weight loss is greater than 0.\n",
    "- The t-test statistic formula is:\n",
    "    - t = (x̄ - μ) / (s / √n)\n",
    "        - Where:\n",
    "            - x̄ = sample mean\n",
    "            - μ = hypothesized population mean (in this case, 0)\n",
    "            - s = sample standard deviation\n",
    "            - n = sample size\n",
    "            ####\n",
    "    - Putting in the values we have:\n",
    "    - t = (6 - 0) / (2.5 / √50)\n",
    "    - t = 12\n",
    "####\n",
    "- Using a t-distribution table with 49 degrees of freedom (df = n - 1), we find the critical t-value for a one-tailed test with a 95% confidence level to be approximately 1.677.\n",
    "####\n",
    "Since our calculated t-value (t = 12) is greater than the critical t-value (t_crit = 1.677), we reject the null hypothesis and conclude that the weight loss drug is significantly effective at a 95% confidence level.\n",
    "####\n",
    "- Conclusion\n",
    "    - The evidence supports that the mean weight loss from the drug is greater than 0 pounds."
   ]
  },
  {
   "cell_type": "markdown",
   "metadata": {},
   "source": [
    "## Q11. In a survey of 500 people, 65% reported being satisfied with their current job. Calculate the 95% confidence interval for the true proportion of people who are satisfied with their job."
   ]
  },
  {
   "cell_type": "markdown",
   "metadata": {},
   "source": [
    "- To calculate the 95% confidence interval for the true proportion of people who are satisfied with their job, we will use the following formula:\n",
    "    - CI = p ± z* (sqrt(p*(1-p)/n))\n",
    "        - Where:\n",
    "            - p is the sample proportion\n",
    "            - z* is the critical z-value for the desired confidence level (95% confidence level corresponds to z*=1.96)\n",
    "            - n is the sample size\n",
    "            ####\n",
    "- Putting in the values we have:\n",
    "    - CI = 0.65 ± 1.96 * (sqrt(0.65 * (1-0.65)/500))\n",
    "    - CI = 0.65 ± 0.042\n",
    "    ####\n",
    "-The 95% confidence interval for the true proportion of people who are satisfied with their job is (0.608, 0.692).\n",
    "####\n",
    "- This means that we can be 95% confident that the true proportion of people who are satisfied with their job is between 60.8% and 69.2%."
   ]
  },
  {
   "cell_type": "markdown",
   "metadata": {},
   "source": [
    "## Q12. A researcher is testing the effectiveness of two different teaching methods on student performance. Sample A has a mean score of 85 with a standard deviation of 6, while sample B has a mean score of 82 with a standard deviation of 5. Conduct a hypothesis test to determine if the two teaching methods have a significant difference in student performance using a t-test with a significance level of 0.01."
   ]
  },
  {
   "cell_type": "markdown",
   "metadata": {},
   "source": [
    "- To conduct a hypothesis test to determine if the two teaching methods have a significant difference in student performance, we need to set up the null and alternative hypotheses.\n",
    "- Null hypothesis (H0): There is no significant difference between the mean scores of the two teaching methods.\n",
    "- Alternative hypothesis (Ha): There is a significant difference between the mean scores of the two teaching methods.\n",
    "####\n",
    "- We will use a two-tailed t-test with a significance level of 0.01, which means we need to divide the significance level by two to get the critical values for each tail.\n",
    "####\n",
    "- The critical t-values can be obtained from a t-distribution table or using a statistical software, and with a significance level of 0.005 (0.01/2) and degrees of freedom (df) = n1 + n2 - 2, we get a critical t-value of approximately ±2.602.\n",
    "####\n",
    "- The t-test statistic formula for independent samples is:\n",
    "    - t = (x̄1 - x̄2) / (sqrt((s1^2/n1) + (s2^2/n2)))\n",
    "        - Where:\n",
    "        - x̄1 = sample mean of sample A\n",
    "        - x̄2 = sample mean of sample B\n",
    "        - s1 = sample standard deviation of sample A\n",
    "        - s2 = sample standard deviation of sample B\n",
    "        - n1 = sample size of sample A\n",
    "        - n2 = sample size of sample B\n",
    "####\n",
    "- Putting in the values we have:\n",
    "    - t = (85 - 82) / (sqrt((6^2/100) + (5^2/100)))\n",
    "    - t = 1.78\n",
    "####\n",
    "- Since our calculated t-value (t = 1.78) is less than the critical t-value (t_crit = ±2.602), we fail to reject the null hypothesis.\n",
    "####\n",
    "- Conclusion\n",
    "- There is no significant difference between the mean scores of the two teaching methods at a significance level of 0.01.\n",
    "####\n",
    "- So, we cannot conclude that one teaching method is more effective than the other based on this data."
   ]
  },
  {
   "cell_type": "markdown",
   "metadata": {},
   "source": [
    "## Q13. A population has a mean of 60 and a standard deviation of 8. A sample of 50 observations has a mean of 65. Calculate the 90% confidence interval for the true population mean."
   ]
  },
  {
   "cell_type": "markdown",
   "metadata": {},
   "source": [
    "- To calculate the 90% confidence interval for the true population mean, we will use the following formula:\n",
    "    - CI = x̄ ± z* (s / √n)\n",
    "        - where,\n",
    "            - x̄ is the sample mean\n",
    "            - z* is the critical z-value for the desired confidence level (90% confidence level corresponds to z*=1.645)\n",
    "            - s is the population standard deviation\n",
    "            - n is the sample size\n",
    "            ####\n",
    "    - Putting in the values we have:\n",
    "        - CI = 65 ± 1.645 * (8 / √50)\n",
    "        - CI = 65 ± 2.36\n",
    "        ####\n",
    "- The 90% confidence interval for the true population mean is (62.64, 67.36).\n",
    "####\n",
    "- This means that we can be 90% confident that the true population mean is between 62.64 and 67.36."
   ]
  },
  {
   "cell_type": "markdown",
   "metadata": {},
   "source": [
    "## Q14. In a study of the effects of caffeine on reaction time, a sample of 30 participants had an average reaction time of 0.25 seconds with a standard deviation of 0.05 seconds. Conduct a hypothesis test to determine if the caffeine has a significant effect on reaction time at a 90% confidence level using a t-test."
   ]
  },
  {
   "cell_type": "markdown",
   "metadata": {},
   "source": [
    "- To conduct a hypothesis test to determine if caffeine has a significant effect on reaction time, we need to set up the null and alternative hypotheses.\n",
    "- Null hypothesis (H0): Caffeine has no significant effect on reaction time.\n",
    "- Alternative hypothesis (Ha): Caffeine has a significant effect on reaction time.\n",
    "####\n",
    "- We will use a one-tailed t-test with a significance level of 0.1 (90% confidence level), which means we need to find the critical t-value with a degree of freedom (df) = n - 1 and a significance level of 0.1.\n",
    "- Using a t-distribution table or statistical software, we find a critical t-value of approximately 1.697.\n",
    "####\n",
    "- The t-test statistic formula for a sample is:\n",
    "    - t = (x̄ - μ) / (s / √n)\n",
    "        - Where,\n",
    "            - x̄ = sample mean\n",
    "            - μ = hypothesized population mean under the null hypothesis (μ = 0, since we assume that caffeine has no effect on reaction time)\n",
    "            - s = sample standard deviation\n",
    "            - n = sample size\n",
    "            ####\n",
    "- Putting in the values we have:\n",
    "    - t = (0.25 - 0) / (0.05 / √30)\n",
    "    - t = 8.66\n",
    "####\n",
    "- Since our calculated t-value (t = 8.66) is greater than the critical t-value (t_crit = 1.697), we reject the null hypothesis.\n",
    "####\n",
    "- Conclusion\n",
    "    - Caffeine has a significant effect on reaction time at a significance level of 0.1.\n",
    "    ####\n",
    "- So, we can conclude that caffeine has a statistically significant effect on reaction time based on this data."
   ]
  },
  {
   "cell_type": "code",
   "execution_count": null,
   "metadata": {},
   "outputs": [],
   "source": []
  }
 ],
 "metadata": {
  "kernelspec": {
   "display_name": "Python 3 (ipykernel)",
   "language": "python",
   "name": "python3"
  },
  "language_info": {
   "codemirror_mode": {
    "name": "ipython",
    "version": 3
   },
   "file_extension": ".py",
   "mimetype": "text/x-python",
   "name": "python",
   "nbconvert_exporter": "python",
   "pygments_lexer": "ipython3",
   "version": "3.10.8"
  }
 },
 "nbformat": 4,
 "nbformat_minor": 4
}
